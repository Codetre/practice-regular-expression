{
 "cells": [
  {
   "cell_type": "markdown",
   "metadata": {
    "collapsed": true,
    "pycharm": {
     "name": "#%% md\n"
    }
   },
   "source": [
    "# String anchors"
   ]
  },
  {
   "cell_type": "code",
   "execution_count": 5,
   "outputs": [],
   "source": [
    "import re"
   ],
   "metadata": {
    "collapsed": false,
    "pycharm": {
     "name": "#%%\n"
    }
   }
  },
  {
   "cell_type": "markdown",
   "source": [
    "## 용어 설명\n",
    "- constcharacters:\n",
    "- metacharacters: 특수한 기능을 담고 있는 문자. 이 기능을 지닌 문자로 해석하지 않게 만드려면 escaped해야 한다."
   ],
   "metadata": {
    "collapsed": false
   }
  },
  {
   "cell_type": "markdown",
   "source": [
    "## \\A - the start of a string"
   ],
   "metadata": {
    "collapsed": false
   }
  },
  {
   "cell_type": "code",
   "execution_count": 7,
   "outputs": [
    {
     "name": "stdout",
     "output_type": "stream",
     "text": [
      "<re.Match object; span=(0, 3), match='cat'>\n",
      "None\n"
     ]
    }
   ],
   "source": [
    "# 문자열의 시작을 알리는 따옴표 바로 다음에만 찾는다.\n",
    "print(re.search(r'\\Acat', 'cater'))\n",
    "print(re.search(r'\\Acat', 'concatenation'))"
   ],
   "metadata": {
    "collapsed": false,
    "pycharm": {
     "name": "#%%\n"
    }
   }
  },
  {
   "cell_type": "code",
   "execution_count": 8,
   "outputs": [
    {
     "name": "stdout",
     "output_type": "stream",
     "text": [
      "<re.Match object; span=(0, 2), match='hi'>\n",
      "None\n"
     ]
    }
   ],
   "source": [
    "print(re.search(r'\\Ahi', 'hi hello\\ntop spot'))\n",
    "print(re.search(r'\\Atop', 'hi hello\\ntop spot'))  # 개행문자 다음도 기존 문자열의 일부이다."
   ],
   "metadata": {
    "collapsed": false,
    "pycharm": {
     "name": "#%%\n"
    }
   }
  },
  {
   "cell_type": "markdown",
   "source": [
    "## \\Z - the end of a string"
   ],
   "metadata": {
    "collapsed": false
   }
  },
  {
   "cell_type": "code",
   "execution_count": 10,
   "outputs": [
    {
     "name": "stdout",
     "output_type": "stream",
     "text": [
      "<re.Match object; span=(2, 5), match='are'>\n",
      "None\n"
     ]
    }
   ],
   "source": [
    "print(re.search(r'are\\Z', 'spare'))\n",
    "print(re.search(r'are\\Z', 'nearest'))"
   ],
   "metadata": {
    "collapsed": false,
    "pycharm": {
     "name": "#%%\n"
    }
   }
  },
  {
   "cell_type": "code",
   "execution_count": 12,
   "outputs": [
    {
     "name": "stdout",
     "output_type": "stream",
     "text": [
      "er\\Z in surrender: <re.Match object; span=(7, 9), match='er'>\n",
      "er\\Z in unicorn: None\n",
      "er\\Z in newer: <re.Match object; span=(3, 5), match='er'>\n",
      "er\\Z in door: None\n",
      "er\\Z in empty: None\n",
      "er\\Z in eel: None\n",
      "er\\Z in pest: None\n"
     ]
    }
   ],
   "source": [
    "words = ['surrender', 'unicorn', 'newer', 'door', 'empty', 'eel', 'pest']\n",
    "compiled_pattern = re.compile(raw_pattern:=r'er\\Z')\n",
    "for word in words:\n",
    "    print(f'{raw_pattern} in {word}: {compiled_pattern.search(word)}')"
   ],
   "metadata": {
    "collapsed": false,
    "pycharm": {
     "name": "#%%\n"
    }
   }
  },
  {
   "cell_type": "code",
   "execution_count": 14,
   "outputs": [
    {
     "name": "stdout",
     "output_type": "stream",
     "text": [
      "relive\n",
      "hacker\n"
     ]
    }
   ],
   "source": [
    "print(re.sub(r'\\A', 're', 'live'))\n",
    "print(re.sub(r'\\Z', 'er', 'hack'))"
   ],
   "metadata": {
    "collapsed": false,
    "pycharm": {
     "name": "#%%\n"
    }
   }
  },
  {
   "cell_type": "code",
   "execution_count": 20,
   "outputs": [
    {
     "name": "stdout",
     "output_type": "stream",
     "text": [
      "None\n",
      "<re.Match object; span=(0, 2), match='at'>\n"
     ]
    }
   ],
   "source": [
    "not_found = re.search(r'\\Aat', 'cater', 1)\n",
    "found = re.search(r'\\Aat', 'cater'[1:])\n",
    "\n",
    "print(not_found)\n",
    "print(found)"
   ],
   "metadata": {
    "collapsed": false,
    "pycharm": {
     "name": "#%%\n"
    }
   }
  },
  {
   "cell_type": "markdown",
   "source": [
    "## fullmatch"
   ],
   "metadata": {
    "collapsed": false,
    "pycharm": {
     "name": "#%% md\n"
    }
   }
  },
  {
   "cell_type": "code",
   "execution_count": 23,
   "outputs": [],
   "source": [
    "found = re.search(r'\\Acat\\Z', 'cat')\n",
    "matched = re.fullmatch(r'cat', 'cat')\n",
    "\n",
    "not_found = re.search(r'\\Acat\\Z', 'concatenation')\n",
    "not_matched = re.fullmatch(r'cat', 'concatenation')"
   ],
   "metadata": {
    "collapsed": false,
    "pycharm": {
     "name": "#%%\n"
    }
   }
  },
  {
   "cell_type": "markdown",
   "source": [
    "# Line anchors"
   ],
   "metadata": {
    "collapsed": false,
    "pycharm": {
     "name": "#%% md\n"
    }
   }
  },
  {
   "cell_type": "markdown",
   "source": [
    "## ^ - start of the line\n",
    "여기서 'line'은 MULTILINE 플래그에 의해 \\n가 줄의 시작으로 해석된 문자열을 의미한다.\n",
    "이 플래그가 없으면 line의 시작은 문자열의 시작과 일치한다."
   ],
   "metadata": {
    "collapsed": false,
    "pycharm": {
     "name": "#%% md\n"
    }
   }
  },
  {
   "cell_type": "code",
   "execution_count": 45,
   "outputs": [
    {
     "name": "stdout",
     "output_type": "stream",
     "text": [
      "None\n",
      "<re.Match object; span=(5, 8), match='123'>\n"
     ]
    }
   ],
   "source": [
    "string, line_pattern = '\\nabc\\n123', r'^123'\n",
    "\n",
    "print(re.search(line_pattern, string))  # 문자열은 1줄로 해석.\n",
    "print(re.search(line_pattern, string, re.M))  # 문자열은 2줄로 해석."
   ],
   "metadata": {
    "collapsed": false,
    "pycharm": {
     "name": "#%%\n"
    }
   }
  },
  {
   "cell_type": "code",
   "execution_count": 46,
   "outputs": [
    {
     "name": "stdout",
     "output_type": "stream",
     "text": [
      "<re.Match object; span=(3, 8), match='there'>\n"
     ]
    }
   ],
   "source": [
    "greeting = 'hi there\\nhave a nice day\\n'\n",
    "print(re.search(r'there$', greeting, flags=re.MULTILINE))\n",
    "# $는 문자열의 끝을 알리는 '를 만나거나, 혹은 마지막 \\n을 의미.\n",
    "# \\Z는 오로지 문자열의 끝을 알리는 '에만 반응."
   ],
   "metadata": {
    "collapsed": false,
    "pycharm": {
     "name": "#%%\n"
    }
   }
  },
  {
   "cell_type": "code",
   "execution_count": 52,
   "outputs": [
    {
     "name": "stdout",
     "output_type": "stream",
     "text": [
      "* catapults\n",
      "* concatenate\n",
      "* cat\n",
      "catapults.\n",
      "concatenate.\n",
      "cat.\n"
     ]
    }
   ],
   "source": [
    "lines = 'catapults\\nconcatenate\\ncat'\n",
    "print(re.sub(r'^', '* ', lines, flags=re.M))\n",
    "print(re.sub(r'$', '.', lines, flags=re.M))"
   ],
   "metadata": {
    "collapsed": false,
    "pycharm": {
     "name": "#%%\n"
    }
   }
  },
  {
   "cell_type": "markdown",
   "source": [
    "## word anchors\n",
    "word: alphanumeric이나 _로 구성되고, 양 옆에 그 외 기호가 놓인 문자 시퀀스."
   ],
   "metadata": {
    "collapsed": false
   }
  },
  {
   "cell_type": "code",
   "execution_count": 53,
   "outputs": [
    {
     "name": "stdout",
     "output_type": "stream",
     "text": [
      "X sX apXent sXe Xt\n",
      "X spar apparent spare Xt\n",
      "X sX apparent spare part\n",
      "X spar apparent spare part\n"
     ]
    }
   ],
   "source": [
    "words = 'par spar apparent spare part'\n",
    "\n",
    "# replace 'par' irrespective of where it occurs\n",
    "print(re.sub(r'par', 'X', words))\n",
    "\n",
    "# replace 'par' only at start of word\n",
    "print(re.sub(r'\\bpar', 'X', words))\n",
    "\n",
    "# replace 'par' only at end of word\n",
    "print(re.sub(r'par\\b', 'X', words))\n",
    "\n",
    "# replace 'par' only if it is not part of another word\n",
    "print(re.sub(r'\\bpar\\b', 'X', words))"
   ],
   "metadata": {
    "collapsed": false,
    "pycharm": {
     "name": "#%%\n"
    }
   }
  },
  {
   "cell_type": "code",
   "execution_count": 58,
   "outputs": [
    {
     "name": "stdout",
     "output_type": "stream",
     "text": [
      "\"par\" \"spar\" \"apparent\" \"spare\" \"part\"\n",
      "--- hello ---\n",
      " circumference = 2 * pi * r \n"
     ]
    }
   ],
   "source": [
    "print(re.sub(r'\\b', '\"', words))\n",
    "print(re.sub(r'\\b', ' ', '---hello---'))\n",
    "print(re.sub(r'\\b', ' ', 'circumference=2*pi*r'))"
   ],
   "metadata": {
    "collapsed": false,
    "pycharm": {
     "name": "#%%\n"
    }
   }
  },
  {
   "cell_type": "code",
   "execution_count": 67,
   "outputs": [
    {
     "name": "stdout",
     "output_type": "stream",
     "text": [
      "par sX apXent sXe part\n",
      "par sX apparent spare part\n",
      "par spar apXent sXe Xt\n",
      "par spar apXent sXe part\n"
     ]
    }
   ],
   "source": [
    "words = 'par spar apparent spare part'\n",
    "print(re.sub(r'\\Bpar', 'X', words))\n",
    "print(re.sub(r'\\Bpar\\b', 'X', words))\n",
    "print(re.sub(r'par\\B', 'X', words))\n",
    "print(re.sub(r'\\Bpar\\B', 'X', words))"
   ],
   "metadata": {
    "collapsed": false,
    "pycharm": {
     "name": "#%%\n"
    }
   }
  },
  {
   "cell_type": "code",
   "execution_count": 71,
   "outputs": [
    {
     "data": {
      "text/plain": "' - - -h e l l o- - - '"
     },
     "execution_count": 71,
     "metadata": {},
     "output_type": "execute_result"
    }
   ],
   "source": [
    "re.sub(r'\\b', ':', 'copper')\n",
    "re.sub(r'\\B', ':', 'copper')\n",
    "\n",
    "re.sub(r'\\b', ' ', '---hello---')\n",
    "re.sub(r'\\B', ' ', '---hello---')"
   ],
   "metadata": {
    "collapsed": false,
    "pycharm": {
     "name": "#%%\n"
    }
   }
  },
  {
   "cell_type": "markdown",
   "source": [
    "# Exercises"
   ],
   "metadata": {
    "collapsed": false,
    "pycharm": {
     "name": "#%% md\n"
    }
   }
  },
  {
   "cell_type": "code",
   "execution_count": 74,
   "outputs": [],
   "source": [
    "# E1. Check if the given strings start with 'be'.\n",
    "line1 = 'be nice'\n",
    "line2 = '\"best!\"'\n",
    "line3 = 'better?'\n",
    "line4 = 'oh no\\nbear spotted'"
   ],
   "metadata": {
    "collapsed": false,
    "pycharm": {
     "name": "#%%\n"
    }
   }
  },
  {
   "cell_type": "code",
   "execution_count": 77,
   "outputs": [
    {
     "name": "stdout",
     "output_type": "stream",
     "text": [
      "True\n",
      "False\n",
      "True\n",
      "False\n"
     ]
    }
   ],
   "source": [
    "# A1\n",
    "pat = re.compile(r'^be')\n",
    "\n",
    "print(bool(pat.search(line1)))  # True\n",
    "print(bool(pat.search(line2)))  # False\n",
    "print(bool(pat.search(line3)))  # True\n",
    "print(bool(pat.search(line4)))  # False"
   ],
   "metadata": {
    "collapsed": false,
    "pycharm": {
     "name": "#%%\n"
    }
   }
  },
  {
   "cell_type": "code",
   "execution_count": 73,
   "outputs": [],
   "source": [
    "# E2. For the given input string, change only whole word 'red' to 'brown'.\n",
    "words = 'bred red spread credible'"
   ],
   "metadata": {
    "collapsed": false,
    "pycharm": {
     "name": "#%%\n"
    }
   }
  },
  {
   "cell_type": "code",
   "execution_count": 80,
   "outputs": [
    {
     "data": {
      "text/plain": "'bred brown spread credible'"
     },
     "execution_count": 80,
     "metadata": {},
     "output_type": "execute_result"
    }
   ],
   "source": [
    "# A2\n",
    "print(substr := re.sub(r'\\bred\\b', 'brown', words))  # 'bred brown spread credible'"
   ],
   "metadata": {
    "collapsed": false,
    "pycharm": {
     "name": "#%%\n"
    }
   }
  },
  {
   "cell_type": "code",
   "execution_count": 85,
   "outputs": [],
   "source": [
    "# E3. For the given input list, filter all elements that contain '42' surrounded\n",
    "# by word characters(\\w).\n",
    "words = ['hi42bye', 'nice1423', 'bad42', 'cool_42a', 'fake4b']"
   ],
   "metadata": {
    "collapsed": false,
    "pycharm": {
     "name": "#%%\n"
    }
   }
  },
  {
   "cell_type": "code",
   "execution_count": 88,
   "outputs": [
    {
     "name": "stdout",
     "output_type": "stream",
     "text": [
      "['hi42bye', 'nice1423', 'cool_42a']\n"
     ]
    }
   ],
   "source": [
    "# A3\n",
    "# ['hi42bye', 'nice1423', 'cool_42a']\n",
    "matched = [w for w in words if re.search(r'\\B42\\B', w)]\n",
    "print(matched)"
   ],
   "metadata": {
    "collapsed": false,
    "pycharm": {
     "name": "#%%\n"
    }
   }
  },
  {
   "cell_type": "code",
   "execution_count": 91,
   "outputs": [],
   "source": [
    "# E4. For the given input list, filter all strings that start with 'den'\n",
    "# or end with 'ly'.\n",
    "items = ['lovely', '1\\ndentist', '2 lonely', 'eden', 'fly\\n', 'dent']"
   ],
   "metadata": {
    "collapsed": false,
    "pycharm": {
     "name": "#%%\n"
    }
   }
  },
  {
   "cell_type": "code",
   "execution_count": 94,
   "outputs": [
    {
     "name": "stdout",
     "output_type": "stream",
     "text": [
      "['lovely', '2 lonely', 'dent']\n"
     ]
    }
   ],
   "source": [
    "# A4\n",
    "# ['lovely', '2 lonely', 'dent']\n",
    "raw_pattern1, raw_pattern2 = r'\\Aden', r'ly\\Z'\n",
    "matched = [item for item in items if re.search(raw_pattern1, item)\n",
    "           or re.search(raw_pattern2, item)]\n",
    "print(matched)"
   ],
   "metadata": {
    "collapsed": false,
    "pycharm": {
     "name": "#%%\n"
    }
   }
  },
  {
   "cell_type": "code",
   "execution_count": 96,
   "outputs": [],
   "source": [
    "# E5. For the given input string, change whole word 'mall' to '1234' only if\n",
    "# it is at the start of a line.\n",
    "para = '''\\\n",
    "ball fall wall tall\n",
    "mall call ball pall\n",
    "wall mall ball fall\n",
    "mallet wallet malls'''"
   ],
   "metadata": {
    "collapsed": false,
    "pycharm": {
     "name": "#%%\n"
    }
   }
  },
  {
   "cell_type": "code",
   "execution_count": 118,
   "outputs": [
    {
     "name": "stdout",
     "output_type": "stream",
     "text": [
      "ball fall wall tall\n",
      "1234 call ball pall\n",
      "wall mall ball fall\n",
      "mallet wallet malls\n"
     ]
    }
   ],
   "source": [
    "# A5\n",
    "# ball fall wall tall\n",
    "# 1234 call ball pall\n",
    "# wall mall ball fall\n",
    "# mallet wallet malls\n",
    "print(re.sub(r'^mall\\b', '1234', para, flags=re.M))"
   ],
   "metadata": {
    "collapsed": false,
    "pycharm": {
     "name": "#%%\n"
    }
   }
  },
  {
   "cell_type": "code",
   "execution_count": 119,
   "outputs": [],
   "source": [
    "# E6. For the given list, filter all elements having a line starting with 'den'\n",
    "# or ending with 'ly'.\n",
    "items = ['lovely', '1\\ndentist', '2 lonely', 'eden', 'fly\\nfar', 'dent']"
   ],
   "metadata": {
    "collapsed": false,
    "pycharm": {
     "name": "#%%\n"
    }
   }
  },
  {
   "cell_type": "code",
   "execution_count": 123,
   "outputs": [
    {
     "name": "stdout",
     "output_type": "stream",
     "text": [
      "['lovely', '1\\ndentist', '2 lonely', 'fly\\nfar', 'dent']\n"
     ]
    }
   ],
   "source": [
    "# A6\n",
    "# ['lovely', '1\\ndentist', '2 lonely', 'fly\\nfar', 'dent']\n",
    "matched = [item for item in items if re.search(r'^den', item, flags=re.M)\n",
    "           or re.search(r'ly$', item, flags=re.M)]\n",
    "print(matched)"
   ],
   "metadata": {
    "collapsed": false,
    "pycharm": {
     "name": "#%%\n"
    }
   }
  },
  {
   "cell_type": "code",
   "execution_count": 124,
   "outputs": [],
   "source": [
    "# E7. For the given input list, filter all whole elements '12\\nthree' irrespective of case.\n",
    "items = ['12\\nthree\\n', '12\\nThree', '12\\nthree\\n4', '12\\nthree']"
   ],
   "metadata": {
    "collapsed": false,
    "pycharm": {
     "name": "#%%\n"
    }
   }
  },
  {
   "cell_type": "code",
   "execution_count": 130,
   "outputs": [
    {
     "name": "stdout",
     "output_type": "stream",
     "text": [
      "['12\\nThree', '12\\nthree'] ['12\\nThree', '12\\nthree']\n"
     ]
    }
   ],
   "source": [
    "# A7\n",
    "# ['12\\nThree', '12\\nthree']\n",
    "matched1 = [item for item in items if re.fullmatch(r'12\\nthree', item, flags=re.I)]\n",
    "matched2 = [item for item in items if re.search(r'\\A12\\nthree\\Z', item, flags=re.I)]\n",
    "print(matched1, matched2)"
   ],
   "metadata": {
    "collapsed": false,
    "pycharm": {
     "name": "#%%\n"
    }
   }
  },
  {
   "cell_type": "code",
   "execution_count": 131,
   "outputs": [],
   "source": [
    "# E8. For the given input list, replace 'hand' with 'X' for all elements that\n",
    "# start with 'hand' followed by at least one word character.\n",
    "items = ['handed', 'hand', 'handy', 'unhanded', 'handle', 'hand-2']"
   ],
   "metadata": {
    "collapsed": false,
    "pycharm": {
     "name": "#%%\n"
    }
   }
  },
  {
   "cell_type": "code",
   "execution_count": 139,
   "outputs": [
    {
     "name": "stdout",
     "output_type": "stream",
     "text": [
      "['Xed', 'hand', 'Xy', 'unhanded', 'Xle', 'hand-2']\n"
     ]
    }
   ],
   "source": [
    "# A9\n",
    "# ['Xed', 'hand', 'Xy', 'unhanded', 'Xle', 'hand-2']\n",
    "subs = [re.sub(r'^hand\\B', 'X', item) for item in items]\n",
    "print(subs)"
   ],
   "metadata": {
    "collapsed": false,
    "pycharm": {
     "name": "#%%\n"
    }
   }
  },
  {
   "cell_type": "code",
   "execution_count": 140,
   "outputs": [],
   "source": [
    "# E9. For the given input list, filter all elements starting with 'h'.\n",
    "# Additionally, replace 'e' with 'X' for these filtered elements.\n",
    "items = ['handed', 'hand', 'handy', 'unhanded', 'handle', 'hand-2']"
   ],
   "metadata": {
    "collapsed": false,
    "pycharm": {
     "name": "#%%\n"
    }
   }
  },
  {
   "cell_type": "code",
   "execution_count": 145,
   "outputs": [
    {
     "name": "stdout",
     "output_type": "stream",
     "text": [
      "['handXd', 'hand', 'handy', 'handlX', 'hand-2']\n"
     ]
    }
   ],
   "source": [
    "# A9\n",
    "# ['handXd', 'hand', 'handy', 'handlX', 'hand-2']\n",
    "subs = [re.sub(r'e', 'X', item) for item in items if re.search(r'\\Ah', item)]\n",
    "print(subs)"
   ],
   "metadata": {
    "collapsed": false,
    "pycharm": {
     "name": "#%%\n"
    }
   }
  },
  {
   "cell_type": "code",
   "execution_count": null,
   "outputs": [],
   "source": [],
   "metadata": {
    "collapsed": false,
    "pycharm": {
     "name": "#%%\n"
    }
   }
  }
 ],
 "metadata": {
  "kernelspec": {
   "display_name": "Python 3",
   "language": "python",
   "name": "python3"
  },
  "language_info": {
   "codemirror_mode": {
    "name": "ipython",
    "version": 2
   },
   "file_extension": ".py",
   "mimetype": "text/x-python",
   "name": "python",
   "nbconvert_exporter": "python",
   "pygments_lexer": "ipython2",
   "version": "2.7.6"
  }
 },
 "nbformat": 4,
 "nbformat_minor": 0
}