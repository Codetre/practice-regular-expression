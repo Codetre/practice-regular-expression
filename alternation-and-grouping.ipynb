{
 "cells": [
  {
   "cell_type": "code",
   "execution_count": 1,
   "metadata": {
    "collapsed": true
   },
   "outputs": [],
   "source": [
    "import re"
   ]
  },
  {
   "cell_type": "markdown",
   "source": [
    "# Alternation\n",
    "'alternation'은 여기서는 '대안'이라는 의미로 쓰이며, 이를 나타내는데 `|` 기호를 사용한다."
   ],
   "metadata": {
    "collapsed": false
   }
  },
  {
   "cell_type": "code",
   "execution_count": 12,
   "outputs": [
    {
     "name": "stdout",
     "output_type": "stream",
     "text": [
      "True True False\n"
     ]
    }
   ],
   "source": [
    "sentence1 = 'I like cats'\n",
    "sentence2 = 'I like dogs'\n",
    "sentence3 = 'I like parrots'\n",
    "\n",
    "compiled_pattern = re.compile(r'cat|dog')\n",
    "matched1 = compiled_pattern.search(sentence1)\n",
    "matched2 = compiled_pattern.search(sentence2)\n",
    "matched3 = compiled_pattern.search(sentence3)\n",
    "\n",
    "print(bool(matched1),\n",
    "      bool(matched2),\n",
    "      bool(matched3))"
   ],
   "metadata": {
    "collapsed": false,
    "pycharm": {
     "name": "#%%\n"
    }
   }
  },
  {
   "cell_type": "code",
   "execution_count": 13,
   "outputs": [
    {
     "data": {
      "text/plain": "'Xapults concatenate X sX'"
     },
     "execution_count": 13,
     "metadata": {},
     "output_type": "execute_result"
    }
   ],
   "source": [
    "# Replace 'cat' at the start of a string or\n",
    "# at the end of a word.\n",
    "re.sub(r'\\Acat|cat\\b', 'X', 'catapults concatenate cat scat')"
   ],
   "metadata": {
    "collapsed": false,
    "pycharm": {
     "name": "#%%\n"
    }
   }
  },
  {
   "cell_type": "code",
   "execution_count": 19,
   "outputs": [
    {
     "name": "stdout",
     "output_type": "stream",
     "text": [
      "cat|dog\n"
     ]
    },
    {
     "data": {
      "text/plain": "'mammal mammal parrot'"
     },
     "execution_count": 19,
     "metadata": {},
     "output_type": "execute_result"
    }
   ],
   "source": [
    "re.sub(raw_pattern := '|'.join(['cat', 'dog']), 'mammal', 'cat dog parrot')"
   ],
   "metadata": {
    "collapsed": false,
    "pycharm": {
     "name": "#%%\n"
    }
   }
  },
  {
   "cell_type": "markdown",
   "source": [
    "# Grouping\n",
    "Get pattern inside `()`."
   ],
   "metadata": {
    "collapsed": false,
    "pycharm": {
     "name": "#%% md\n"
    }
   }
  },
  {
   "cell_type": "code",
   "execution_count": 25,
   "outputs": [
    {
     "name": "stdout",
     "output_type": "stream",
     "text": [
      "red X read arX\n",
      "red X read arX\n"
     ]
    }
   ],
   "source": [
    "# without grouping\n",
    "substr1 = re.sub(r'reform|rest', 'X', 'red reform read arrest')\n",
    "# with grouping\n",
    "substr2 = re.sub(r're(form|st)', 'X', 'red reform read arrest')\n",
    "print('\\n'.join([substr1, substr2]))"
   ],
   "metadata": {
    "collapsed": false,
    "pycharm": {
     "name": "#%%\n"
    }
   }
  },
  {
   "cell_type": "code",
   "execution_count": 27,
   "outputs": [
    {
     "name": "stdout",
     "output_type": "stream",
     "text": [
      "X spare X party\n",
      "X spare X party\n",
      "X spare X party\n"
     ]
    }
   ],
   "source": [
    "matched1 = re.sub(r'\\bpar\\b|\\bpart\\b', 'X', 'par spare part party')\n",
    "matched2 = re.sub(r'\\b(par|part)\\b', 'X', 'par spare part party')\n",
    "matched3 = re.sub(r'\\bpar(|t)\\b', 'X', 'par spare part party')\n",
    "print('\\n'.join([matched1, matched2, matched3]))"
   ],
   "metadata": {
    "collapsed": false,
    "pycharm": {
     "name": "#%%\n"
    }
   }
  },
  {
   "cell_type": "code",
   "execution_count": 32,
   "outputs": [
    {
     "name": "stdout",
     "output_type": "stream",
     "text": [
      "['it', 'no']\n",
      "['it', 'no']\n"
     ]
    }
   ],
   "source": [
    "terms = ['no', 'ten', 'it']\n",
    "items = ['dip', 'nobody', 'it', 'oh', 'no', 'bitten']\n",
    "\n",
    "# Method 1\n",
    "raw_pattern = r'\\b(' + '|'.join(terms) + r')\\b'\n",
    "compiled_pattern = re.compile(raw_pattern)\n",
    "matched = [compiled_pattern.search(item).string for item in items\n",
    "           if compiled_pattern.search(item)]\n",
    "print(matched)\n",
    "\n",
    "# Method 2 (using `fullmatch`)\n",
    "raw_pattern = '|'.join(terms)\n",
    "compiled_pattern = re.compile(raw_pattern)\n",
    "matched = [compiled_pattern.fullmatch(item).string for item in items\n",
    "           if compiled_pattern.fullmatch(item)]\n",
    "print(matched)"
   ],
   "metadata": {
    "collapsed": false,
    "pycharm": {
     "name": "#%%\n"
    }
   }
  },
  {
   "cell_type": "markdown",
   "source": [
    "# Precedence rules"
   ],
   "metadata": {
    "collapsed": false,
    "pycharm": {
     "name": "#%% md\n"
    }
   }
  },
  {
   "cell_type": "code",
   "execution_count": 39,
   "outputs": [
    {
     "name": "stdout",
     "output_type": "stream",
     "text": [
      "2 10\n",
      "['liX elephant are rope not', 'liX elephant are rope not']\n"
     ]
    }
   ],
   "source": [
    "# Scenario 1\n",
    "words = 'lion elephant are rope not'\n",
    "\n",
    "matched1 = re.search(r'on', words)\n",
    "beg1, end1 = matched1.span()\n",
    "\n",
    "matched2 = re.search(r'ant', words)\n",
    "beg2, end2 = matched2.span()\n",
    "\n",
    "print(beg1, beg2)\n",
    "\n",
    "# 'on' is followed by 'ant' in the text.\n",
    "# which means 'on' has precedence than 'ant'.\n",
    "substr1 = re.sub(r'on|ant', 'X', words, count=1)\n",
    "substr2 = re.sub(r'ant|on', 'X', words, count=1)\n",
    "print([substr1, substr2])"
   ],
   "metadata": {
    "collapsed": false,
    "pycharm": {
     "name": "#%%\n"
    }
   }
  },
  {
   "cell_type": "code",
   "execution_count": 41,
   "outputs": [
    {
     "name": "stdout",
     "output_type": "stream",
     "text": [
      "5 5\n",
      "best Xs \n",
      " best X\n"
     ]
    }
   ],
   "source": [
    "# Scenario 2: on the same beginning index\n",
    "mood = 'best years'\n",
    "beg1, end1 = re.search(r'year', mood).span()\n",
    "beg2, end2 = re.search(r'years', mood).span()\n",
    "print(beg1, beg2)\n",
    "\n",
    "# starting index for 'year' and 'years' will always be same\n",
    "# so, which one gets replaced depends on the order of alternation\n",
    "substr1 = re.sub(r'year|years', 'X', mood, count=1)\n",
    "substr2 = re.sub(r'years|year', 'X', mood, count=1)\n",
    "print(substr1, '\\n', substr2)"
   ],
   "metadata": {
    "collapsed": false,
    "pycharm": {
     "name": "#%%\n"
    }
   }
  },
  {
   "cell_type": "code",
   "execution_count": 42,
   "outputs": [
    {
     "name": "stdout",
     "output_type": "stream",
     "text": [
      "eX xerox at mXe pXt leXn eye\n",
      "eX xerox at mX pXt leXn eye\n",
      "eX xerox at mX pX leXn eye\n"
     ]
    }
   ],
   "source": [
    "# 작동방식: (alt1, alt2, ...)에서\n",
    "# 1. alt1을 들고 텍스트를 검사하며 일치하는 문자열을 대체한다.\n",
    "# 2. alt2를 들고 텍스트를 검사하며 일치하는 문자열을 대체한다.\n",
    "# 이런 식으로 ()안에 나열된 순서대로 대체를 반복한다.\n",
    "# 이 말은 짧은 alt 때문에 긴 alt의 대체에 실패하길 원치 않으면 alt 순서를 단어 길이가 긴 순으로 나열해라.\n",
    "words = 'ear xerox at mare part learn eye'\n",
    "\n",
    "# this is going to be same as: r'ar'\n",
    "substr1 = re.sub(r'ar|are|art', 'X', words)\n",
    "\n",
    "# this is going to be same as: r'are|ar'\n",
    "substr2 = re.sub(r'are|ar|art', 'X', words)\n",
    "\n",
    "# phew, finally this one works as needed\n",
    "substr3 = re.sub(r'are|art|ar', 'X', words)\n",
    "\n",
    "print('\\n'.join([substr1, substr2, substr3]))"
   ],
   "metadata": {
    "collapsed": false,
    "pycharm": {
     "name": "#%%\n"
    }
   }
  },
  {
   "cell_type": "markdown",
   "source": [
    "# Exercises"
   ],
   "metadata": {
    "collapsed": false,
    "pycharm": {
     "name": "#%% md\n"
    }
   }
  },
  {
   "cell_type": "code",
   "execution_count": 51,
   "outputs": [],
   "source": [
    "# E1. For the given input list, filter all elements that start with 'den' or\n",
    "# end with 'ly'.\n",
    "items = ['lovely', '1\\ndentist', '2 lonely', 'eden', 'fly\\n', 'dent']"
   ],
   "metadata": {
    "collapsed": false,
    "pycharm": {
     "name": "#%%\n"
    }
   }
  },
  {
   "cell_type": "code",
   "execution_count": 55,
   "outputs": [
    {
     "name": "stdout",
     "output_type": "stream",
     "text": [
      "['lovely', '2 lonely', 'dent']\n"
     ]
    }
   ],
   "source": [
    "# A1\n",
    "# ['lovely', '2 lonely', 'dent']\n",
    "raw_pattern = r'\\Aden|ly\\Z'\n",
    "compiled_pattern = re.compile(raw_pattern)\n",
    "matched = [item for item in items if compiled_pattern.search(item)]\n",
    "print(matched)"
   ],
   "metadata": {
    "collapsed": false,
    "pycharm": {
     "name": "#%%\n"
    }
   }
  },
  {
   "cell_type": "code",
   "execution_count": 56,
   "outputs": [],
   "source": [
    "# E2. For the given list, filter all elements having a line starting with 'den'\n",
    "# or ending with 'ly'.\n",
    "items = ['lovely', '1\\ndentist', '2 lonely', 'eden', 'fly\\nfar', 'dent']"
   ],
   "metadata": {
    "collapsed": false,
    "pycharm": {
     "name": "#%%\n"
    }
   }
  },
  {
   "cell_type": "code",
   "execution_count": 59,
   "outputs": [
    {
     "name": "stdout",
     "output_type": "stream",
     "text": [
      "['lovely', '1\\ndentist', '2 lonely', 'fly\\nfar', 'dent']\n"
     ]
    }
   ],
   "source": [
    "# A2\n",
    "# ['lovely', '1\\ndentist', '2 lonely', 'fly\\nfar', 'dent']\n",
    "raw_pattern = r'^den|ly$'\n",
    "compiled_pattern = re.compile(raw_pattern, flags=re.M)\n",
    "matched = [item for item in items if compiled_pattern.search(item)]\n",
    "print(matched)"
   ],
   "metadata": {
    "collapsed": false,
    "pycharm": {
     "name": "#%%\n"
    }
   }
  },
  {
   "cell_type": "code",
   "execution_count": 60,
   "outputs": [],
   "source": [
    "# E3. For the given input strings, replace all occurrences of\n",
    "# 'removed' or 'reed' or 'received' or 'refused' with 'X'.\n",
    "s1 = 'creed refuse removed read'\n",
    "s2 = 'refused reed redo received'"
   ],
   "metadata": {
    "collapsed": false,
    "pycharm": {
     "name": "#%%\n"
    }
   }
  },
  {
   "cell_type": "code",
   "execution_count": 63,
   "outputs": [
    {
     "name": "stdout",
     "output_type": "stream",
     "text": [
      "cX refuse X read\n",
      "X X redo X\n"
     ]
    }
   ],
   "source": [
    "# A3\n",
    "pat = re.compile(r're(mov|ceiv|fus|)ed')\n",
    "\n",
    "print(pat.sub('X', s1))\n",
    "# 'cX refuse X read'\n",
    "print(pat.sub('X', s2))\n",
    "# 'X X redo X'"
   ],
   "metadata": {
    "collapsed": false,
    "pycharm": {
     "name": "#%%\n"
    }
   }
  },
  {
   "cell_type": "code",
   "execution_count": 66,
   "outputs": [],
   "source": [
    "# E4. For the given input strings, replace all matches from the list `words`\n",
    "# with 'A'.\n",
    "\n",
    "s1 = 'plate full of slate'\n",
    "s2 = \"slated for later, don't be late\"\n",
    "words = ['late', 'later', 'slated']"
   ],
   "metadata": {
    "collapsed": false,
    "pycharm": {
     "name": "#%%\n"
    }
   }
  },
  {
   "cell_type": "code",
   "execution_count": 67,
   "outputs": [
    {
     "name": "stdout",
     "output_type": "stream",
     "text": [
      "pA full of sA\n",
      "A for A, don't be A\n"
     ]
    }
   ],
   "source": [
    "# A4\n",
    "raw_pattern = '|'.join(sorted(words, key=len, reverse=True))\n",
    "pat = re.compile(raw_pattern)\n",
    "\n",
    "print(pat.sub('A', s1))\n",
    "# 'pA full of sA'\n",
    "print(pat.sub('A', s2))\n",
    "# \"A for A, don't be A\""
   ],
   "metadata": {
    "collapsed": false,
    "pycharm": {
     "name": "#%%\n"
    }
   }
  },
  {
   "cell_type": "code",
   "execution_count": 75,
   "outputs": [],
   "source": [
    "# E5. Filter all whole elements from the input list `items` based on elements\n",
    "# listed in `words`.\n",
    "items = ['slate', 'later', 'plate', 'late', 'slates', 'slated ']\n",
    "words = ['late', 'later', 'slated']"
   ],
   "metadata": {
    "collapsed": false,
    "pycharm": {
     "name": "#%%\n"
    }
   }
  },
  {
   "cell_type": "code",
   "execution_count": 79,
   "outputs": [
    {
     "name": "stdout",
     "output_type": "stream",
     "text": [
      "['later', 'late']\n"
     ]
    }
   ],
   "source": [
    "# A5\n",
    "# ['later', 'late']\n",
    "raw_pattern = '|'.join(sorted(words, key=len, reverse=True))\n",
    "compiled_pattern = re.compile(raw_pattern)\n",
    "\n",
    "matched = [item for item in items if compiled_pattern.fullmatch(item)]\n",
    "print(matched)"
   ],
   "metadata": {
    "collapsed": false,
    "pycharm": {
     "name": "#%%\n"
    }
   }
  },
  {
   "cell_type": "code",
   "execution_count": null,
   "outputs": [],
   "source": [],
   "metadata": {
    "collapsed": false,
    "pycharm": {
     "name": "#%%\n"
    }
   }
  }
 ],
 "metadata": {
  "kernelspec": {
   "display_name": "Python 3",
   "language": "python",
   "name": "python3"
  },
  "language_info": {
   "codemirror_mode": {
    "name": "ipython",
    "version": 2
   },
   "file_extension": ".py",
   "mimetype": "text/x-python",
   "name": "python",
   "nbconvert_exporter": "python",
   "pygments_lexer": "ipython2",
   "version": "2.7.6"
  }
 },
 "nbformat": 4,
 "nbformat_minor": 0
}