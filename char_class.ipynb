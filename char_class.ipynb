{
 "cells": [
  {
   "cell_type": "code",
   "execution_count": 1,
   "metadata": {
    "collapsed": true,
    "pycharm": {
     "name": "#%%\n"
    }
   },
   "outputs": [],
   "source": [
    "import re"
   ]
  },
  {
   "cell_type": "markdown",
   "source": [
    "`[]` 안에 들어 있는 글자들 중 하나를 상징한다."
   ],
   "metadata": {
    "collapsed": false,
    "pycharm": {
     "name": "#%% md\n"
    }
   }
  },
  {
   "cell_type": "code",
   "execution_count": 5,
   "outputs": [
    {
     "data": {
      "text/plain": "['cute', 'cot', 'scuttle']"
     },
     "execution_count": 5,
     "metadata": {},
     "output_type": "execute_result"
    }
   ],
   "source": [
    "words = ['cute', 'cat', 'cot', 'coat', 'cost', 'scuttle']\n",
    "\n",
    "# same as: r'cot|cut' or r'c(o|u)t'\n",
    "result = [word for word in words if re.search(r'c[ou]t', word)]\n",
    "result"
   ],
   "metadata": {
    "collapsed": false,
    "pycharm": {
     "name": "#%%\n"
    }
   }
  },
  {
   "cell_type": "code",
   "execution_count": 7,
   "outputs": [
    {
     "data": {
      "text/plain": "'mXing cute bX site fX'"
     },
     "execution_count": 7,
     "metadata": {},
     "output_type": "execute_result"
    }
   ],
   "source": [
    "# same as: r'(a|e|o)+t'\n",
    "re.sub(r'[aeo]+t', 'X', 'meeting cute boat site foot')"
   ],
   "metadata": {
    "collapsed": false,
    "pycharm": {
     "name": "#%%\n"
    }
   }
  },
  {
   "cell_type": "markdown",
   "source": [
    "metachar들은 charset 안에서 본래 의미 대신 새로운 의미로 쓰이는 경우가 있다."
   ],
   "metadata": {
    "collapsed": false,
    "pycharm": {
     "name": "#%% md\n"
    }
   }
  },
  {
   "cell_type": "code",
   "execution_count": 9,
   "outputs": [
    {
     "data": {
      "text/plain": "['123', '42', '777']"
     },
     "execution_count": 9,
     "metadata": {},
     "output_type": "execute_result"
    }
   ],
   "source": [
    "# 'a-c', '1-3'처럼 문자집합 내 시퀀스를 표현한다.\n",
    "re.findall(r'[0-9]+', 'Sample123string42with777numbers')"
   ],
   "metadata": {
    "collapsed": false,
    "pycharm": {
     "name": "#%%\n"
    }
   }
  },
  {
   "cell_type": "code",
   "execution_count": 10,
   "outputs": [
    {
     "data": {
      "text/plain": "['coat', 'food', 'tar12', 'best']"
     },
     "execution_count": 10,
     "metadata": {},
     "output_type": "execute_result"
    }
   ],
   "source": [
    "# 소문자나 숫자의 연속된 조합으로 이루어진 단어.\n",
    "re.findall(r'\\b[a-z0-9]+\\b', 'coat Bin food tar12 best')"
   ],
   "metadata": {
    "collapsed": false,
    "pycharm": {
     "name": "#%%\n"
    }
   }
  },
  {
   "cell_type": "code",
   "execution_count": 11,
   "outputs": [
    {
     "data": {
      "text/plain": "['tin', 'put', 'stoop']"
     },
     "execution_count": 11,
     "metadata": {},
     "output_type": "execute_result"
    }
   ],
   "source": [
    "# p에서 z로 시작한 다음 알파벳 소문자로 이루어진 단어, 혹은 p에서 z로만 이뤄진 단어.\n",
    "re.findall(r'\\b[p-z][a-z]*\\b', 'coat tin food put stoop best')"
   ],
   "metadata": {
    "collapsed": false,
    "pycharm": {
     "name": "#%%\n"
    }
   }
  },
  {
   "cell_type": "code",
   "execution_count": 12,
   "outputs": [
    {
     "data": {
      "text/plain": "['best']"
     },
     "execution_count": 12,
     "metadata": {},
     "output_type": "execute_result"
    }
   ],
   "source": [
    "# a-f, p-t 사이 글자로만 최소 하나 이상 모여 이뤄진 단어\n",
    "re.findall(r'\\b[a-fp-t]+\\b', 'coat tin food put stoop best')"
   ],
   "metadata": {
    "collapsed": false,
    "pycharm": {
     "name": "#%%\n"
    }
   }
  },
  {
   "cell_type": "markdown",
   "source": [
    "## negating\n",
    "'^'는 문자 집합 처음에 와 그 이후의 문자들은 사용되지 않음을 알린다."
   ],
   "metadata": {
    "collapsed": false,
    "pycharm": {
     "name": "#%% md\n"
    }
   }
  },
  {
   "cell_type": "code",
   "execution_count": 13,
   "outputs": [
    {
     "data": {
      "text/plain": "['Sample', 'string', 'with', 'numbers']"
     },
     "execution_count": 13,
     "metadata": {},
     "output_type": "execute_result"
    }
   ],
   "source": [
    "re.findall(r'[^0-9]+', 'Sample123string42with777numbers')"
   ],
   "metadata": {
    "collapsed": false,
    "pycharm": {
     "name": "#%%\n"
    }
   }
  },
  {
   "cell_type": "code",
   "execution_count": 14,
   "outputs": [
    {
     "data": {
      "text/plain": "'bar:baz'"
     },
     "execution_count": 14,
     "metadata": {},
     "output_type": "execute_result"
    }
   ],
   "source": [
    "# 문자열 초두에 오는 'abc:def:' 이 패턴을 지우고자 한다.\n",
    "re.sub(r'\\A([^:]+:){2}', '', 'foo:123:bar:baz', count=1)"
   ],
   "metadata": {
    "collapsed": false,
    "pycharm": {
     "name": "#%%\n"
    }
   }
  },
  {
   "cell_type": "code",
   "execution_count": 15,
   "outputs": [
    {
     "data": {
      "text/plain": "'foo=42; baz'"
     },
     "execution_count": 15,
     "metadata": {},
     "output_type": "execute_result"
    }
   ],
   "source": [
    "re.sub(r'=[^=]+\\Z', '', 'foo=42; baz=123', count=1)"
   ],
   "metadata": {
    "collapsed": false,
    "pycharm": {
     "name": "#%%\n"
    }
   }
  },
  {
   "cell_type": "code",
   "execution_count": 16,
   "outputs": [
    {
     "data": {
      "text/plain": "[('2020', '04', '25,1986'), ('Mar', '02,77', '12')]"
     },
     "execution_count": 16,
     "metadata": {},
     "output_type": "execute_result"
    }
   ],
   "source": [
    "dates = '2020/04/25,1986/Mar/02,77/12/31'\n",
    "re.findall(r\"\"\"  # 숫자 외 문자도 날짜 표현에 사용될 수 있다.\n",
    "    ([^/]+)/     # 연, 월, 일 중 하나\n",
    "    ([^/]+)/     # 연, 월, 일 중 하나\n",
    "    ([^/]+),?    # 연, 월, 일 중 하나\n",
    "\"\"\", dates, flags=re.VERBOSE)"
   ],
   "metadata": {
    "collapsed": false,
    "pycharm": {
     "name": "#%%\n"
    }
   }
  },
  {
   "cell_type": "code",
   "execution_count": 22,
   "outputs": [
    {
     "name": "stdout",
     "output_type": "stream",
     "text": [
      "['tryst', 'glyph', 'why'] ['tryst', 'glyph', 'why']\n"
     ]
    }
   ],
   "source": [
    "words = ['tryst', 'fun', 'glyph', 'pity', 'why']\n",
    "not_vowels1 = [word for word in words if re.search(r'\\A[^aeiou]+\\Z', word)]\n",
    "not_vowels2 = [word for word in words if not re.search(r'[aeiou]', word)]\n",
    "print(not_vowels1, not_vowels2)"
   ],
   "metadata": {
    "collapsed": false,
    "pycharm": {
     "name": "#%%\n"
    }
   }
  },
  {
   "cell_type": "markdown",
   "source": [
    "# Escaping in charset"
   ],
   "metadata": {
    "collapsed": false,
    "pycharm": {
     "name": "#%% md\n"
    }
   }
  },
  {
   "cell_type": "code",
   "execution_count": 23,
   "outputs": [
    {
     "data": {
      "text/plain": "['ab-cd', 'gh-c']"
     },
     "execution_count": 23,
     "metadata": {},
     "output_type": "execute_result"
    }
   ],
   "source": [
    "# 알파벳 소문자나 하이픈으로 이루어진 단어.\n",
    "# 문자 집합 안에서 짝을 이루지 못한 하이픈은 literally 해석된다.\n",
    "re.findall(r'\\b[a-z-]{2,}\\b', 'ab-cd gh-c 12-423')"
   ],
   "metadata": {
    "collapsed": false,
    "pycharm": {
     "name": "#%%\n"
    }
   }
  },
  {
   "cell_type": "code",
   "execution_count": 28,
   "outputs": [
    {
     "name": "stdout",
     "output_type": "stream",
     "text": [
      "['ab-cd', 'gh-c', '12-423'] ['ab-cd', 'gh-c', '12-423']\n"
     ]
    }
   ],
   "source": [
    "# 짝을 이루지 못하게 하든지, '\\'로 escaping 시키든지 할 수 있다.\n",
    "literal_hyphen1 = re.findall(r'\\b[a-z\\-0-9]{2,}\\b', 'ab-cd gh-c 12-423')\n",
    "literal_hyphen2 = re.findall(r'\\b[a-z-0-9]{2,}\\b', 'ab-cd gh-c 12-423')\n",
    "print(literal_hyphen1, literal_hyphen2)"
   ],
   "metadata": {
    "collapsed": false,
    "pycharm": {
     "name": "#%%\n"
    }
   }
  },
  {
   "cell_type": "code",
   "execution_count": 29,
   "outputs": [
    {
     "data": {
      "text/plain": "['a^b', 'a+b']"
     },
     "execution_count": 29,
     "metadata": {},
     "output_type": "execute_result"
    }
   ],
   "source": [
    "# 문자 집합 내 처음에 오지 않는 '^'는 literally(글자 모양 그대로) 해석된다.\n",
    "re.findall(r'a[+^]b', 'f*(a^b) - 3*(a+b)')"
   ],
   "metadata": {
    "collapsed": false,
    "pycharm": {
     "name": "#%%\n"
    }
   }
  },
  {
   "cell_type": "code",
   "execution_count": 30,
   "outputs": [
    {
     "data": {
      "text/plain": "['a^b', 'a+b']"
     },
     "execution_count": 30,
     "metadata": {},
     "output_type": "execute_result"
    }
   ],
   "source": [
    "# 문자 집합 처음에 왔어도 '\\'로 인해 literally 해석된다.\n",
    "re.findall(r'a[\\^+]b', 'f*(a^b) - 3*(a+b)')"
   ],
   "metadata": {
    "collapsed": false,
    "pycharm": {
     "name": "#%%\n"
    }
   }
  },
  {
   "cell_type": "code",
   "execution_count": 32,
   "outputs": [
    {
     "data": {
      "text/plain": "'words[5]'"
     },
     "execution_count": 32,
     "metadata": {},
     "output_type": "execute_result"
    }
   ],
   "source": [
    "# 아래 패턴에서 마지막에 등장한 '['와 처음에 등장한 ']'는 escaped.\n",
    "# 알파벳 소문자, 숫자, 혹은 각괄호가 최소 1번은 등장하며 이루어진 시퀀스.\n",
    "re.search(r'[]a-z0-9[]+', 'words[5] = tea')[0]"
   ],
   "metadata": {
    "collapsed": false,
    "pycharm": {
     "name": "#%%\n"
    }
   }
  },
  {
   "cell_type": "code",
   "execution_count": 33,
   "outputs": [
    {
     "data": {
      "text/plain": "'words[5]'"
     },
     "execution_count": 33,
     "metadata": {},
     "output_type": "execute_result"
    }
   ],
   "source": [
    "# 이번에도 의미는 같으나, escaping할 각괄호는 순서에 상관 없이 나열할 수 있다.\n",
    "re.search(r'[a-z\\[\\]0-9]+', 'words[5] = tea')[0]"
   ],
   "metadata": {
    "collapsed": false,
    "pycharm": {
     "name": "#%%\n"
    }
   }
  },
  {
   "cell_type": "code",
   "execution_count": 34,
   "outputs": [
    {
     "data": {
      "text/plain": "'ba\\\\bab'"
     },
     "execution_count": 34,
     "metadata": {},
     "output_type": "execute_result"
    }
   ],
   "source": [
    "# '\\'는 '\\'가 escape시킨다.\n",
    "re.search(r'[a\\\\b]+', r'5ba\\babc2')[0]"
   ],
   "metadata": {
    "collapsed": false,
    "pycharm": {
     "name": "#%%\n"
    }
   }
  },
  {
   "cell_type": "markdown",
   "source": [
    "# 문자 집합을 대신할 escaped chars\n",
    "  - `\\w == [a-zA-Z0-9_]`\n",
    "    - `\\W == [^a-zA-Z0-9_]`\n",
    "  - `\\d == [0-9]`\n",
    "    - `\\D == [^0-9]`\n",
    "  - `\\s == [ \\t\\n\\r\\f\\v]`\n",
    "    - `\\S == [^ \\t\\n\\r\\f\\v]`"
   ],
   "metadata": {
    "collapsed": false,
    "pycharm": {
     "name": "#%% md\n"
    }
   }
  },
  {
   "cell_type": "code",
   "execution_count": 35,
   "outputs": [
    {
     "data": {
      "text/plain": "['Sample', 'string', 'with', 'numbers']"
     },
     "execution_count": 35,
     "metadata": {},
     "output_type": "execute_result"
    }
   ],
   "source": [
    "# 연속된 숫자를 구분자로 사용.\n",
    "re.split(r'\\d+', 'Sample123string42with777numbers')"
   ],
   "metadata": {
    "collapsed": false,
    "pycharm": {
     "name": "#%%\n"
    }
   }
  },
  {
   "cell_type": "code",
   "execution_count": 36,
   "outputs": [
    {
     "data": {
      "text/plain": "['5', '3', '83', '120']"
     },
     "execution_count": 36,
     "metadata": {},
     "output_type": "execute_result"
    }
   ],
   "source": [
    "re.findall(r'\\d+', 'foo=5, bar=3; x=83, y=120')"
   ],
   "metadata": {
    "collapsed": false,
    "pycharm": {
     "name": "#%%\n"
    }
   }
  },
  {
   "cell_type": "code",
   "execution_count": 37,
   "outputs": [
    {
     "data": {
      "text/plain": "'secret'"
     },
     "execution_count": 37,
     "metadata": {},
     "output_type": "execute_result"
    }
   ],
   "source": [
    "''.join(\n",
    "    re.findall(r'\\b\\w', 'sea eat car rat eel tea')\n",
    ")"
   ],
   "metadata": {
    "collapsed": false,
    "pycharm": {
     "name": "#%%\n"
    }
   }
  },
  {
   "cell_type": "code",
   "execution_count": 38,
   "outputs": [
    {
     "data": {
      "text/plain": "['tea sea', 'pit sit', 'lean\\tbean']"
     },
     "execution_count": 38,
     "metadata": {},
     "output_type": "execute_result"
    }
   ],
   "source": [
    "re.findall(r'[\\w\\s]+', 'tea sea-pit sit-lean\\tbean')"
   ],
   "metadata": {
    "collapsed": false,
    "pycharm": {
     "name": "#%%\n"
    }
   }
  },
  {
   "cell_type": "markdown",
   "source": [
    "## Negate logic in escaped sequences"
   ],
   "metadata": {
    "collapsed": false,
    "pycharm": {
     "name": "#%% md\n"
    }
   }
  },
  {
   "cell_type": "code",
   "execution_count": 39,
   "outputs": [
    {
     "data": {
      "text/plain": "'-123-42-777-'"
     },
     "execution_count": 39,
     "metadata": {},
     "output_type": "execute_result"
    }
   ],
   "source": [
    "re.sub(r'\\D+', '-', 'Sample123string42with777numbers')"
   ],
   "metadata": {
    "collapsed": false,
    "pycharm": {
     "name": "#%%\n"
    }
   }
  },
  {
   "cell_type": "code",
   "execution_count": 40,
   "outputs": [
    {
     "data": {
      "text/plain": "'foo5bar3x83y12'"
     },
     "execution_count": 40,
     "metadata": {},
     "output_type": "execute_result"
    }
   ],
   "source": [
    "re.sub(r'\\W+', '', 'foo=5, bar=3; x=83, y=12')"
   ],
   "metadata": {
    "collapsed": false,
    "pycharm": {
     "name": "#%%\n"
    }
   }
  },
  {
   "cell_type": "code",
   "execution_count": 44,
   "outputs": [
    {
     "name": "stdout",
     "output_type": "stream",
     "text": [
      "['1..3', 'foo_baz', '42', 'zzz', '1-2-3']\n",
      "['1..3', 'foo_baz', '42', 'zzz', '1-2-3']\n"
     ]
    }
   ],
   "source": [
    "ws_excluded = re.findall(r'\\S+', '   1..3  \\v\\f  foo_baz 42\\tzzz   \\r\\n1-2-3  ')\n",
    "print(ws_excluded)\n",
    "# \\S를 구분자로 쪼개는 기능은 str.split()과 동일하다.\n",
    "print('   1..3  \\v\\f  foo_baz 42\\tzzz   \\r\\n1-2-3  '.split())"
   ],
   "metadata": {
    "collapsed": false,
    "pycharm": {
     "name": "#%%\n"
    }
   }
  },
  {
   "cell_type": "markdown",
   "source": [
    "# Numeric ranges"
   ],
   "metadata": {
    "collapsed": false,
    "pycharm": {
     "name": "#%% md\n"
    }
   }
  },
  {
   "cell_type": "code",
   "execution_count": 45,
   "outputs": [
    {
     "data": {
      "text/plain": "['23', '12', '26']"
     },
     "execution_count": 45,
     "metadata": {},
     "output_type": "execute_result"
    }
   ],
   "source": [
    "# [10,30)인 정수\n",
    "re.findall(r'\\b[12]\\d\\b', '23 154 12 26 98234')"
   ],
   "metadata": {
    "collapsed": false,
    "pycharm": {
     "name": "#%%\n"
    }
   }
  },
  {
   "cell_type": "code",
   "execution_count": 46,
   "outputs": [
    {
     "data": {
      "text/plain": "['154', '98234', '000']"
     },
     "execution_count": 46,
     "metadata": {},
     "output_type": "execute_result"
    }
   ],
   "source": [
    "# 세 자리 숫자로 이뤄진 시퀀스 추출\n",
    "re.findall(r'\\b\\d{3,}\\b', '23 154 12 26 98234 000')"
   ],
   "metadata": {
    "collapsed": false,
    "pycharm": {
     "name": "#%%\n"
    }
   }
  },
  {
   "cell_type": "code",
   "execution_count": 48,
   "outputs": [
    {
     "data": {
      "text/plain": "['0501', '154', '98234']"
     },
     "execution_count": 48,
     "metadata": {},
     "output_type": "execute_result"
    }
   ],
   "source": [
    "# leading 0s가 올 수도 있는 세 자리 숫자.\n",
    "re.findall(r'\\b0*[1-9]\\d{2,}\\b', '0501 035 154 12 26 98234')"
   ],
   "metadata": {
    "collapsed": false,
    "pycharm": {
     "name": "#%%\n"
    }
   }
  },
  {
   "cell_type": "code",
   "execution_count": 52,
   "outputs": [
    {
     "name": "stdout",
     "output_type": "stream",
     "text": [
      "['45', '349', '4', '204']\n"
     ]
    }
   ],
   "source": [
    "#\n",
    "m_iter = re.finditer(r'\\d+', '45 349 651 593 4 204')\n",
    "under_350 = [m[0] for m in m_iter if int(m[0]) < 350]\n",
    "print(under_350)"
   ],
   "metadata": {
    "collapsed": false,
    "pycharm": {
     "name": "#%%\n"
    }
   }
  },
  {
   "cell_type": "code",
   "execution_count": 53,
   "outputs": [
    {
     "data": {
      "text/plain": "'0 1 0 1 0 1'"
     },
     "execution_count": 53,
     "metadata": {},
     "output_type": "execute_result"
    }
   ],
   "source": [
    "def num_range(s):\n",
    "    \"\"\"Find a number between [200,650].\"\"\"\n",
    "    return '1' if 200 <= int(s[0]) <= 650 else '0'\n",
    "\n",
    "\n",
    "re.sub(r'\\d+', num_range, '45 349 651 593 4 204')"
   ],
   "metadata": {
    "collapsed": false,
    "pycharm": {
     "name": "#%%\n"
    }
   }
  },
  {
   "cell_type": "markdown",
   "source": [
    "\n",
    "# Exercises"
   ],
   "metadata": {
    "collapsed": false,
    "pycharm": {
     "name": "#%% md\n"
    }
   }
  },
  {
   "cell_type": "code",
   "execution_count": 56,
   "outputs": [],
   "source": [
    "# E1. For the list `items`, filter all elements starting with 'hand' and ending\n",
    "# with 's' or 'y' or 'le'.\n",
    "items = ['-handy', 'hand', 'handy', 'unhand', 'hands', 'handle']"
   ],
   "metadata": {
    "collapsed": false,
    "pycharm": {
     "name": "#%%\n"
    }
   }
  },
  {
   "cell_type": "code",
   "execution_count": 60,
   "outputs": [
    {
     "name": "stdout",
     "output_type": "stream",
     "text": [
      "['handy', 'hands', 'handle']\n"
     ]
    }
   ],
   "source": [
    "# A1\n",
    "result = [item for item in items if re.search(r'\\Ahand.*[sy(le)]\\Z', item)]\n",
    "print(result)  # ['handy', 'hands', 'handle']"
   ],
   "metadata": {
    "collapsed": false,
    "pycharm": {
     "name": "#%%\n"
    }
   }
  },
  {
   "cell_type": "code",
   "execution_count": 61,
   "outputs": [],
   "source": [
    "# E2. Replace all whole words 'reed' or 'read' or 'red' with 'X'.\n",
    "ip = 'redo red credible :read: rod reed'"
   ],
   "metadata": {
    "collapsed": false,
    "pycharm": {
     "name": "#%%\n"
    }
   }
  },
  {
   "cell_type": "code",
   "execution_count": 63,
   "outputs": [
    {
     "data": {
      "text/plain": "'redo X credible :X: rod X'"
     },
     "execution_count": 63,
     "metadata": {},
     "output_type": "execute_result"
    }
   ],
   "source": [
    "# A2\n",
    "re.sub(r're[ea]*d\\b', 'X', ip)  # 'redo X credible :X: rod X'"
   ],
   "metadata": {
    "collapsed": false,
    "pycharm": {
     "name": "#%%\n"
    }
   }
  },
  {
   "cell_type": "code",
   "execution_count": 64,
   "outputs": [],
   "source": [
    "# E3. For the list `words`, filter all elements containing 'e' or 'i' followed\n",
    "# by 'l' or 'n'. Note that the order mentioned should be followed.\n",
    "words = ['surrender', 'unicorn', 'newer', 'door', 'empty', 'eel', 'pest']"
   ],
   "metadata": {
    "collapsed": false,
    "pycharm": {
     "name": "#%%\n"
    }
   }
  },
  {
   "cell_type": "code",
   "execution_count": 67,
   "outputs": [
    {
     "name": "stdout",
     "output_type": "stream",
     "text": [
      "['surrender', 'unicorn', 'eel']\n"
     ]
    }
   ],
   "source": [
    "# A3\n",
    "result = [word for word in words if re.search(r'[ei].*[ln]', word)]\n",
    "print(result)  # ['surrender', 'unicorn', 'eel']"
   ],
   "metadata": {
    "collapsed": false,
    "pycharm": {
     "name": "#%%\n"
    }
   }
  },
  {
   "cell_type": "code",
   "execution_count": 68,
   "outputs": [],
   "source": [
    "# E4. For the list `words`, filter all elements containing 'e' or 'i', and 'l'\n",
    "# or 'n' in any order.\n",
    "words = ['surrender', 'unicorn', 'newer', 'door', 'empty', 'eel', 'pest']"
   ],
   "metadata": {
    "collapsed": false,
    "pycharm": {
     "name": "#%%\n"
    }
   }
  },
  {
   "cell_type": "code",
   "execution_count": 82,
   "outputs": [
    {
     "name": "stdout",
     "output_type": "stream",
     "text": [
      "surrender\n",
      "unicorn\n",
      "newer\n",
      "eel\n"
     ]
    }
   ],
   "source": [
    "# A4\n",
    "# ['surrender', 'unicorn', 'newer', 'eel']\n",
    "for word in words:\n",
    "    matched = re.search(r'([ei].*[ln])|([ln].*[ei])', word)\n",
    "    if matched:\n",
    "        print(word)"
   ],
   "metadata": {
    "collapsed": false,
    "pycharm": {
     "name": "#%%\n"
    }
   }
  },
  {
   "cell_type": "code",
   "execution_count": 83,
   "outputs": [],
   "source": [
    "# E5. Extract all hex character sequences, with '0x' optional prefix.\n",
    "# Match the characters case insensitively, and the sequences shouldn't be\n",
    "# surrounded by other word characters.\n",
    "str1 = '128A foo 0xfe32 34 0xbar'\n",
    "str2 = '0XDEADBEEF place 0x0ff1ce bad'"
   ],
   "metadata": {
    "collapsed": false,
    "pycharm": {
     "name": "#%%\n"
    }
   }
  },
  {
   "cell_type": "code",
   "execution_count": 99,
   "outputs": [
    {
     "name": "stdout",
     "output_type": "stream",
     "text": [
      "['128A', '0xfe32', '34']\n",
      "['0XDEADBEEF', '0x0ff1ce', 'bad']\n"
     ]
    }
   ],
   "source": [
    "# A5\n",
    "hex_seq = re.compile(r'\\b0[xX][0-9a-fA-F]+\\b|\\b[0-9a-fA-F]+\\b')\n",
    "print(hex_seq.findall(str1))  # ['128A', '0xfe32', '34']\n",
    "print(hex_seq.findall(str2))  # ['0XDEADBEEF', '0x0ff1ce', 'bad']"
   ],
   "metadata": {
    "collapsed": false,
    "pycharm": {
     "name": "#%%\n"
    }
   }
  },
  {
   "cell_type": "code",
   "execution_count": 101,
   "outputs": [],
   "source": [
    "# E6. Delete from '(' to the next occurrence of ')' unless they contain\n",
    "# parentheses characters in between.\n",
    "# 내부에 또 다른 괄호쌍을 품지 않은 괄호쌍만 지울 것.\n",
    "str1 = 'def factorial()'\n",
    "str2 = 'a/b(division) + c%d(#modulo) - (e+(j/k-3)*4)'\n",
    "str3 = 'Hi there(greeting). Nice day(a(b)'"
   ],
   "metadata": {
    "collapsed": false,
    "pycharm": {
     "name": "#%%\n"
    }
   }
  },
  {
   "cell_type": "code",
   "execution_count": 105,
   "outputs": [
    {
     "name": "stdout",
     "output_type": "stream",
     "text": [
      "def factorial\n",
      "a/b + c%d - *4)\n",
      "Hi there. Nice day\n"
     ]
    }
   ],
   "source": [
    "# A6\n",
    "remove_parentheses = re.compile(r'\\(.*?\\)')  ##### add your solution here\n",
    "print(remove_parentheses.sub('', str1))  # 'def factorial'\n",
    "print(remove_parentheses.sub('', str2))  # 'a/b + c%d - (e+*4)'\n",
    "print(remove_parentheses.sub('', str3))  # 'Hi there. Nice day(a'"
   ],
   "metadata": {
    "collapsed": false,
    "pycharm": {
     "name": "#%%\n"
    }
   }
  },
  {
   "cell_type": "code",
   "execution_count": 10,
   "outputs": [],
   "source": [
    "# E7. For the list `words`, filter all elements not starting with 'e' or 'p' or 'u'.\n",
    "words = ['surrender', 'unicorn', 'newer', 'door', 'empty', 'eel', 'pest']"
   ],
   "metadata": {
    "collapsed": false,
    "pycharm": {
     "name": "#%%\n"
    }
   }
  },
  {
   "cell_type": "code",
   "execution_count": 106,
   "outputs": [
    {
     "name": "stdout",
     "output_type": "stream",
     "text": [
      "surrender\n",
      "newer\n",
      "door\n"
     ]
    }
   ],
   "source": [
    "# A7\n",
    "# ['surrender', 'newer', 'door']\n",
    "for word in words:\n",
    "    if re.search(r'\\A[^epu]', word):\n",
    "        print(word)"
   ],
   "metadata": {
    "collapsed": false,
    "pycharm": {
     "name": "#%%\n"
    }
   }
  },
  {
   "cell_type": "code",
   "execution_count": 107,
   "outputs": [],
   "source": [
    "# E8. For the list `words`, filter all elements not containing 'u' or 'w' or 'ee' or '-'.\n",
    "words = ['p-t', 'you', 'tea', 'heel', 'owe', 'new', 'reed', 'ear']"
   ],
   "metadata": {
    "collapsed": false,
    "pycharm": {
     "name": "#%%\n"
    }
   }
  },
  {
   "cell_type": "code",
   "execution_count": 131,
   "outputs": [
    {
     "name": "stdout",
     "output_type": "stream",
     "text": [
      "tea\n",
      "heel\n",
      "owe\n",
      "new\n",
      "reed\n",
      "ear\n"
     ]
    }
   ],
   "source": [
    "# A8\n",
    "# ['tea', 'ear']\n",
    "for word in words:\n",
    "    pattern1 = r'\\A[^uw-]+\\Z'\n",
    "    if re.search('[(e{2})]', word):\n",
    "        print(word)"
   ],
   "metadata": {
    "collapsed": false,
    "pycharm": {
     "name": "#%%\n"
    }
   }
  },
  {
   "cell_type": "code",
   "execution_count": 132,
   "outputs": [],
   "source": [
    "# E9. The given input strings contain fields separated by ',' and fields can be\n",
    "# empty too. Replace last three fields with 'WHTSZ323'.\n",
    "row1 = '(2),kite,12,,D,C,,'\n",
    "row2 = 'hi,bye,sun,moon'"
   ],
   "metadata": {
    "collapsed": false,
    "pycharm": {
     "name": "#%%\n"
    }
   }
  },
  {
   "cell_type": "code",
   "execution_count": 134,
   "outputs": [
    {
     "name": "stdout",
     "output_type": "stream",
     "text": [
      "(2),kite,12,,D,WHTSZ323\n",
      "hi,WHTSZ323\n"
     ]
    }
   ],
   "source": [
    "# A9\n",
    "pat = re.compile(r'\\w*,\\w*,\\w*\\Z')\n",
    "print(pat.sub('WHTSZ323', row1))  # '(2),kite,12,,D,WHTSZ323'\n",
    "print(pat.sub('WHTSZ323', row2))  # 'hi,WHTSZ323'"
   ],
   "metadata": {
    "collapsed": false,
    "pycharm": {
     "name": "#%%\n"
    }
   }
  },
  {
   "cell_type": "code",
   "execution_count": 135,
   "outputs": [],
   "source": [
    "# E10. Split the given strings based on consecutive sequence of digit or whitespace characters.\n",
    "str1 = 'lion \\t Ink32onion Nice'\n",
    "str2 = '**1\\f2\\n3star\\t7 77\\r**'"
   ],
   "metadata": {
    "collapsed": false,
    "pycharm": {
     "name": "#%%\n"
    }
   }
  },
  {
   "cell_type": "code",
   "execution_count": 136,
   "outputs": [
    {
     "name": "stdout",
     "output_type": "stream",
     "text": [
      "['lion', 'Ink', 'onion', 'Nice']\n",
      "['**', 'star', '**']\n"
     ]
    }
   ],
   "source": [
    "# A10\n",
    "pat = re.compile(r'[\\d\\s]+')\n",
    "print(pat.split(str1))  # ['lion', 'Ink', 'onion', 'Nice']\n",
    "print(pat.split(str2))  # ['**', 'star', '**']"
   ],
   "metadata": {
    "collapsed": false,
    "pycharm": {
     "name": "#%%\n"
    }
   }
  },
  {
   "cell_type": "code",
   "execution_count": 137,
   "outputs": [],
   "source": [
    "# E11. Delete all occurrences of the sequence <characters> where characters are\n",
    "# one or more non '>' characters and cannot be empty.\n",
    "ip = 'a<apple> 1<> b<bye> 2<> c<cat>'"
   ],
   "metadata": {
    "collapsed": false,
    "pycharm": {
     "name": "#%%\n"
    }
   }
  },
  {
   "cell_type": "code",
   "execution_count": 138,
   "outputs": [
    {
     "data": {
      "text/plain": "'a 1<> b 2<> c'"
     },
     "execution_count": 138,
     "metadata": {},
     "output_type": "execute_result"
    }
   ],
   "source": [
    "# A11\n",
    "# 'a 1<> b 2<> c'\n",
    "re.sub(r'<[^>]+>', '', ip)"
   ],
   "metadata": {
    "collapsed": false,
    "pycharm": {
     "name": "#%%\n"
    }
   }
  },
  {
   "cell_type": "code",
   "execution_count": 139,
   "outputs": [
    {
     "name": "stdout",
     "output_type": "stream",
     "text": [
      "known\n",
      "mood\n",
      "know\n",
      "pony\n",
      "inns\n"
     ]
    }
   ],
   "source": [
    "# E12. '\\b[a-z](on|no)[a-z]\\b' is same as '\\b[a-z][on]{2}[a-z]\\b'.\n",
    "# True or False? Sample input lines shown below might help to understand\n",
    "# the differences, if any.\n",
    "print('known\\nmood\\nknow\\npony\\ninns')"
   ],
   "metadata": {
    "collapsed": false,
    "pycharm": {
     "name": "#%%\n"
    }
   }
  },
  {
   "cell_type": "code",
   "execution_count": 141,
   "outputs": [
    {
     "name": "stdout",
     "output_type": "stream",
     "text": [
      "None\n",
      "<re.Match object; span=(0, 4), match='soon'>\n"
     ]
    }
   ],
   "source": [
    "# A12\n",
    "counterexample = 'soon'  # 'oo', 'nn'\n",
    "raw_pattern1 = r'\\b[a-z](on|no)[a-z]\\b'\n",
    "raw_pattern2 = r'\\b[a-z][on]{2}[a-z]\\b'\n",
    "\n",
    "print(re.search(raw_pattern1, counterexample))\n",
    "print(re.search(raw_pattern2, counterexample))"
   ],
   "metadata": {
    "collapsed": false,
    "pycharm": {
     "name": "#%%\n"
    }
   }
  },
  {
   "cell_type": "code",
   "execution_count": 142,
   "outputs": [],
   "source": [
    "# E13. For the given list, filter all elements containing any number sequence\n",
    "# greater than '624'.\n",
    "items = ['hi0000432abcd', 'car00625', '42_624 0512', '3.14 96 2 foo1234baz']"
   ],
   "metadata": {
    "collapsed": false,
    "pycharm": {
     "name": "#%%\n"
    }
   }
  },
  {
   "cell_type": "code",
   "execution_count": 153,
   "outputs": [
    {
     "name": "stdout",
     "output_type": "stream",
     "text": [
      "['car00625', '3.14 96 2 foo1234baz']\n"
     ]
    }
   ],
   "source": [
    "# A13\n",
    "# ['car00625', '3.14 96 2 foo1234baz']\n",
    "\n",
    "from typing import List\n",
    "\n",
    "\n",
    "def compare_over_624(nums: List[str]):\n",
    "    def extract_num(nums: List[str]):\n",
    "        return list(map(float, nums))\n",
    "\n",
    "    return any(list(map(lambda n: n > 624, extract_num(nums))))\n",
    "\n",
    "\n",
    "compiled_pattern = re.compile(r'[\\d\\.]+')\n",
    "result = [item for item in items if compare_over_624(compiled_pattern.findall(item))]\n",
    "print(result)"
   ],
   "metadata": {
    "collapsed": false,
    "pycharm": {
     "name": "#%%\n"
    }
   }
  },
  {
   "cell_type": "code",
   "execution_count": null,
   "outputs": [],
   "source": [
    "# E14. Count the maximum depth of nested braces for the given strings.\n",
    "# Unbalanced or wrongly ordered braces should return '-1'. Note that this will\n",
    "# require a mix of regular expressions and Python code.\n",
    "def max_nested_braces(ip):\n",
    "    pass"
   ],
   "metadata": {
    "collapsed": false,
    "pycharm": {
     "name": "#%%\n"
    }
   }
  },
  {
   "cell_type": "code",
   "execution_count": null,
   "outputs": [],
   "source": [
    "# A14\n",
    "max_nested_braces('a*b')  # 0\n",
    "max_nested_braces('}a+b{')  # -1\n",
    "max_nested_braces('a*b+{}')  # 1\n",
    "max_nested_braces('{{a+2}*{b+c}+e}')  # 2\n",
    "max_nested_braces('{{a+2}*{b+{c*d}}+e}')  # 3\n",
    "max_nested_braces('{{a+2}*{\\n{b+{c*d}}+e*d}}')  # 4\n",
    "max_nested_braces('a*{b+c*{e*3.14}}}')  # -1"
   ],
   "metadata": {
    "collapsed": false,
    "pycharm": {
     "name": "#%%\n"
    }
   }
  },
  {
   "cell_type": "code",
   "execution_count": 154,
   "outputs": [
    {
     "data": {
      "text/plain": "['so', 'pole', 'lit', 'in', 'to']"
     },
     "execution_count": 154,
     "metadata": {},
     "output_type": "execute_result"
    }
   ],
   "source": [
    "# E15. By default, `str.split` method will split on whitespace and remove empty\n",
    "# strings from the result. Which `re` module function would you use to\n",
    "# replicate this functionality?\n",
    "ip = ' \\t\\r  so  pole\\t\\t\\t\\n\\nlit in to \\r\\n\\v\\f  '\n",
    "ip.split()  # ['so', 'pole', 'lit', 'in', 'to']"
   ],
   "metadata": {
    "collapsed": false,
    "pycharm": {
     "name": "#%%\n"
    }
   }
  },
  {
   "cell_type": "code",
   "execution_count": 163,
   "outputs": [
    {
     "data": {
      "text/plain": "['so', 'pole', 'lit', 'in', 'to']"
     },
     "execution_count": 163,
     "metadata": {},
     "output_type": "execute_result"
    }
   ],
   "source": [
    "# A15\n",
    "# ['so', 'pole', 'lit', 'in', 'to']\n",
    "re.findall(r'\\S+', ip)"
   ],
   "metadata": {
    "collapsed": false,
    "pycharm": {
     "name": "#%%\n"
    }
   }
  },
  {
   "cell_type": "code",
   "execution_count": 21,
   "outputs": [],
   "source": [
    "# E16. Convert the given input string to two different lists as shown below.\n",
    "ip = 'price_42 roast^\\t\\n^-ice==cat\\neast'"
   ],
   "metadata": {
    "collapsed": false,
    "pycharm": {
     "name": "#%%\n"
    }
   }
  },
  {
   "cell_type": "code",
   "execution_count": 22,
   "outputs": [],
   "source": [
    "# A16\n",
    "# ['price_42', 'roast', 'ice', 'cat', 'east']\n",
    "# ['price_42', ' ', 'roast', '^\\t\\n^-', 'ice', '==', 'cat', '\\n', 'east']"
   ],
   "metadata": {
    "collapsed": false,
    "pycharm": {
     "name": "#%%\n"
    }
   }
  },
  {
   "cell_type": "code",
   "execution_count": 23,
   "outputs": [],
   "source": [
    "# E17. Filter all elements whose first non-whitespace character is not a '#'\n",
    "# character. Any element made up of only whitespace characters should be\n",
    "# ignored as well.\n",
    "items = ['    #comment', '\\t\\napple #42', '#oops', 'sure', 'no#1', '\\t\\r\\f']"
   ],
   "metadata": {
    "collapsed": false,
    "pycharm": {
     "name": "#%%\n"
    }
   }
  },
  {
   "cell_type": "code",
   "execution_count": null,
   "outputs": [],
   "source": [
    "# A17\n",
    "# ['\\t\\napple #42', 'sure', 'no#1']"
   ],
   "metadata": {
    "collapsed": false,
    "pycharm": {
     "name": "#%%\n"
    }
   }
  }
 ],
 "metadata": {
  "kernelspec": {
   "display_name": "Python 3",
   "language": "python",
   "name": "python3"
  },
  "language_info": {
   "codemirror_mode": {
    "name": "ipython",
    "version": 2
   },
   "file_extension": ".py",
   "mimetype": "text/x-python",
   "name": "python",
   "nbconvert_exporter": "python",
   "pygments_lexer": "ipython2",
   "version": "2.7.6"
  }
 },
 "nbformat": 4,
 "nbformat_minor": 0
}