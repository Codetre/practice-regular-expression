{
 "cells": [
  {
   "cell_type": "code",
   "execution_count": 1,
   "metadata": {
    "collapsed": true,
    "pycharm": {
     "name": "#%%\n"
    }
   },
   "outputs": [],
   "source": [
    "import re"
   ]
  },
  {
   "cell_type": "code",
   "execution_count": 7,
   "outputs": [
    {
     "name": "stdout",
     "output_type": "stream",
     "text": [
      "<re.Match object; span=(6, 9), match='b^2'>\n",
      "path/something/wrong\n"
     ]
    }
   ],
   "source": [
    "# prefixing metacharacter with `\\` make it const char.\n",
    "print(re.search(r'b\\^2', 'a^2 + b^2 - C*3'))\n",
    "print(re.sub(r'\\\\', '/', r'path\\something\\wrong'))"
   ],
   "metadata": {
    "collapsed": false,
    "pycharm": {
     "name": "#%%\n"
    }
   }
  },
  {
   "cell_type": "markdown",
   "source": [
    "## escape"
   ],
   "metadata": {
    "collapsed": false,
    "pycharm": {
     "name": "#%% md\n"
    }
   }
  },
  {
   "cell_type": "code",
   "execution_count": 13,
   "outputs": [
    {
     "name": "stdout",
     "output_type": "stream",
     "text": [
      "f*c - 3*c\n",
      "f*c - 3*c\n"
     ]
    }
   ],
   "source": [
    "# `re.escape`는 `\\`를 원래 패턴 문자열마다 달 필요가 없게 만든다.\n",
    "# 덕분에 re.escape의 인자를 보기만 해도 무엇이 추출될지 짐작하기 쉽다.\n",
    "eqn = 'f*(a^b) - 3*(a^b)'\n",
    "\n",
    "raw_pattern = r'(a^b)'\n",
    "escaped_pattern = re.escape(raw_pattern)\n",
    "print(re.sub(escaped_pattern, 'c', eqn))\n",
    "\n",
    "raw_pattern = '(a^b)'\n",
    "esc_pattern = re.escape(raw_pattern)\n",
    "print(re.sub(esc_pattern, 'c', eqn))"
   ],
   "metadata": {
    "collapsed": false,
    "pycharm": {
     "name": "#%%\n"
    }
   }
  },
  {
   "cell_type": "code",
   "execution_count": 22,
   "outputs": [
    {
     "name": "stdout",
     "output_type": "stream",
     "text": [
      "Escaped:\n",
      "a_42|\\(a\\^b\\)|2\\|3\n",
      "bX3 Xc X a^b\n",
      "\n",
      "Unescaped:\n",
      "a_42|(a^b)|2|3\n",
      "bXX (a^b)c X|X a^b\n"
     ]
    }
   ],
   "source": [
    "s = 'ba_423 (a^b)c 2|3 a^b'\n",
    "terms = ['a_42', '(a^b)', '2|3']\n",
    "\n",
    "print('Escaped:')\n",
    "escaped_pattern = '|'.join(map(re.escape, terms))\n",
    "print(escaped_pattern)\n",
    "print(re.sub(escaped_pattern, 'X', s))\n",
    "\n",
    "print('\\nUnescaped:')\n",
    "unescaped_pattern = '|'.join(terms)\n",
    "print(unescaped_pattern)\n",
    "print(re.sub(unescaped_pattern, 'X', s))"
   ],
   "metadata": {
    "collapsed": false,
    "pycharm": {
     "name": "#%%\n"
    }
   }
  },
  {
   "cell_type": "code",
   "execution_count": 26,
   "outputs": [
    {
     "data": {
      "text/plain": "'a:b:c'"
     },
     "execution_count": 26,
     "metadata": {},
     "output_type": "execute_result"
    }
   ],
   "source": [
    "re.sub(r'\\t', ':', 'a\\tb\\tc')"
   ],
   "metadata": {
    "collapsed": false,
    "pycharm": {
     "name": "#%%\n"
    }
   }
  },
  {
   "cell_type": "code",
   "execution_count": 27,
   "outputs": [
    {
     "ename": "error",
     "evalue": "bad escape \\e at position 0",
     "output_type": "error",
     "traceback": [
      "\u001B[0;31m---------------------------------------------------------------------------\u001B[0m",
      "\u001B[0;31merror\u001B[0m                                     Traceback (most recent call last)",
      "Input \u001B[0;32mIn [27]\u001B[0m, in \u001B[0;36m<cell line: 2>\u001B[0;34m()\u001B[0m\n\u001B[1;32m      1\u001B[0m \u001B[38;5;66;03m# Undefined escape sequence print an error\u001B[39;00m\n\u001B[0;32m----> 2\u001B[0m \u001B[43mre\u001B[49m\u001B[38;5;241;43m.\u001B[39;49m\u001B[43msearch\u001B[49m\u001B[43m(\u001B[49m\u001B[38;5;124;43mr\u001B[39;49m\u001B[38;5;124;43m'\u001B[39;49m\u001B[38;5;124;43m\\\u001B[39;49m\u001B[38;5;124;43me\u001B[39;49m\u001B[38;5;124;43m'\u001B[39;49m\u001B[43m,\u001B[49m\u001B[43m \u001B[49m\u001B[38;5;124;43m'\u001B[39;49m\u001B[38;5;124;43mhell\u001B[39;49m\u001B[38;5;124;43m\\\u001B[39;49m\u001B[38;5;124;43mo\u001B[39;49m\u001B[38;5;124;43m'\u001B[39;49m\u001B[43m)\u001B[49m\n",
      "File \u001B[0;32m/Library/Frameworks/Python.framework/Versions/3.8/lib/python3.8/re.py:201\u001B[0m, in \u001B[0;36msearch\u001B[0;34m(pattern, string, flags)\u001B[0m\n\u001B[1;32m    198\u001B[0m \u001B[38;5;28;01mdef\u001B[39;00m \u001B[38;5;21msearch\u001B[39m(pattern, string, flags\u001B[38;5;241m=\u001B[39m\u001B[38;5;241m0\u001B[39m):\n\u001B[1;32m    199\u001B[0m     \u001B[38;5;124;03m\"\"\"Scan through string looking for a match to the pattern, returning\u001B[39;00m\n\u001B[1;32m    200\u001B[0m \u001B[38;5;124;03m    a Match object, or None if no match was found.\"\"\"\u001B[39;00m\n\u001B[0;32m--> 201\u001B[0m     \u001B[38;5;28;01mreturn\u001B[39;00m \u001B[43m_compile\u001B[49m\u001B[43m(\u001B[49m\u001B[43mpattern\u001B[49m\u001B[43m,\u001B[49m\u001B[43m \u001B[49m\u001B[43mflags\u001B[49m\u001B[43m)\u001B[49m\u001B[38;5;241m.\u001B[39msearch(string)\n",
      "File \u001B[0;32m/Library/Frameworks/Python.framework/Versions/3.8/lib/python3.8/re.py:304\u001B[0m, in \u001B[0;36m_compile\u001B[0;34m(pattern, flags)\u001B[0m\n\u001B[1;32m    302\u001B[0m \u001B[38;5;28;01mif\u001B[39;00m \u001B[38;5;129;01mnot\u001B[39;00m sre_compile\u001B[38;5;241m.\u001B[39misstring(pattern):\n\u001B[1;32m    303\u001B[0m     \u001B[38;5;28;01mraise\u001B[39;00m \u001B[38;5;167;01mTypeError\u001B[39;00m(\u001B[38;5;124m\"\u001B[39m\u001B[38;5;124mfirst argument must be string or compiled pattern\u001B[39m\u001B[38;5;124m\"\u001B[39m)\n\u001B[0;32m--> 304\u001B[0m p \u001B[38;5;241m=\u001B[39m \u001B[43msre_compile\u001B[49m\u001B[38;5;241;43m.\u001B[39;49m\u001B[43mcompile\u001B[49m\u001B[43m(\u001B[49m\u001B[43mpattern\u001B[49m\u001B[43m,\u001B[49m\u001B[43m \u001B[49m\u001B[43mflags\u001B[49m\u001B[43m)\u001B[49m\n\u001B[1;32m    305\u001B[0m \u001B[38;5;28;01mif\u001B[39;00m \u001B[38;5;129;01mnot\u001B[39;00m (flags \u001B[38;5;241m&\u001B[39m DEBUG):\n\u001B[1;32m    306\u001B[0m     \u001B[38;5;28;01mif\u001B[39;00m \u001B[38;5;28mlen\u001B[39m(_cache) \u001B[38;5;241m>\u001B[39m\u001B[38;5;241m=\u001B[39m _MAXCACHE:\n\u001B[1;32m    307\u001B[0m         \u001B[38;5;66;03m# Drop the oldest item\u001B[39;00m\n",
      "File \u001B[0;32m/Library/Frameworks/Python.framework/Versions/3.8/lib/python3.8/sre_compile.py:764\u001B[0m, in \u001B[0;36mcompile\u001B[0;34m(p, flags)\u001B[0m\n\u001B[1;32m    762\u001B[0m \u001B[38;5;28;01mif\u001B[39;00m isstring(p):\n\u001B[1;32m    763\u001B[0m     pattern \u001B[38;5;241m=\u001B[39m p\n\u001B[0;32m--> 764\u001B[0m     p \u001B[38;5;241m=\u001B[39m \u001B[43msre_parse\u001B[49m\u001B[38;5;241;43m.\u001B[39;49m\u001B[43mparse\u001B[49m\u001B[43m(\u001B[49m\u001B[43mp\u001B[49m\u001B[43m,\u001B[49m\u001B[43m \u001B[49m\u001B[43mflags\u001B[49m\u001B[43m)\u001B[49m\n\u001B[1;32m    765\u001B[0m \u001B[38;5;28;01melse\u001B[39;00m:\n\u001B[1;32m    766\u001B[0m     pattern \u001B[38;5;241m=\u001B[39m \u001B[38;5;28;01mNone\u001B[39;00m\n",
      "File \u001B[0;32m/Library/Frameworks/Python.framework/Versions/3.8/lib/python3.8/sre_parse.py:948\u001B[0m, in \u001B[0;36mparse\u001B[0;34m(str, flags, state)\u001B[0m\n\u001B[1;32m    945\u001B[0m state\u001B[38;5;241m.\u001B[39mstr \u001B[38;5;241m=\u001B[39m \u001B[38;5;28mstr\u001B[39m\n\u001B[1;32m    947\u001B[0m \u001B[38;5;28;01mtry\u001B[39;00m:\n\u001B[0;32m--> 948\u001B[0m     p \u001B[38;5;241m=\u001B[39m \u001B[43m_parse_sub\u001B[49m\u001B[43m(\u001B[49m\u001B[43msource\u001B[49m\u001B[43m,\u001B[49m\u001B[43m \u001B[49m\u001B[43mstate\u001B[49m\u001B[43m,\u001B[49m\u001B[43m \u001B[49m\u001B[43mflags\u001B[49m\u001B[43m \u001B[49m\u001B[38;5;241;43m&\u001B[39;49m\u001B[43m \u001B[49m\u001B[43mSRE_FLAG_VERBOSE\u001B[49m\u001B[43m,\u001B[49m\u001B[43m \u001B[49m\u001B[38;5;241;43m0\u001B[39;49m\u001B[43m)\u001B[49m\n\u001B[1;32m    949\u001B[0m \u001B[38;5;28;01mexcept\u001B[39;00m Verbose:\n\u001B[1;32m    950\u001B[0m     \u001B[38;5;66;03m# the VERBOSE flag was switched on inside the pattern.  to be\u001B[39;00m\n\u001B[1;32m    951\u001B[0m     \u001B[38;5;66;03m# on the safe side, we'll parse the whole thing again...\u001B[39;00m\n\u001B[1;32m    952\u001B[0m     state \u001B[38;5;241m=\u001B[39m State()\n",
      "File \u001B[0;32m/Library/Frameworks/Python.framework/Versions/3.8/lib/python3.8/sre_parse.py:443\u001B[0m, in \u001B[0;36m_parse_sub\u001B[0;34m(source, state, verbose, nested)\u001B[0m\n\u001B[1;32m    441\u001B[0m start \u001B[38;5;241m=\u001B[39m source\u001B[38;5;241m.\u001B[39mtell()\n\u001B[1;32m    442\u001B[0m \u001B[38;5;28;01mwhile\u001B[39;00m \u001B[38;5;28;01mTrue\u001B[39;00m:\n\u001B[0;32m--> 443\u001B[0m     itemsappend(\u001B[43m_parse\u001B[49m\u001B[43m(\u001B[49m\u001B[43msource\u001B[49m\u001B[43m,\u001B[49m\u001B[43m \u001B[49m\u001B[43mstate\u001B[49m\u001B[43m,\u001B[49m\u001B[43m \u001B[49m\u001B[43mverbose\u001B[49m\u001B[43m,\u001B[49m\u001B[43m \u001B[49m\u001B[43mnested\u001B[49m\u001B[43m \u001B[49m\u001B[38;5;241;43m+\u001B[39;49m\u001B[43m \u001B[49m\u001B[38;5;241;43m1\u001B[39;49m\u001B[43m,\u001B[49m\n\u001B[1;32m    444\u001B[0m \u001B[43m                       \u001B[49m\u001B[38;5;129;43;01mnot\u001B[39;49;00m\u001B[43m \u001B[49m\u001B[43mnested\u001B[49m\u001B[43m \u001B[49m\u001B[38;5;129;43;01mand\u001B[39;49;00m\u001B[43m \u001B[49m\u001B[38;5;129;43;01mnot\u001B[39;49;00m\u001B[43m \u001B[49m\u001B[43mitems\u001B[49m\u001B[43m)\u001B[49m)\n\u001B[1;32m    445\u001B[0m     \u001B[38;5;28;01mif\u001B[39;00m \u001B[38;5;129;01mnot\u001B[39;00m sourcematch(\u001B[38;5;124m\"\u001B[39m\u001B[38;5;124m|\u001B[39m\u001B[38;5;124m\"\u001B[39m):\n\u001B[1;32m    446\u001B[0m         \u001B[38;5;28;01mbreak\u001B[39;00m\n",
      "File \u001B[0;32m/Library/Frameworks/Python.framework/Versions/3.8/lib/python3.8/sre_parse.py:525\u001B[0m, in \u001B[0;36m_parse\u001B[0;34m(source, state, verbose, nested, first)\u001B[0m\n\u001B[1;32m    522\u001B[0m         \u001B[38;5;28;01mcontinue\u001B[39;00m\n\u001B[1;32m    524\u001B[0m \u001B[38;5;28;01mif\u001B[39;00m this[\u001B[38;5;241m0\u001B[39m] \u001B[38;5;241m==\u001B[39m \u001B[38;5;124m\"\u001B[39m\u001B[38;5;130;01m\\\\\u001B[39;00m\u001B[38;5;124m\"\u001B[39m:\n\u001B[0;32m--> 525\u001B[0m     code \u001B[38;5;241m=\u001B[39m \u001B[43m_escape\u001B[49m\u001B[43m(\u001B[49m\u001B[43msource\u001B[49m\u001B[43m,\u001B[49m\u001B[43m \u001B[49m\u001B[43mthis\u001B[49m\u001B[43m,\u001B[49m\u001B[43m \u001B[49m\u001B[43mstate\u001B[49m\u001B[43m)\u001B[49m\n\u001B[1;32m    526\u001B[0m     subpatternappend(code)\n\u001B[1;32m    528\u001B[0m \u001B[38;5;28;01melif\u001B[39;00m this \u001B[38;5;129;01mnot\u001B[39;00m \u001B[38;5;129;01min\u001B[39;00m SPECIAL_CHARS:\n",
      "File \u001B[0;32m/Library/Frameworks/Python.framework/Versions/3.8/lib/python3.8/sre_parse.py:426\u001B[0m, in \u001B[0;36m_escape\u001B[0;34m(source, escape, state)\u001B[0m\n\u001B[1;32m    424\u001B[0m     \u001B[38;5;28;01mif\u001B[39;00m \u001B[38;5;28mlen\u001B[39m(escape) \u001B[38;5;241m==\u001B[39m \u001B[38;5;241m2\u001B[39m:\n\u001B[1;32m    425\u001B[0m         \u001B[38;5;28;01mif\u001B[39;00m c \u001B[38;5;129;01min\u001B[39;00m ASCIILETTERS:\n\u001B[0;32m--> 426\u001B[0m             \u001B[38;5;28;01mraise\u001B[39;00m source\u001B[38;5;241m.\u001B[39merror(\u001B[38;5;124m\"\u001B[39m\u001B[38;5;124mbad escape \u001B[39m\u001B[38;5;132;01m%s\u001B[39;00m\u001B[38;5;124m\"\u001B[39m \u001B[38;5;241m%\u001B[39m escape, \u001B[38;5;28mlen\u001B[39m(escape))\n\u001B[1;32m    427\u001B[0m         \u001B[38;5;28;01mreturn\u001B[39;00m LITERAL, \u001B[38;5;28mord\u001B[39m(escape[\u001B[38;5;241m1\u001B[39m])\n\u001B[1;32m    428\u001B[0m \u001B[38;5;28;01mexcept\u001B[39;00m \u001B[38;5;167;01mValueError\u001B[39;00m:\n",
      "\u001B[0;31merror\u001B[0m: bad escape \\e at position 0"
     ]
    }
   ],
   "source": [
    "# Undefined escape sequence print an error\n",
    "re.search(r'\\e', 'hell\\o')"
   ],
   "metadata": {
    "collapsed": false,
    "pycharm": {
     "name": "#%%\n"
    }
   }
  },
  {
   "cell_type": "code",
   "execution_count": 36,
   "outputs": [
    {
     "name": "stdout",
     "output_type": "stream",
     "text": [
      "substituted: hello, \n",
      "and they are same? True\n"
     ]
    }
   ],
   "source": [
    "# Hexadecimal representation: \\x00\n",
    "# '\\x00' is a 1-byte character.\n",
    "s1 = re.sub(r'\\x20', '', ' h e l l o ')  # '\\x20' means a space.\n",
    "s2 = re.sub(r' ', '', ' h e l l o ')\n",
    "print(f'substituted: {s1}, \\nand they are same? {s1 == s2}')"
   ],
   "metadata": {
    "collapsed": false,
    "pycharm": {
     "name": "#%%\n"
    }
   }
  },
  {
   "cell_type": "markdown",
   "source": [
    "# Exercises"
   ],
   "metadata": {
    "collapsed": false,
    "pycharm": {
     "name": "#%% md\n"
    }
   }
  },
  {
   "cell_type": "code",
   "execution_count": 44,
   "outputs": [],
   "source": [
    "# E1. Transform the given input strings to the expected output using the same\n",
    "# logic on both strings.\n",
    "str1 = '(9-2)*5+qty/3'\n",
    "str2 = '(qty+4)/2-(9-2)*5+pq/4'"
   ],
   "metadata": {
    "collapsed": false,
    "pycharm": {
     "name": "#%%\n"
    }
   }
  },
  {
   "cell_type": "code",
   "execution_count": 45,
   "outputs": [
    {
     "name": "stdout",
     "output_type": "stream",
     "text": [
      "35+qty/3\n",
      "(qty+4)/2-35+pq/4\n"
     ]
    }
   ],
   "source": [
    "# A1.\n",
    "# '35+qty/3'\n",
    "# '(qty+4)/2-35+pq/4'\n",
    "raw_pattern = r'(9-2)*5'\n",
    "repl = '35'\n",
    "escaped_pattern = re.escape(raw_pattern)\n",
    "compiled_pattern = re.compile(escaped_pattern)\n",
    "print(compiled_pattern.sub(repl, str1))\n",
    "print(compiled_pattern.sub(repl, str2))"
   ],
   "metadata": {
    "collapsed": false,
    "pycharm": {
     "name": "#%%\n"
    }
   }
  },
  {
   "cell_type": "code",
   "execution_count": 46,
   "outputs": [],
   "source": [
    "# E2. Replace '(4)\\|' with '2' only at the start or end of given input strings.\n",
    "s1 = r'2.3/(4)\\|6 foo 5.3-(4)\\|'\n",
    "s2 = r'(4)\\|42 - (4)\\|3'\n",
    "s3 = 'two - (4)\\\\|\\n'"
   ],
   "metadata": {
    "collapsed": false,
    "pycharm": {
     "name": "#%%\n"
    }
   }
  },
  {
   "cell_type": "code",
   "execution_count": 50,
   "outputs": [
    {
     "name": "stdout",
     "output_type": "stream",
     "text": [
      "2.3/(4)\\|6 foo 5.3-2\n",
      "242 - (4)\\|3\n",
      "two - (4)\\|\n",
      "\n"
     ]
    }
   ],
   "source": [
    "# A2\n",
    "raw_patterns = [r'(4)\\|', r'(4)\\|']\n",
    "escaped_pattern = list(map(re.escape, raw_patterns))\n",
    "escaped_pattern[0] = '\\A' + escaped_pattern[0]\n",
    "escaped_pattern[1] = escaped_pattern[1] + '\\Z'\n",
    "\n",
    "compiled_pattern = re.compile('|'.join(escaped_pattern))\n",
    "print(compiled_pattern.sub('2', s1))  # '2.3/(4)\\|6 foo 5.3-2'\n",
    "print(compiled_pattern.sub('2', s2))  # '242 - (4)\\|3'\n",
    "print(compiled_pattern.sub('2', s3))  # 'two - (4)\\|\\n'"
   ],
   "metadata": {
    "collapsed": false,
    "pycharm": {
     "name": "#%%\n"
    }
   }
  },
  {
   "cell_type": "code",
   "execution_count": 51,
   "outputs": [],
   "source": [
    "# E3. Replace any matching element from the list `items` with 'X' for given the\n",
    "# input strings. Match the elements from `items` literally. Assume no two\n",
    "# elements of `items` will result in any matching conflict.\n",
    "items = ['a.b', '3+n', r'x\\y\\z', 'qty||price', '{n}']"
   ],
   "metadata": {
    "collapsed": false,
    "pycharm": {
     "name": "#%%\n"
    }
   }
  },
  {
   "cell_type": "code",
   "execution_count": 54,
   "outputs": [
    {
     "name": "stdout",
     "output_type": "stream",
     "text": [
      "0Xcd\n",
      "EXAMPLE\n",
      "4X2 aXe\n"
     ]
    }
   ],
   "source": [
    "# A3\n",
    "escaped_pattern = '|'.join(map(re.escape, items))\n",
    "pat = re.compile(escaped_pattern)\n",
    "\n",
    "s1 = pat.sub('X', '0a.bcd')  # '0Xcd'\n",
    "s2 = pat.sub('X', 'E{n}AMPLE')  # 'EXAMPLE'\n",
    "s3 = pat.sub('X', r'43+n2 ax\\y\\ze')  # '4X2 aXe'\n",
    "\n",
    "print(f'{s1}\\n{s2}\\n{s3}')"
   ],
   "metadata": {
    "collapsed": false,
    "pycharm": {
     "name": "#%%\n"
    }
   }
  },
  {
   "cell_type": "code",
   "execution_count": 55,
   "outputs": [
    {
     "name": "stdout",
     "output_type": "stream",
     "text": [
      "12456\n"
     ]
    }
   ],
   "source": [
    "# E4. Replace backspace character '\\b' with a single space character for the\n",
    "# given input string.\n",
    "ip = '123\\b456'\n",
    "# '123\\x08456'\n",
    "print(ip)\n",
    "# 12456"
   ],
   "metadata": {
    "collapsed": false,
    "pycharm": {
     "name": "#%%\n"
    }
   }
  },
  {
   "cell_type": "code",
   "execution_count": 57,
   "outputs": [
    {
     "data": {
      "text/plain": "'123 456'"
     },
     "execution_count": 57,
     "metadata": {},
     "output_type": "execute_result"
    }
   ],
   "source": [
    "# A4\n",
    "raw_pattern = r'\\b'\n",
    "re.sub(re.escape(raw_pattern), ' ', ip)        ##### add your solution here\n",
    "'123 456'"
   ],
   "metadata": {
    "collapsed": false,
    "pycharm": {
     "name": "#%%\n"
    }
   }
  },
  {
   "cell_type": "code",
   "execution_count": 58,
   "outputs": [],
   "source": [
    "# E5. Replace all occurrences of '\\e' with 'e'.\n",
    "ip = r'th\\er\\e ar\\e common asp\\ects among th\\e alt\\ernations'"
   ],
   "metadata": {
    "collapsed": false,
    "pycharm": {
     "name": "#%%\n"
    }
   }
  },
  {
   "cell_type": "code",
   "execution_count": 60,
   "outputs": [
    {
     "data": {
      "text/plain": "'there are common aspects among the alternations'"
     },
     "execution_count": 60,
     "metadata": {},
     "output_type": "execute_result"
    }
   ],
   "source": [
    "# A5\n",
    "re.sub(re.escape(r'\\e'), 'e', ip)\n",
    "'there are common aspects among the alternations'"
   ],
   "metadata": {
    "collapsed": false,
    "pycharm": {
     "name": "#%%\n"
    }
   }
  },
  {
   "cell_type": "code",
   "execution_count": 61,
   "outputs": [],
   "source": [
    "# E6. Replace any matching item from the list `eqns` with 'X' for given the\n",
    "# string `ip`. Match the items from `eqns` literally.\n",
    "ip = '3-(a^b)+2*(a^b)-(a/b)+3'\n",
    "eqns = ['(a^b)', '(a/b)', '(a^b)+2']"
   ],
   "metadata": {
    "collapsed": false,
    "pycharm": {
     "name": "#%%\n"
    }
   }
  },
  {
   "cell_type": "code",
   "execution_count": 63,
   "outputs": [
    {
     "data": {
      "text/plain": "'3-X*X-X+3'"
     },
     "execution_count": 63,
     "metadata": {},
     "output_type": "execute_result"
    }
   ],
   "source": [
    "# A6\n",
    "# '3-X*X-X+3'\n",
    "escaped_pattern = '|'.join(map(re.escape, sorted(eqns, key=len, reverse=True)))\n",
    "pat = re.compile(escaped_pattern)\n",
    "pat.sub('X', ip)"
   ],
   "metadata": {
    "collapsed": false,
    "pycharm": {
     "name": "#%%\n"
    }
   }
  }
 ],
 "metadata": {
  "kernelspec": {
   "display_name": "Python 3",
   "language": "python",
   "name": "python3"
  },
  "language_info": {
   "codemirror_mode": {
    "name": "ipython",
    "version": 2
   },
   "file_extension": ".py",
   "mimetype": "text/x-python",
   "name": "python",
   "nbconvert_exporter": "python",
   "pygments_lexer": "ipython2",
   "version": "2.7.6"
  }
 },
 "nbformat": 4,
 "nbformat_minor": 0
}