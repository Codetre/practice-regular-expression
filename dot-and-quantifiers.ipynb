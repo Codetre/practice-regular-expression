{
 "cells": [
  {
   "cell_type": "code",
   "execution_count": 1,
   "metadata": {
    "collapsed": true,
    "pycharm": {
     "name": "#%%\n"
    }
   },
   "outputs": [],
   "source": [
    "import re"
   ]
  },
  {
   "cell_type": "markdown",
   "source": [
    "# dot metacharacter\n",
    "개행 문자를 제외한 문자 하나를 의미."
   ],
   "metadata": {
    "collapsed": false,
    "pycharm": {
     "name": "#%% md\n"
    }
   }
  },
  {
   "cell_type": "code",
   "execution_count": 4,
   "outputs": [
    {
     "name": "stdout",
     "output_type": "stream",
     "text": [
      "taXin X abXuv aXe\n",
      "bXth maXly repoX oveXes\n",
      "485\n"
     ]
    }
   ],
   "source": [
    "# 하나의 문자열 내에서 패턴 속 `.`가 의미하는 문자들이 모두 같을 필요는 없다.\n",
    "print(re.sub(r'c.t', 'X', 'tac tin cat abc;tuv acute'))\n",
    "print(re.sub(r'r..d', 'X', 'breadth markedly reported overrides'))  # 'reed' 든 'read' 무관.\n",
    "print(re.sub(r'2.3', '8', '42\\t35'))"
   ],
   "metadata": {
    "collapsed": false,
    "pycharm": {
     "name": "#%%\n"
    }
   }
  },
  {
   "cell_type": "code",
   "execution_count": 6,
   "outputs": [],
   "source": [
    "# re.DOTALL 옵션을 주지 않는 한 `.`은 '\\n'에만 대응하지 않는다.\n",
    "re.search(r'a.b', 'a\\nb')"
   ],
   "metadata": {
    "collapsed": false,
    "pycharm": {
     "name": "#%%\n"
    }
   }
  },
  {
   "cell_type": "markdown",
   "source": [
    "# split"
   ],
   "metadata": {
    "collapsed": false,
    "pycharm": {
     "name": "#%% md\n"
    }
   }
  },
  {
   "cell_type": "code",
   "execution_count": 9,
   "outputs": [
    {
     "name": "stdout",
     "output_type": "stream",
     "text": [
      "['apple', '85', 'mango', '70']\n",
      "['apple', '85-mango-70']\n"
     ]
    }
   ],
   "source": [
    "print(re.split(r'-', 'apple-85-mango-70'))\n",
    "print(re.split(r'-', 'apple-85-mango-70', maxsplit=1))"
   ],
   "metadata": {
    "collapsed": false,
    "pycharm": {
     "name": "#%%\n"
    }
   }
  },
  {
   "cell_type": "markdown",
   "source": [
    "# Quantifiers"
   ],
   "metadata": {
    "collapsed": false,
    "pycharm": {
     "name": "#%% md\n"
    }
   }
  },
  {
   "cell_type": "markdown",
   "source": [
    "## Greedy quantifiers\n",
    " 'greedy'라는 말은 최대한 문자를 많이 먹을 수 있는 방향으로 해석한다는 뜻이다.\n",
    "  - `?`: 문자 하나 혹은 그룹을 0이나 1회 상징한다.\n",
    "  - `*`: 문자나 그룹 하나를 0회 이상 상징한다\n",
    "  - `+`: 문자나 그룹 하나를 1회 이상 상징한다"
   ],
   "metadata": {
    "collapsed": false,
    "pycharm": {
     "name": "#%% md\n"
    }
   }
  },
  {
   "cell_type": "markdown",
   "source": [
    "### `?`"
   ],
   "metadata": {
    "collapsed": false,
    "pycharm": {
     "name": "#%% md\n"
    }
   }
  },
  {
   "cell_type": "code",
   "execution_count": 10,
   "outputs": [
    {
     "data": {
      "text/plain": "'fX feat flXe fX'"
     },
     "execution_count": 10,
     "metadata": {},
     "output_type": "execute_result"
    }
   ],
   "source": [
    "# 최대한 문자를 많이 먹을 수 있는 방향으로 해석한다.\n",
    "re.sub(r'e?ar', 'X', 'far feat flare fear')  # (ear|ar)"
   ],
   "metadata": {
    "collapsed": false,
    "pycharm": {
     "name": "#%%\n"
    }
   }
  },
  {
   "cell_type": "code",
   "execution_count": 12,
   "outputs": [
    {
     "data": {
      "text/plain": "'X spare X party'"
     },
     "execution_count": 12,
     "metadata": {},
     "output_type": "execute_result"
    }
   ],
   "source": [
    "re.sub(r'\\bpart?\\b', 'X', 'par spare part party')  # '\\bpar(t|)\\b'"
   ],
   "metadata": {
    "collapsed": false,
    "pycharm": {
     "name": "#%%\n"
    }
   }
  },
  {
   "cell_type": "code",
   "execution_count": 15,
   "outputs": [
    {
     "name": "stdout",
     "output_type": "stream",
     "text": [
      "['red', 'read', 're;d', 'reed']\n",
      "['red', 'read', 're;d', 'reed']\n"
     ]
    }
   ],
   "source": [
    "words = ['red', 'read', 'ready', 're;d', 'road', 'redo', 'reed', 'rod']\n",
    "\n",
    "matched = [word for word in words if re.search(r'\\bre.?d\\b', word)]\n",
    "print(matched)\n",
    "matched = [word for word in words if re.search(r'\\bre(.|)d\\b', word)]\n",
    "print(matched)"
   ],
   "metadata": {
    "collapsed": false,
    "pycharm": {
     "name": "#%%\n"
    }
   }
  },
  {
   "cell_type": "code",
   "execution_count": 19,
   "outputs": [
    {
     "name": "stdout",
     "output_type": "stream",
     "text": [
      "par X X parent\n",
      "par X X parent\n"
     ]
    }
   ],
   "source": [
    "# group 단위로 상징\n",
    "replaced1 = re.sub(r'par(ro)?t', 'X', 'par part parrot parent')  # r'par(ro|)t'  == r'(parrot|part)\n",
    "print(replaced1)\n",
    "replaced1 = re.sub(r'(parrot|part)', 'X', 'par part parrot parent')  # r'par(ro|)t'  == r'(parrot|part)\n",
    "print(replaced1)"
   ],
   "metadata": {
    "collapsed": false,
    "pycharm": {
     "name": "#%%\n"
    }
   }
  },
  {
   "cell_type": "code",
   "execution_count": 20,
   "outputs": [
    {
     "name": "stdout",
     "output_type": "stream",
     "text": [
      "par X X X\n",
      "par X X X\n"
     ]
    }
   ],
   "source": [
    "replaced2 = re.sub(r'par(en|ro)?t', 'X', 'par part parrot parent')  # r'(parrot|parent|part)'\n",
    "print(replaced2)\n",
    "replaced2 = re.sub(r'(parrot|parent|part)', 'X', 'par part parrot parent')  # r'(parrot|parent|part)'\n",
    "print(replaced2)"
   ],
   "metadata": {
    "collapsed": false,
    "pycharm": {
     "name": "#%%\n"
    }
   }
  },
  {
   "cell_type": "markdown",
   "source": [
    "### `*`"
   ],
   "metadata": {
    "collapsed": false,
    "pycharm": {
     "name": "#%% md\n"
    }
   }
  },
  {
   "cell_type": "code",
   "execution_count": 21,
   "outputs": [
    {
     "data": {
      "text/plain": "'X tear Xe steer siXa'"
     },
     "execution_count": 21,
     "metadata": {},
     "output_type": "execute_result"
    }
   ],
   "source": [
    "re.sub(r'ta*r', 'X', 'tr tear tare steer sitaara')  # tr, tar, taar, taaar, ta...r"
   ],
   "metadata": {
    "collapsed": false,
    "pycharm": {
     "name": "#%%\n"
    }
   }
  },
  {
   "cell_type": "code",
   "execution_count": 22,
   "outputs": [
    {
     "data": {
      "text/plain": "'X X Xe sX siXa'"
     },
     "execution_count": 22,
     "metadata": {},
     "output_type": "execute_result"
    }
   ],
   "source": [
    "# t와 r 사이에 들어 있는 문자가 없거나, e나 a 어느 쪽이기만 하면 된다.\n",
    "re.sub(r't(e|a)*r', 'X', 'tr tear tare steer sitaara')"
   ],
   "metadata": {
    "collapsed": false,
    "pycharm": {
     "name": "#%%\n"
    }
   }
  },
  {
   "cell_type": "code",
   "execution_count": 24,
   "outputs": [
    {
     "data": {
      "text/plain": "'3X511114X'"
     },
     "execution_count": 24,
     "metadata": {},
     "output_type": "execute_result"
    }
   ],
   "source": [
    "# 2 단독이거나, 앞에 1이 연속하는 2를 상징한다\n",
    "re.sub(r'1*2', 'X', '3111111111125111142')"
   ],
   "metadata": {
    "collapsed": false,
    "pycharm": {
     "name": "#%%\n"
    }
   }
  },
  {
   "cell_type": "code",
   "execution_count": 27,
   "outputs": [
    {
     "name": "stdout",
     "output_type": "stream",
     "text": [
      "['3', '511114', '']\n",
      "['3', '5111142']\n"
     ]
    }
   ],
   "source": [
    "print(re.split(r'1*2', '3111111111125111142'))\n",
    "print(re.split(r'1*2', '3111111111125111142', maxsplit=1))"
   ],
   "metadata": {
    "collapsed": false,
    "pycharm": {
     "name": "#%%\n"
    }
   }
  },
  {
   "cell_type": "code",
   "execution_count": 30,
   "outputs": [
    {
     "data": {
      "text/plain": "['', 'c', 'l', 'o', '', 'd', 'y', '']"
     },
     "execution_count": 30,
     "metadata": {},
     "output_type": "execute_result"
    }
   ],
   "source": [
    "# '' 이거나 'u'가 연속하는 문자열이거나.\n",
    "re.split(r'u*', 'clouudy')"
   ],
   "metadata": {
    "collapsed": false,
    "pycharm": {
     "name": "#%%\n"
    }
   }
  },
  {
   "cell_type": "markdown",
   "source": [
    "### `+`"
   ],
   "metadata": {
    "collapsed": false,
    "pycharm": {
     "name": "#%% md\n"
    }
   }
  },
  {
   "cell_type": "code",
   "execution_count": 32,
   "outputs": [
    {
     "data": {
      "text/plain": "'tr tear Xe steer siXa'"
     },
     "execution_count": 32,
     "metadata": {},
     "output_type": "execute_result"
    }
   ],
   "source": [
    "# tar, taar, taaaa...r 등 't'와 'r' 사이 최소 1개의 연속되는 'a'는 들어 있다.\n",
    "re.sub(r'ta+r', 'X', 'tr tear tare steer sitaara')"
   ],
   "metadata": {
    "collapsed": false,
    "pycharm": {
     "name": "#%%\n"
    }
   }
  },
  {
   "cell_type": "code",
   "execution_count": 33,
   "outputs": [
    {
     "data": {
      "text/plain": "'tr X Xe sX siXa'"
     },
     "execution_count": 33,
     "metadata": {},
     "output_type": "execute_result"
    }
   ],
   "source": [
    "# 't'와 'r' 사이에 'e'나 'a'를 최소 한 글자는 사용한 조합이 들어간다.\n",
    "re.sub(r't(e|a)+r', 'X', 'tr tear tare steer sitaara')"
   ],
   "metadata": {
    "collapsed": false,
    "pycharm": {
     "name": "#%%\n"
    }
   }
  },
  {
   "cell_type": "code",
   "execution_count": 35,
   "outputs": [
    {
     "data": {
      "text/plain": "'3X5111142'"
     },
     "execution_count": 35,
     "metadata": {},
     "output_type": "execute_result"
    }
   ],
   "source": [
    "re.sub(r'1+2', 'X', '3111111111125111142')"
   ],
   "metadata": {
    "collapsed": false,
    "pycharm": {
     "name": "#%%\n"
    }
   }
  },
  {
   "cell_type": "code",
   "execution_count": 37,
   "outputs": [
    {
     "data": {
      "text/plain": "['3', '25', '42']"
     },
     "execution_count": 37,
     "metadata": {},
     "output_type": "execute_result"
    }
   ],
   "source": [
    "re.split(r'1+', '3111111111125111142', )"
   ],
   "metadata": {
    "collapsed": false,
    "pycharm": {
     "name": "#%%\n"
    }
   }
  },
  {
   "cell_type": "markdown",
   "source": [
    "## `{}`: 중괄호 안에 지정된 방법만큼 상징한다.\n",
    "  - `{m,n}`: [m,n]\n",
    "  - `{m,}`: [m, Inf)\n",
    "  - `{,n}`: [0, n]\n",
    "  - `{n}`: exactly n"
   ],
   "metadata": {
    "collapsed": false,
    "pycharm": {
     "name": "#%% md\n"
    }
   }
  },
  {
   "cell_type": "code",
   "execution_count": 39,
   "outputs": [
    {
     "name": "stdout",
     "output_type": "stream",
     "text": [
      "['abc', 'abbc', 'xabbbcz']\n",
      "['xabbbcz', 'abbbbbc']\n",
      "['abc', 'ac', 'abbc']\n",
      "['xabbbcz']\n"
     ]
    }
   ],
   "source": [
    "demo = ['abc', 'ac', 'adc', 'abbc', 'xabbbcz', 'bbb', 'bc', 'abbbbbc']\n",
    "\n",
    "matched = [w for w in demo if re.search(r'ab{1,4}c', w)]\n",
    "print(matched)  # ['abc', 'abbc', 'xabbbcz']\n",
    "matched = [w for w in demo if re.search(r'ab{3,}c', w)]\n",
    "print(matched)  # ['xabbbcz', 'abbbbbc']\n",
    "matched = [w for w in demo if re.search(r'ab{,2}c', w)]\n",
    "print(matched)  # ['abc', 'ac', 'abbc']\n",
    "matched = [w for w in demo if re.search(r'ab{3}c', w)]\n",
    "print(matched)  # ['xabbbcz']"
   ],
   "metadata": {
    "collapsed": false,
    "pycharm": {
     "name": "#%%\n"
    }
   }
  },
  {
   "cell_type": "code",
   "execution_count": 41,
   "outputs": [
    {
     "data": {
      "text/plain": "<re.Match object; span=(0, 18), match='Error: not a valid'>"
     },
     "execution_count": 41,
     "metadata": {},
     "output_type": "execute_result"
    }
   ],
   "source": [
    "re.search(r'Error.*valid', 'Error: not a valid input')"
   ],
   "metadata": {
    "collapsed": false,
    "pycharm": {
     "name": "#%%\n"
    }
   }
  },
  {
   "cell_type": "markdown",
   "source": [
    "# Logical AND technique"
   ],
   "metadata": {
    "collapsed": false,
    "pycharm": {
     "name": "#%% md\n"
    }
   }
  },
  {
   "cell_type": "code",
   "execution_count": 43,
   "outputs": [
    {
     "name": "stdout",
     "output_type": "stream",
     "text": [
      "True\n",
      "True\n",
      "True\n",
      "True\n"
     ]
    }
   ],
   "source": [
    "seq1, seq2 = 'cat and dog', 'dog and cat'\n",
    "\n",
    "compiled_pattern = re.compile(r'cat.*dog|dog.*cat')\n",
    "print(bool(compiled_pattern.search(seq1)))  # True\n",
    "print(bool(compiled_pattern.search(seq2)))  # True\n",
    "\n",
    "# if you just need True/False result, this would be a scalable approach\n",
    "patterns = (r'cat', r'dog')\n",
    "print(all(re.search(p, seq1) for p in patterns))  # True\n",
    "print(all(re.search(p, seq2) for p in patterns))  # True"
   ],
   "metadata": {
    "collapsed": false,
    "pycharm": {
     "name": "#%%\n"
    }
   }
  },
  {
   "cell_type": "markdown",
   "source": [
    "# greedy 동작 설명"
   ],
   "metadata": {
    "collapsed": false,
    "pycharm": {
     "name": "#%% md\n"
    }
   }
  },
  {
   "cell_type": "code",
   "execution_count": 51,
   "outputs": [
    {
     "data": {
      "text/plain": "'Xt'"
     },
     "execution_count": 51,
     "metadata": {},
     "output_type": "execute_result"
    }
   ],
   "source": [
    "# (f.o|fo)\n",
    "re.sub(r'f.?o', 'X', 'foot')"
   ],
   "metadata": {
    "collapsed": false,
    "pycharm": {
     "name": "#%%\n"
    }
   }
  },
  {
   "cell_type": "code",
   "execution_count": 56,
   "outputs": [
    {
     "name": "stdout",
     "output_type": "stream",
     "text": [
      "blah \\< foo \\< bar \\< blah \\< baz\n"
     ]
    }
   ],
   "source": [
    "# a more practical example\n",
    "# prefix '<' with '\\' if it is not already prefixed\n",
    "# both '<' and '\\<' will get replaced with '\\<'\n",
    "# note the use of raw string for all the three arguments\n",
    "print(re.sub(r'\\\\?<',  # '?' 앞에 '\\'만 붙으면 수량자를 escape 하게 된다.\n",
    "             r'\\<',\n",
    "             r'blah \\< foo < bar \\< blah < baz'))"
   ],
   "metadata": {
    "collapsed": false,
    "pycharm": {
     "name": "#%%\n"
    }
   }
  },
  {
   "cell_type": "code",
   "execution_count": 57,
   "outputs": [
    {
     "data": {
      "text/plain": "'X X X'"
     },
     "execution_count": 57,
     "metadata": {},
     "output_type": "execute_result"
    }
   ],
   "source": [
    "# say goodbye to r'handful|handy|hand' shenanigans\n",
    "re.sub(r'hand(y|ful)?', 'X', 'hand handy handful')"
   ],
   "metadata": {
    "collapsed": false,
    "pycharm": {
     "name": "#%%\n"
    }
   }
  },
  {
   "cell_type": "markdown",
   "source": [
    "## backtracking\n",
    "greedy 수량자가 자신이 먹은 문자열을 끝에서부터 하나씩 뱉어내면서 일치 여부를 가리는 동작."
   ],
   "metadata": {
    "collapsed": false,
    "pycharm": {
     "name": "#%% md\n"
    }
   }
  },
  {
   "cell_type": "code",
   "execution_count": 58,
   "outputs": [
    {
     "name": "stdout",
     "output_type": "stream",
     "text": [
      "Xle\n",
      "sXr\n"
     ]
    }
   ],
   "source": [
    "sentence = 'that is quite a fabricated tale'\n",
    "\n",
    "# r't.*a' will always match from first 't' to last 'a'\n",
    "# also, note that count argument is set to 1 for illustration purposes\n",
    "print(re.sub(r't.*a', 'X', sentence, count=1))  # greedy 동작을 잘 보여주는 예.\n",
    "print(re.sub(r't.*a', 'X', 'star', count=1))"
   ],
   "metadata": {
    "collapsed": false,
    "pycharm": {
     "name": "#%%\n"
    }
   }
  },
  {
   "cell_type": "code",
   "execution_count": 60,
   "outputs": [
    {
     "name": "stdout",
     "output_type": "stream",
     "text": [
      "Xabricated tale\n",
      "Xite a fabricated tale\n"
     ]
    }
   ],
   "source": [
    "sentence = 'that is quite a fabricated tale'\n",
    "print(re.sub(r't.*a.*q.*f', 'X', sentence, count=1))\n",
    "print(re.sub(r't.*a.*u', 'X', sentence, count=1))"
   ],
   "metadata": {
    "collapsed": false,
    "pycharm": {
     "name": "#%%\n"
    }
   }
  },
  {
   "cell_type": "markdown",
   "source": [
    "## non-greedy quantifiers\n",
    "greedy 수량자 뒤에 '?'를 붙여서 'lazy' 혹은 'reluctant'로 만들 수 있다.\n",
    "이 들은 일단 문자를 하나씩만 먹고 일치 여부를 따져보는 방식이다.\n",
    "\n",
    "  - greedy: 문자열을 마지막 자리까지 통째로 먹고 하나씩 뱉어보면서 일치 여부를 따져보기\n",
    "  - lazy: 문자열을 0번째 자리부터 하나씩만 먹어보면서 일치 여부 따져보기"
   ],
   "metadata": {
    "collapsed": false,
    "pycharm": {
     "name": "#%% md\n"
    }
   }
  },
  {
   "cell_type": "code",
   "execution_count": 61,
   "outputs": [
    {
     "name": "stdout",
     "output_type": "stream",
     "text": [
      "Xot\n",
      "Xst\n",
      "X3456789\n",
      "['green', 'teal', 'brown', 'blue']\n"
     ]
    }
   ],
   "source": [
    "print(re.sub(r'f.??o', 'X', 'foot', count=1))  # 선술했듯이 두번째 물음표는 lazifier이다.\n",
    "print(re.sub(r'f.??o', 'X', 'frost', count=1))\n",
    "print(re.sub(r'.{2,5}?', 'X', '123456789', count=1))\n",
    "print(re.split(r':.*?:', 'green:3.14:teal::brown:oh!:blue'))"
   ],
   "metadata": {
    "collapsed": false,
    "pycharm": {
     "name": "#%%\n"
    }
   }
  },
  {
   "cell_type": "code",
   "execution_count": 63,
   "outputs": [
    {
     "name": "stdout",
     "output_type": "stream",
     "text": [
      "Xt is quite a fabricated tale\n",
      "Xabricated tale\n"
     ]
    }
   ],
   "source": [
    "sentence = 'that is quite a fabricated tale'\n",
    "\n",
    "print(re.sub(r't.*?a', 'X', sentence, count=1))\n",
    "print(re.sub(r't.*?a.*?f', 'X', sentence, count=1))"
   ],
   "metadata": {
    "collapsed": false,
    "pycharm": {
     "name": "#%%\n"
    }
   }
  },
  {
   "cell_type": "markdown",
   "source": [
    "# Exercises"
   ],
   "metadata": {
    "collapsed": false,
    "pycharm": {
     "name": "#%% md\n"
    }
   }
  },
  {
   "cell_type": "code",
   "execution_count": 66,
   "outputs": [],
   "source": [
    "# E1. Replace 42//5 or 42/5 with 8 for the given input.\n",
    "ip = 'a+42//5-c pressure*3+42/5-14256'"
   ],
   "metadata": {
    "collapsed": false,
    "pycharm": {
     "name": "#%%\n"
    }
   }
  },
  {
   "cell_type": "code",
   "execution_count": 68,
   "outputs": [
    {
     "data": {
      "text/plain": "'a+8-c pressure*3+8-14256'"
     },
     "execution_count": 68,
     "metadata": {},
     "output_type": "execute_result"
    }
   ],
   "source": [
    "# A1\n",
    "re.sub(r'42/+5', '8', ip)  # 'a+8-c pressure*3+8-14256'"
   ],
   "metadata": {
    "collapsed": false,
    "pycharm": {
     "name": "#%%\n"
    }
   }
  },
  {
   "cell_type": "code",
   "execution_count": 69,
   "outputs": [],
   "source": [
    "# b) For the list items, filter all elements starting with 'hand' and ending with\n",
    "# at most one more character or 'le'.\n",
    "items = ['handed', 'hand', 'handled', 'handy', 'unhand', 'hands', 'handle']"
   ],
   "metadata": {
    "collapsed": false,
    "pycharm": {
     "name": "#%%\n"
    }
   }
  },
  {
   "cell_type": "code",
   "execution_count": 71,
   "outputs": [
    {
     "data": {
      "text/plain": "['hand', 'handy', 'hands', 'handle']"
     },
     "execution_count": 71,
     "metadata": {},
     "output_type": "execute_result"
    }
   ],
   "source": [
    "# A2\n",
    "# ['hand', 'handy', 'hands', 'handle']\n",
    "compiled_pattern = re.compile(r'\\Ahand(.?|le)\\Z')\n",
    "[item for item in items if compiled_pattern.search(item)]"
   ],
   "metadata": {
    "collapsed": false,
    "pycharm": {
     "name": "#%%\n"
    }
   }
  },
  {
   "cell_type": "code",
   "execution_count": 73,
   "outputs": [],
   "source": [
    "# E3. Use `re.split` to get the output as shown for the given input strings.\n",
    "eqn1 = 'a+42//5-c'\n",
    "eqn2 = 'pressure*3+42/5-14256'\n",
    "eqn3 = 'r*42-5/3+42///5-42/53+a'"
   ],
   "metadata": {
    "collapsed": false,
    "pycharm": {
     "name": "#%%\n"
    }
   }
  },
  {
   "cell_type": "code",
   "execution_count": 80,
   "outputs": [
    {
     "name": "stdout",
     "output_type": "stream",
     "text": [
      "['a+', '-c']\n",
      "['pressure*3+', '-14256']\n",
      "['r*42-5/3+42///5-', '3+a']\n"
     ]
    }
   ],
   "source": [
    "# A3\n",
    "compiled_pattern = re.compile(r'42//?5')\n",
    "splited1 = compiled_pattern.split(eqn1)\n",
    "splited2 = compiled_pattern.split(eqn2)\n",
    "splited3 = compiled_pattern.split(eqn3)\n",
    "\n",
    "print(splited1)  # ['a+', '-c']\n",
    "print(splited2)  # ['pressure*3+', '-14256']\n",
    "print(splited3)  # ['r*42-5/3+42///5-', '3+a']"
   ],
   "metadata": {
    "collapsed": false,
    "pycharm": {
     "name": "#%%\n"
    }
   }
  },
  {
   "cell_type": "code",
   "execution_count": 81,
   "outputs": [],
   "source": [
    "# E4. For the given input strings, remove everything from the first occurrence\n",
    "# of 'i' till end of the string.\n",
    "s1 = 'remove the special meaning of such constructs'\n",
    "s2 = 'characters while constructing'"
   ],
   "metadata": {
    "collapsed": false,
    "pycharm": {
     "name": "#%%\n"
    }
   }
  },
  {
   "cell_type": "code",
   "execution_count": 90,
   "outputs": [
    {
     "name": "stdout",
     "output_type": "stream",
     "text": [
      "remove the spec\n",
      "characters wh\n"
     ]
    }
   ],
   "source": [
    "# A4\n",
    "pat = re.compile(r'i.*\\Z')\n",
    "print(pat.sub('', s1))  # 'remove the spec'\n",
    "print(pat.sub('', s2))  # 'characters wh'"
   ],
   "metadata": {
    "collapsed": false,
    "pycharm": {
     "name": "#%%\n"
    }
   }
  },
  {
   "cell_type": "code",
   "execution_count": 91,
   "outputs": [],
   "source": [
    "# E5. For the given strings, construct a RE to get output as shown.\n",
    "str1 = 'a+b(addition)'\n",
    "str2 = 'a/b(division) + c%d(#modulo)'\n",
    "str3 = 'Hi there(greeting). Nice day(a(b)'"
   ],
   "metadata": {
    "collapsed": false,
    "pycharm": {
     "name": "#%%\n"
    }
   }
  },
  {
   "cell_type": "code",
   "execution_count": 97,
   "outputs": [
    {
     "name": "stdout",
     "output_type": "stream",
     "text": [
      "a+b\n",
      "a/b + c%d\n",
      "Hi there. Nice day\n"
     ]
    }
   ],
   "source": [
    "# A5\n",
    "remove_parentheses = re.compile(r'\\(.*?\\)')\n",
    "print(remove_parentheses.sub('', str1))  # 'a+b'\n",
    "print(remove_parentheses.sub('', str2))  # 'a/b + c%d'\n",
    "print(remove_parentheses.sub('', str3))  # 'Hi there. Nice day'"
   ],
   "metadata": {
    "collapsed": false,
    "pycharm": {
     "name": "#%%\n"
    }
   }
  },
  {
   "cell_type": "code",
   "execution_count": 99,
   "outputs": [
    {
     "data": {
      "text/plain": "'plXk XcomXg tX wXer X cautX sentient'"
     },
     "execution_count": 99,
     "metadata": {},
     "output_type": "execute_result"
    }
   ],
   "source": [
    "# E6. Correct the given RE to get the expected output.\n",
    "words = 'plink incoming tint winter in caution sentient'\n",
    "\n",
    "# wrong output\n",
    "change = re.compile(r'int|in|ion|ing|inco|inter|ink')\n",
    "change.sub('X', words)  # 'plXk XcomXg tX wXer X cautX sentient'"
   ],
   "metadata": {
    "collapsed": false,
    "pycharm": {
     "name": "#%%\n"
    }
   }
  },
  {
   "cell_type": "code",
   "execution_count": 103,
   "outputs": [
    {
     "data": {
      "text/plain": "'plX X tX wX X cautX sentient'"
     },
     "execution_count": 103,
     "metadata": {},
     "output_type": "execute_result"
    }
   ],
   "source": [
    "# A6\n",
    "# ink, ing, int, inter, in, ion -> X\n",
    "change = re.compile(r'io?n.*?\\b')\n",
    "change.sub('X', words)  # 'plX XmX tX wX X cautX sentient'"
   ],
   "metadata": {
    "collapsed": false,
    "pycharm": {
     "name": "#%%\n"
    }
   }
  },
  {
   "cell_type": "code",
   "execution_count": null,
   "outputs": [],
   "source": [
    "# E7. For the given greedy quantifiers, what would be the equivalent form using\n",
    "# '{m,n}' representation?"
   ],
   "metadata": {
    "collapsed": false,
    "pycharm": {
     "name": "#%%\n"
    }
   }
  },
  {
   "cell_type": "code",
   "execution_count": 147,
   "outputs": [
    {
     "name": "stdout",
     "output_type": "stream",
     "text": [
      "True\n",
      "True\n",
      "True\n"
     ]
    }
   ],
   "source": [
    "# A7\n",
    "sample = 'I am very grateful for your mercy.'\n",
    "\n",
    "# r'?' == {,1}\n",
    "result = (re.search(r'a?', sample).group() ==\n",
    "          re.search(r'a{,1}', sample).group())\n",
    "print(result)\n",
    "\n",
    "# r'*' == {0,}\n",
    "result = (re.search(r'a*', sample).group() ==\n",
    "          re.search(r'a{0,}', sample).group())\n",
    "print(result)\n",
    "\n",
    "# r'+' == {1,}\n",
    "result = (re.search(r'a+', sample).group() ==\n",
    "          re.search(r'a{1,}', sample).group())\n",
    "print(result)"
   ],
   "metadata": {
    "collapsed": false,
    "pycharm": {
     "name": "#%%\n"
    }
   }
  },
  {
   "cell_type": "code",
   "execution_count": null,
   "outputs": [],
   "source": [
    "# E8. (a*|b*) is same as (a|b)* — True or False?"
   ],
   "metadata": {
    "collapsed": false,
    "pycharm": {
     "name": "#%%\n"
    }
   }
  },
  {
   "cell_type": "code",
   "execution_count": 107,
   "outputs": [
    {
     "name": "stdout",
     "output_type": "stream",
     "text": [
      "a != ab\n"
     ]
    }
   ],
   "source": [
    "# A8.\n",
    "raw_pattern1 = r'(a*|b*)'  # a의 시퀀스, 혹은 b의 시퀀스\n",
    "raw_pattern2 = r'(a|b)*'  # a나 b로 조합된 시퀀스\n",
    "sample = 'abraham'\n",
    "matched1 = re.search(raw_pattern1, sample)\n",
    "matched2 = re.search(raw_pattern2, sample)\n",
    "print(f'{matched1.group()} != {matched2.group()}')"
   ],
   "metadata": {
    "collapsed": false,
    "pycharm": {
     "name": "#%%\n"
    }
   }
  },
  {
   "cell_type": "code",
   "execution_count": 140,
   "outputs": [],
   "source": [
    "# E9. For the given input strings, remove everything from the first occurrence\n",
    "# of 'test' (irrespective of case) till end of the string, provided 'test'\n",
    "# isn't at the end of the string.\n",
    "s1 = 'this is a Test'\n",
    "s2 = 'always test your RE for corner cases'\n",
    "s3 = 'a TEST of skill tests?'"
   ],
   "metadata": {
    "collapsed": false,
    "pycharm": {
     "name": "#%%\n"
    }
   }
  },
  {
   "cell_type": "code",
   "execution_count": 142,
   "outputs": [
    {
     "name": "stdout",
     "output_type": "stream",
     "text": [
      "'this is a Test'\n",
      "'always '\n",
      "'a '\n"
     ]
    }
   ],
   "source": [
    "# A9\n",
    "pat = re.compile(r'test.+\\Z', re.I)\n",
    "print(f\"'{pat.sub('', s1)}'\")  # 'this is a Test' <- '\\Z' 직전 'test'는 사라져선 안된다.\n",
    "print(f\"'{pat.sub('', s2)}'\")  # 'always '\n",
    "print(f\"'{pat.sub('', s3)}'\")  # 'a '"
   ],
   "metadata": {
    "collapsed": false,
    "pycharm": {
     "name": "#%%\n"
    }
   }
  },
  {
   "cell_type": "code",
   "execution_count": null,
   "outputs": [],
   "source": [
    "# E10. For the input list words, filter all elements starting with 's' and\n",
    "# containing 'e' and 't' in any order.\n",
    "words = ['sequoia', 'subtle', 'exhibit', 'asset', 'sets', 'tests', 'site']"
   ],
   "metadata": {
    "collapsed": false,
    "pycharm": {
     "name": "#%%\n"
    }
   }
  },
  {
   "cell_type": "code",
   "execution_count": 138,
   "outputs": [
    {
     "name": "stdout",
     "output_type": "stream",
     "text": [
      "['subtle', 'sets', 'site']\n"
     ]
    }
   ],
   "source": [
    "# A10\n",
    "compiled_pattern = re.compile(r'\\As.*(e.*t|t.*e).*')\n",
    "matched = [word for word in words if compiled_pattern.search(word)]\n",
    "print(matched)  # ['subtle', 'sets', 'site']"
   ],
   "metadata": {
    "collapsed": false,
    "pycharm": {
     "name": "#%%\n"
    }
   }
  },
  {
   "cell_type": "code",
   "execution_count": null,
   "outputs": [],
   "source": [
    "# E11 For the input list 'words', remove all elements having less than 6\n",
    "# characters.\n",
    "words = ['sequoia', 'subtle', 'exhibit', 'asset', 'sets', 'tests', 'site']"
   ],
   "metadata": {
    "collapsed": false,
    "pycharm": {
     "name": "#%%\n"
    }
   }
  },
  {
   "cell_type": "code",
   "execution_count": 136,
   "outputs": [
    {
     "name": "stdout",
     "output_type": "stream",
     "text": [
      "['sequoia', 'subtle', 'exhibit']\n"
     ]
    }
   ],
   "source": [
    "# A11\n",
    "compiled_pattern = re.compile(r'.{6,}')\n",
    "matched = [word for word in words if compiled_pattern.search(word)]\n",
    "print(matched)  # ['sequoia', 'subtle', 'exhibit']"
   ],
   "metadata": {
    "collapsed": false,
    "pycharm": {
     "name": "#%%\n"
    }
   }
  },
  {
   "cell_type": "code",
   "execution_count": 131,
   "outputs": [],
   "source": [
    "# E12. For the input list `words`, filter all elements starting with 's' or 't'\n",
    "# and having a maximum of 6 characters.\n",
    "words = ['sequoia', 'subtle', 'exhibit', 'asset', 'sets', 'tests', 'site']"
   ],
   "metadata": {
    "collapsed": false,
    "pycharm": {
     "name": "#%%\n"
    }
   }
  },
  {
   "cell_type": "code",
   "execution_count": 135,
   "outputs": [
    {
     "name": "stdout",
     "output_type": "stream",
     "text": [
      "['subtle', 'sets', 'tests', 'site']\n"
     ]
    }
   ],
   "source": [
    "# A12\n",
    "compiled_pattern = re.compile(r'\\A(s|t).{,5}\\Z')\n",
    "matched = [word for word in words if compiled_pattern.search(word)]\n",
    "print(matched)  # ['subtle', 'sets', 'tests', 'site']\n"
   ],
   "metadata": {
    "collapsed": false,
    "pycharm": {
     "name": "#%%\n"
    }
   }
  },
  {
   "cell_type": "code",
   "execution_count": 119,
   "outputs": [
    {
     "name": "stdout",
     "output_type": "stream",
     "text": [
      "Unexpected: a 1 2\n"
     ]
    }
   ],
   "source": [
    "# E13. Can you reason out why this code results in the output shown?\n",
    "# The aim was to remove all <characters> patterns but not the <> ones.\n",
    "# The expected result was 'a 1<> b 2<> c'.\n",
    "ip = 'a<apple> 1<> b<bye> 2<> c<cat>'\n",
    "\n",
    "print(f\"Unexpected: {re.sub(r'<.+?>', '', ip)}\")  # 'a 1 2'"
   ],
   "metadata": {
    "collapsed": false,
    "pycharm": {
     "name": "#%%\n"
    }
   }
  },
  {
   "cell_type": "code",
   "execution_count": 129,
   "outputs": [
    {
     "data": {
      "text/plain": "'a 1<> b 2<> c'"
     },
     "execution_count": 129,
     "metadata": {},
     "output_type": "execute_result"
    }
   ],
   "source": [
    "# A13\n",
    "# What replaced? '<apple>', '<> b<bye>', '<> c<cat>'\n",
    "# '<>'에서 '.+?' 패턴이 찾은 것은 '>'으로 다음 닫는 꺽쇠를 찾을 때까지 탐색을 진행했다.\n",
    "re.sub(r'<(a|b|c).*?>', '', ip)  # 'a 1<> b 2<> c'"
   ],
   "metadata": {
    "collapsed": false,
    "pycharm": {
     "name": "#%%\n"
    }
   }
  },
  {
   "cell_type": "code",
   "execution_count": 113,
   "outputs": [],
   "source": [
    "# E14. Use `re.split` to get the output as shown below for given input strings.\n",
    "s1 = 'go there  //   \"this // that\"'  # '  //   '\n",
    "s2 = 'a//b // c//d e//f // 4//5'  # ' // '\n",
    "s3 = '42// hi//bye//see // carefully'  # ' // '"
   ],
   "metadata": {
    "collapsed": false,
    "pycharm": {
     "name": "#%%\n"
    }
   }
  },
  {
   "cell_type": "code",
   "execution_count": 116,
   "outputs": [
    {
     "name": "stdout",
     "output_type": "stream",
     "text": [
      "['go there', '  \"this', 'that\"']\n",
      "['a//b', 'c//d e//f', '4//5']\n",
      "['42// hi//bye//see', 'carefully']\n"
     ]
    }
   ],
   "source": [
    "# A14\n",
    "pat = re.compile(r' +?// +?')\n",
    "print(pat.split(s1))  # ['go there', '\"this // that\"']\n",
    "print(pat.split(s2))  # ['a//b', 'c//d e//f // 4//5']\n",
    "print(pat.split(s3))  # ['42// hi//bye//see', 'carefully']"
   ],
   "metadata": {
    "collapsed": false,
    "pycharm": {
     "name": "#%%\n"
    }
   }
  }
 ],
 "metadata": {
  "kernelspec": {
   "display_name": "Python 3",
   "language": "python",
   "name": "python3"
  },
  "language_info": {
   "codemirror_mode": {
    "name": "ipython",
    "version": 2
   },
   "file_extension": ".py",
   "mimetype": "text/x-python",
   "name": "python",
   "nbconvert_exporter": "python",
   "pygments_lexer": "ipython2",
   "version": "2.7.6"
  }
 },
 "nbformat": 4,
 "nbformat_minor": 0
}