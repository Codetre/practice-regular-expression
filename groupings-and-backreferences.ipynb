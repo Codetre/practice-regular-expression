{
 "cells": [
  {
   "cell_type": "code",
   "execution_count": 1,
   "metadata": {
    "collapsed": true,
    "pycharm": {
     "name": "#%%\n"
    }
   },
   "outputs": [],
   "source": [
    "import re"
   ]
  },
  {
   "cell_type": "markdown",
   "source": [
    "capture group에 의해 포착된 문자열을 backreference로 재사용할 수 있다.\n",
    "단순 capture group에 의해 잡을 수 없던 문자열을 특별한 그룹 문법으로 잡을수 있다."
   ],
   "metadata": {
    "collapsed": false,
    "pycharm": {
     "name": "#%% md\n"
    }
   }
  },
  {
   "cell_type": "markdown",
   "source": [
    "# 문법 설명\n",
    "The syntax is \\N or \\g<N> where N is the capture group you want. The below syntax variations is applicable for replacement section, assuming they are used within raw strings.\n",
    "\n",
    "  - \\1, \\2 up to \\99 to refer to the corresponding capture group\n",
    "    - provided there are no digit characters after\n",
    "    - \\0 and \\NNN will be interpreted as octal value\n",
    "  - \\g<1>, \\g<2> etc (not limited to 99) to refer to the corresponding capture group\n",
    "    - this also helps to avoid ambiguity between backreference and digits that follow\n",
    "  - \\g<0> to refer to entire matched portion, similar to index 0 of re.Match objects\n",
    "    - \\0 cannot be used because numbers starting with 0 are treated as octal value"
   ],
   "metadata": {
    "collapsed": false,
    "pycharm": {
     "name": "#%% md\n"
    }
   }
  },
  {
   "cell_type": "markdown",
   "source": [
    "## `\\N` 방식 역참조"
   ],
   "metadata": {
    "collapsed": false,
    "pycharm": {
     "name": "#%% md\n"
    }
   }
  },
  {
   "cell_type": "code",
   "execution_count": 3,
   "outputs": [
    {
     "data": {
      "text/plain": "'52 apples and 31 mangoes'"
     },
     "execution_count": 3,
     "metadata": {},
     "output_type": "execute_result"
    }
   ],
   "source": [
    "# 주어진 문자열에서 [nn] 표현을 각괄호를 없애고 숫자만 남긴다.\n",
    "# repl 역참조 패턴은 raw string임에 주의.\n",
    "re.sub(r'\\[(\\d+)\\]', r'\\1', '[52] apples and [31] mangoes')"
   ],
   "metadata": {
    "collapsed": false,
    "pycharm": {
     "name": "#%%\n"
    }
   }
  },
  {
   "cell_type": "code",
   "execution_count": 4,
   "outputs": [
    {
     "data": {
      "text/plain": "'foo _123_ baz'"
     },
     "execution_count": 4,
     "metadata": {},
     "output_type": "execute_result"
    }
   ],
   "source": [
    "# '__'는 '_'로, '_'만 있다면 아예 삭제.\n",
    "re.sub(r'(_)?_', r'\\1', '_foo_ __123__ _baz_')"
   ],
   "metadata": {
    "collapsed": false,
    "pycharm": {
     "name": "#%%\n"
    }
   }
  },
  {
   "cell_type": "code",
   "execution_count": 6,
   "outputs": [
    {
     "data": {
      "text/plain": "'bad,good 24,42'"
     },
     "execution_count": 6,
     "metadata": {},
     "output_type": "execute_result"
    }
   ],
   "source": [
    "# 쉼표로 구분된 두 단어의 위치를 맞바꾼다.\n",
    "re.sub(r'(\\w+),(\\w+)', r'\\2,\\1', 'good,bad 42,24')"
   ],
   "metadata": {
    "collapsed": false,
    "pycharm": {
     "name": "#%%\n"
    }
   }
  },
  {
   "cell_type": "code",
   "execution_count": 16,
   "outputs": [
    {
     "name": "stdout",
     "output_type": "stream",
     "text": [
      "bad,good 24,42 \n"
     ]
    }
   ],
   "source": [
    "# capture group은 Match 객체의 group 메소드로도 잡을 수 있다.\n",
    "result = ''\n",
    "for matched in re.finditer(r'(\\w+),(\\w+)', 'good,bad 42,24'):\n",
    "    w1, w2 = matched.groups()\n",
    "    result += f'{w2},{w1} '\n",
    "print(result)"
   ],
   "metadata": {
    "collapsed": false,
    "pycharm": {
     "name": "#%%\n"
    }
   }
  },
  {
   "cell_type": "code",
   "execution_count": 18,
   "outputs": [
    {
     "ename": "error",
     "evalue": "invalid group reference 2 at position 2",
     "output_type": "error",
     "traceback": [
      "\u001B[0;31m---------------------------------------------------------------------------\u001B[0m",
      "\u001B[0;31merror\u001B[0m                                     Traceback (most recent call last)",
      "Input \u001B[0;32mIn [18]\u001B[0m, in \u001B[0;36m<cell line: 2>\u001B[0;34m()\u001B[0m\n\u001B[1;32m      1\u001B[0m \u001B[38;5;66;03m# ambiguity between \\N and digit characters part of replacement string\u001B[39;00m\n\u001B[0;32m----> 2\u001B[0m \u001B[43mre\u001B[49m\u001B[38;5;241;43m.\u001B[39;49m\u001B[43msub\u001B[49m\u001B[43m(\u001B[49m\u001B[38;5;124;43mr\u001B[39;49m\u001B[38;5;124;43m'\u001B[39;49m\u001B[38;5;124;43m\\\u001B[39;49m\u001B[38;5;124;43m[(\u001B[39;49m\u001B[38;5;124;43m\\\u001B[39;49m\u001B[38;5;124;43md+)\u001B[39;49m\u001B[38;5;124;43m\\\u001B[39;49m\u001B[38;5;124;43m]\u001B[39;49m\u001B[38;5;124;43m'\u001B[39;49m\u001B[43m,\u001B[49m\u001B[43m \u001B[49m\u001B[38;5;124;43mr\u001B[39;49m\u001B[38;5;124;43m'\u001B[39;49m\u001B[38;5;124;43m(\u001B[39;49m\u001B[38;5;124;43m\\\u001B[39;49m\u001B[38;5;124;43m2)\u001B[39;49m\u001B[38;5;124;43m'\u001B[39;49m\u001B[43m,\u001B[49m\u001B[43m \u001B[49m\u001B[38;5;124;43m'\u001B[39;49m\u001B[38;5;124;43m[52] apples and [31] mangoes\u001B[39;49m\u001B[38;5;124;43m'\u001B[39;49m\u001B[43m)\u001B[49m\n",
      "File \u001B[0;32m/Library/Frameworks/Python.framework/Versions/3.8/lib/python3.8/re.py:210\u001B[0m, in \u001B[0;36msub\u001B[0;34m(pattern, repl, string, count, flags)\u001B[0m\n\u001B[1;32m    203\u001B[0m \u001B[38;5;28;01mdef\u001B[39;00m \u001B[38;5;21msub\u001B[39m(pattern, repl, string, count\u001B[38;5;241m=\u001B[39m\u001B[38;5;241m0\u001B[39m, flags\u001B[38;5;241m=\u001B[39m\u001B[38;5;241m0\u001B[39m):\n\u001B[1;32m    204\u001B[0m     \u001B[38;5;124;03m\"\"\"Return the string obtained by replacing the leftmost\u001B[39;00m\n\u001B[1;32m    205\u001B[0m \u001B[38;5;124;03m    non-overlapping occurrences of the pattern in string by the\u001B[39;00m\n\u001B[1;32m    206\u001B[0m \u001B[38;5;124;03m    replacement repl.  repl can be either a string or a callable;\u001B[39;00m\n\u001B[1;32m    207\u001B[0m \u001B[38;5;124;03m    if a string, backslash escapes in it are processed.  If it is\u001B[39;00m\n\u001B[1;32m    208\u001B[0m \u001B[38;5;124;03m    a callable, it's passed the Match object and must return\u001B[39;00m\n\u001B[1;32m    209\u001B[0m \u001B[38;5;124;03m    a replacement string to be used.\"\"\"\u001B[39;00m\n\u001B[0;32m--> 210\u001B[0m     \u001B[38;5;28;01mreturn\u001B[39;00m \u001B[43m_compile\u001B[49m\u001B[43m(\u001B[49m\u001B[43mpattern\u001B[49m\u001B[43m,\u001B[49m\u001B[43m \u001B[49m\u001B[43mflags\u001B[49m\u001B[43m)\u001B[49m\u001B[38;5;241;43m.\u001B[39;49m\u001B[43msub\u001B[49m\u001B[43m(\u001B[49m\u001B[43mrepl\u001B[49m\u001B[43m,\u001B[49m\u001B[43m \u001B[49m\u001B[43mstring\u001B[49m\u001B[43m,\u001B[49m\u001B[43m \u001B[49m\u001B[43mcount\u001B[49m\u001B[43m)\u001B[49m\n",
      "File \u001B[0;32m/Library/Frameworks/Python.framework/Versions/3.8/lib/python3.8/re.py:327\u001B[0m, in \u001B[0;36m_subx\u001B[0;34m(pattern, template)\u001B[0m\n\u001B[1;32m    325\u001B[0m \u001B[38;5;28;01mdef\u001B[39;00m \u001B[38;5;21m_subx\u001B[39m(pattern, template):\n\u001B[1;32m    326\u001B[0m     \u001B[38;5;66;03m# internal: Pattern.sub/subn implementation helper\u001B[39;00m\n\u001B[0;32m--> 327\u001B[0m     template \u001B[38;5;241m=\u001B[39m \u001B[43m_compile_repl\u001B[49m\u001B[43m(\u001B[49m\u001B[43mtemplate\u001B[49m\u001B[43m,\u001B[49m\u001B[43m \u001B[49m\u001B[43mpattern\u001B[49m\u001B[43m)\u001B[49m\n\u001B[1;32m    328\u001B[0m     \u001B[38;5;28;01mif\u001B[39;00m \u001B[38;5;129;01mnot\u001B[39;00m template[\u001B[38;5;241m0\u001B[39m] \u001B[38;5;129;01mand\u001B[39;00m \u001B[38;5;28mlen\u001B[39m(template[\u001B[38;5;241m1\u001B[39m]) \u001B[38;5;241m==\u001B[39m \u001B[38;5;241m1\u001B[39m:\n\u001B[1;32m    329\u001B[0m         \u001B[38;5;66;03m# literal replacement\u001B[39;00m\n\u001B[1;32m    330\u001B[0m         \u001B[38;5;28;01mreturn\u001B[39;00m template[\u001B[38;5;241m1\u001B[39m][\u001B[38;5;241m0\u001B[39m]\n",
      "File \u001B[0;32m/Library/Frameworks/Python.framework/Versions/3.8/lib/python3.8/re.py:318\u001B[0m, in \u001B[0;36m_compile_repl\u001B[0;34m(repl, pattern)\u001B[0m\n\u001B[1;32m    315\u001B[0m \u001B[38;5;129m@functools\u001B[39m\u001B[38;5;241m.\u001B[39mlru_cache(_MAXCACHE)\n\u001B[1;32m    316\u001B[0m \u001B[38;5;28;01mdef\u001B[39;00m \u001B[38;5;21m_compile_repl\u001B[39m(repl, pattern):\n\u001B[1;32m    317\u001B[0m     \u001B[38;5;66;03m# internal: compile replacement pattern\u001B[39;00m\n\u001B[0;32m--> 318\u001B[0m     \u001B[38;5;28;01mreturn\u001B[39;00m \u001B[43msre_parse\u001B[49m\u001B[38;5;241;43m.\u001B[39;49m\u001B[43mparse_template\u001B[49m\u001B[43m(\u001B[49m\u001B[43mrepl\u001B[49m\u001B[43m,\u001B[49m\u001B[43m \u001B[49m\u001B[43mpattern\u001B[49m\u001B[43m)\u001B[49m\n",
      "File \u001B[0;32m/Library/Frameworks/Python.framework/Versions/3.8/lib/python3.8/sre_parse.py:1036\u001B[0m, in \u001B[0;36mparse_template\u001B[0;34m(source, state)\u001B[0m\n\u001B[1;32m   1034\u001B[0m             lappend(\u001B[38;5;28mchr\u001B[39m(c))\n\u001B[1;32m   1035\u001B[0m     \u001B[38;5;28;01mif\u001B[39;00m \u001B[38;5;129;01mnot\u001B[39;00m isoctal:\n\u001B[0;32m-> 1036\u001B[0m         \u001B[43maddgroup\u001B[49m\u001B[43m(\u001B[49m\u001B[38;5;28;43mint\u001B[39;49m\u001B[43m(\u001B[49m\u001B[43mthis\u001B[49m\u001B[43m[\u001B[49m\u001B[38;5;241;43m1\u001B[39;49m\u001B[43m:\u001B[49m\u001B[43m]\u001B[49m\u001B[43m)\u001B[49m\u001B[43m,\u001B[49m\u001B[43m \u001B[49m\u001B[38;5;28;43mlen\u001B[39;49m\u001B[43m(\u001B[49m\u001B[43mthis\u001B[49m\u001B[43m)\u001B[49m\u001B[43m \u001B[49m\u001B[38;5;241;43m-\u001B[39;49m\u001B[43m \u001B[49m\u001B[38;5;241;43m1\u001B[39;49m\u001B[43m)\u001B[49m\n\u001B[1;32m   1037\u001B[0m \u001B[38;5;28;01melse\u001B[39;00m:\n\u001B[1;32m   1038\u001B[0m     \u001B[38;5;28;01mtry\u001B[39;00m:\n",
      "File \u001B[0;32m/Library/Frameworks/Python.framework/Versions/3.8/lib/python3.8/sre_parse.py:980\u001B[0m, in \u001B[0;36mparse_template.<locals>.addgroup\u001B[0;34m(index, pos)\u001B[0m\n\u001B[1;32m    978\u001B[0m \u001B[38;5;28;01mdef\u001B[39;00m \u001B[38;5;21maddgroup\u001B[39m(index, pos):\n\u001B[1;32m    979\u001B[0m     \u001B[38;5;28;01mif\u001B[39;00m index \u001B[38;5;241m>\u001B[39m state\u001B[38;5;241m.\u001B[39mgroups:\n\u001B[0;32m--> 980\u001B[0m         \u001B[38;5;28;01mraise\u001B[39;00m s\u001B[38;5;241m.\u001B[39merror(\u001B[38;5;124m\"\u001B[39m\u001B[38;5;124minvalid group reference \u001B[39m\u001B[38;5;132;01m%d\u001B[39;00m\u001B[38;5;124m\"\u001B[39m \u001B[38;5;241m%\u001B[39m index, pos)\n\u001B[1;32m    981\u001B[0m     \u001B[38;5;28;01mif\u001B[39;00m literal:\n\u001B[1;32m    982\u001B[0m         literals\u001B[38;5;241m.\u001B[39mappend(\u001B[38;5;124m'\u001B[39m\u001B[38;5;124m'\u001B[39m\u001B[38;5;241m.\u001B[39mjoin(literal))\n",
      "\u001B[0;31merror\u001B[0m: invalid group reference 2 at position 2"
     ]
    }
   ],
   "source": [
    "# \\1 다음에 오는 숫자도 그룹 번호의 일부로 인식하기 때문에 문제가 생긴다.\n",
    "re.sub(r'\\[(\\d+)\\]', r'(\\15)', '[52] apples and [31] mangoes')\n",
    "# re.error: invalid group reference 15 at position 2"
   ],
   "metadata": {
    "collapsed": false,
    "pycharm": {
     "name": "#%%\n"
    }
   }
  },
  {
   "cell_type": "code",
   "execution_count": 20,
   "outputs": [
    {
     "data": {
      "text/plain": "'525 apples and 315 mangoes'"
     },
     "execution_count": 20,
     "metadata": {},
     "output_type": "execute_result"
    }
   ],
   "source": [
    "# \\g<N>을 쓰면 그룹 번호 바로 앞뒤로 숫자를 붙여도 무방해진다.\n",
    "re.sub(r'\\[(\\d+)\\]', r'\\g<1>5', '[52] apples and [31] mangoes')\n",
    "# '(525) apples and (315) mangoes'"
   ],
   "metadata": {
    "collapsed": false,
    "pycharm": {
     "name": "#%%\n"
    }
   }
  },
  {
   "cell_type": "code",
   "execution_count": 21,
   "outputs": [
    {
     "data": {
      "text/plain": "'525 apples and 315 mangoes'"
     },
     "execution_count": 21,
     "metadata": {},
     "output_type": "execute_result"
    }
   ],
   "source": [
    "# \\0<N>는 8진법으로 인식된다. \\065 == 5 in dec.\n",
    "re.sub(r'\\[(\\d+)\\]', r'\\1\\065', '[52] apples and [31] mangoes')\n",
    "# '(525) apples and (315) mangoes'"
   ],
   "metadata": {
    "collapsed": false,
    "pycharm": {
     "name": "#%%\n"
    }
   }
  },
  {
   "cell_type": "code",
   "execution_count": 24,
   "outputs": [
    {
     "data": {
      "text/plain": "'[52] {apples} {and} [31] {mangoes}'"
     },
     "execution_count": 24,
     "metadata": {},
     "output_type": "execute_result"
    }
   ],
   "source": [
    "# 알파벳으로 이루어진 단어 주위에 '{}'를 붙인다.\n",
    "re.sub(r'([a-z]+)', r'{\\1}', '[52] apples and [31] mangoes')  # '[52] {apples} {and} [31] {mangoes}'"
   ],
   "metadata": {
    "collapsed": false,
    "pycharm": {
     "name": "#%%\n"
    }
   }
  },
  {
   "cell_type": "code",
   "execution_count": 25,
   "outputs": [
    {
     "data": {
      "text/plain": "'Hi. Hello world. Have a nice day'"
     },
     "execution_count": 25,
     "metadata": {},
     "output_type": "execute_result"
    }
   ],
   "source": [
    "# note the use of '+' instead of '*' quantifier to avoid empty matching\n",
    "re.sub(r'.+', r'Hi. \\g<0>. Have a nice day', 'Hello world')"
   ],
   "metadata": {
    "collapsed": false,
    "pycharm": {
     "name": "#%%\n"
    }
   }
  },
  {
   "cell_type": "code",
   "execution_count": 28,
   "outputs": [
    {
     "data": {
      "text/plain": "'fork,42,nice,3.14,fork'"
     },
     "execution_count": 28,
     "metadata": {},
     "output_type": "execute_result"
    }
   ],
   "source": [
    "# 그룹이 잡은 문자열을 맨 뒤에 ',\\1'로 추가한다.\n",
    "re.sub(r'\\A([^,]+),.*', r'\\g<0>,\\1', 'fork,42,nice,3.14')\n",
    "# \\0 잡은 문자열 전체가 아니라, 8진수를 의미함에 주의."
   ],
   "metadata": {
    "collapsed": false,
    "pycharm": {
     "name": "#%%\n"
    }
   }
  },
  {
   "cell_type": "markdown",
   "source": [
    "패턴 정의 내에 역참조가 필요한 경우에는 `\\<N>` 방식 밖에 사용할 수 없다."
   ],
   "metadata": {
    "collapsed": false,
    "pycharm": {
     "name": "#%% md\n"
    }
   }
  },
  {
   "cell_type": "code",
   "execution_count": 31,
   "outputs": [
    {
     "name": "stdout",
     "output_type": "stream",
     "text": [
      "effort\n",
      "flee\n",
      "oddball\n",
      "tool\n"
     ]
    }
   ],
   "source": [
    "# 연속하는 동일 글자 2개가 포함된 단어 찾기.\n",
    "words = ['effort', 'flee', 'facade', 'oddball', 'rat', 'tool']\n",
    "for word in words:\n",
    "    matched = re.search(r'''\n",
    "        \\b      # 단어 시작\n",
    "        \\w*     # 임의 글자\n",
    "        (\\w)\\1  # 연속된 글자 2개\n",
    "        \\w*     # 임의 글자\n",
    "        \\b      # 단어 종료\n",
    "    ''', word, flags=re.X)\n",
    "    if matched: print(word)"
   ],
   "metadata": {
    "collapsed": false,
    "pycharm": {
     "name": "#%%\n"
    }
   }
  },
  {
   "cell_type": "code",
   "execution_count": 35,
   "outputs": [
    {
     "data": {
      "text/plain": "'aa a 42 f_1 f_13.14'"
     },
     "execution_count": 35,
     "metadata": {},
     "output_type": "execute_result"
    }
   ],
   "source": [
    "# 공백으로 구분된 sub 문자열 중 연속하면서 동일한 것은 하나만 남기고 제거\n",
    "# use \\W+ instead of space to cover cases like 'a;a<-;a'\n",
    "re.sub(r'\\b(\\w+)( \\1)+\\b', r'\\1', 'aa a a a 42 f_1 f_1 f_13.14')"
   ],
   "metadata": {
    "collapsed": false,
    "pycharm": {
     "name": "#%%\n"
    }
   }
  },
  {
   "cell_type": "code",
   "execution_count": 36,
   "outputs": [
    {
     "ename": "error",
     "evalue": "invalid group reference 11 at position 6",
     "output_type": "error",
     "traceback": [
      "\u001B[0;31m---------------------------------------------------------------------------\u001B[0m",
      "\u001B[0;31merror\u001B[0m                                     Traceback (most recent call last)",
      "Input \u001B[0;32mIn [36]\u001B[0m, in \u001B[0;36m<cell line: 4>\u001B[0;34m()\u001B[0m\n\u001B[1;32m      1\u001B[0m s \u001B[38;5;241m=\u001B[39m \u001B[38;5;124m'\u001B[39m\u001B[38;5;124mabcdefghijklmna1d\u001B[39m\u001B[38;5;124m'\u001B[39m\n\u001B[1;32m      3\u001B[0m \u001B[38;5;66;03m# even though there's only one capture group, \\11 will give an error\u001B[39;00m\n\u001B[0;32m----> 4\u001B[0m \u001B[43mre\u001B[49m\u001B[38;5;241;43m.\u001B[39;49m\u001B[43msub\u001B[49m\u001B[43m(\u001B[49m\u001B[38;5;124;43mr\u001B[39;49m\u001B[38;5;124;43m'\u001B[39;49m\u001B[38;5;124;43m(.).*\u001B[39;49m\u001B[38;5;124;43m\\\u001B[39;49m\u001B[38;5;124;43m11\u001B[39;49m\u001B[38;5;124;43m'\u001B[39;49m\u001B[43m,\u001B[49m\u001B[43m \u001B[49m\u001B[38;5;124;43m'\u001B[39;49m\u001B[38;5;124;43mX\u001B[39;49m\u001B[38;5;124;43m'\u001B[39;49m\u001B[43m,\u001B[49m\u001B[43m \u001B[49m\u001B[43ms\u001B[49m\u001B[43m)\u001B[49m\n",
      "File \u001B[0;32m/Library/Frameworks/Python.framework/Versions/3.8/lib/python3.8/re.py:210\u001B[0m, in \u001B[0;36msub\u001B[0;34m(pattern, repl, string, count, flags)\u001B[0m\n\u001B[1;32m    203\u001B[0m \u001B[38;5;28;01mdef\u001B[39;00m \u001B[38;5;21msub\u001B[39m(pattern, repl, string, count\u001B[38;5;241m=\u001B[39m\u001B[38;5;241m0\u001B[39m, flags\u001B[38;5;241m=\u001B[39m\u001B[38;5;241m0\u001B[39m):\n\u001B[1;32m    204\u001B[0m     \u001B[38;5;124;03m\"\"\"Return the string obtained by replacing the leftmost\u001B[39;00m\n\u001B[1;32m    205\u001B[0m \u001B[38;5;124;03m    non-overlapping occurrences of the pattern in string by the\u001B[39;00m\n\u001B[1;32m    206\u001B[0m \u001B[38;5;124;03m    replacement repl.  repl can be either a string or a callable;\u001B[39;00m\n\u001B[1;32m    207\u001B[0m \u001B[38;5;124;03m    if a string, backslash escapes in it are processed.  If it is\u001B[39;00m\n\u001B[1;32m    208\u001B[0m \u001B[38;5;124;03m    a callable, it's passed the Match object and must return\u001B[39;00m\n\u001B[1;32m    209\u001B[0m \u001B[38;5;124;03m    a replacement string to be used.\"\"\"\u001B[39;00m\n\u001B[0;32m--> 210\u001B[0m     \u001B[38;5;28;01mreturn\u001B[39;00m \u001B[43m_compile\u001B[49m\u001B[43m(\u001B[49m\u001B[43mpattern\u001B[49m\u001B[43m,\u001B[49m\u001B[43m \u001B[49m\u001B[43mflags\u001B[49m\u001B[43m)\u001B[49m\u001B[38;5;241m.\u001B[39msub(repl, string, count)\n",
      "File \u001B[0;32m/Library/Frameworks/Python.framework/Versions/3.8/lib/python3.8/re.py:304\u001B[0m, in \u001B[0;36m_compile\u001B[0;34m(pattern, flags)\u001B[0m\n\u001B[1;32m    302\u001B[0m \u001B[38;5;28;01mif\u001B[39;00m \u001B[38;5;129;01mnot\u001B[39;00m sre_compile\u001B[38;5;241m.\u001B[39misstring(pattern):\n\u001B[1;32m    303\u001B[0m     \u001B[38;5;28;01mraise\u001B[39;00m \u001B[38;5;167;01mTypeError\u001B[39;00m(\u001B[38;5;124m\"\u001B[39m\u001B[38;5;124mfirst argument must be string or compiled pattern\u001B[39m\u001B[38;5;124m\"\u001B[39m)\n\u001B[0;32m--> 304\u001B[0m p \u001B[38;5;241m=\u001B[39m \u001B[43msre_compile\u001B[49m\u001B[38;5;241;43m.\u001B[39;49m\u001B[43mcompile\u001B[49m\u001B[43m(\u001B[49m\u001B[43mpattern\u001B[49m\u001B[43m,\u001B[49m\u001B[43m \u001B[49m\u001B[43mflags\u001B[49m\u001B[43m)\u001B[49m\n\u001B[1;32m    305\u001B[0m \u001B[38;5;28;01mif\u001B[39;00m \u001B[38;5;129;01mnot\u001B[39;00m (flags \u001B[38;5;241m&\u001B[39m DEBUG):\n\u001B[1;32m    306\u001B[0m     \u001B[38;5;28;01mif\u001B[39;00m \u001B[38;5;28mlen\u001B[39m(_cache) \u001B[38;5;241m>\u001B[39m\u001B[38;5;241m=\u001B[39m _MAXCACHE:\n\u001B[1;32m    307\u001B[0m         \u001B[38;5;66;03m# Drop the oldest item\u001B[39;00m\n",
      "File \u001B[0;32m/Library/Frameworks/Python.framework/Versions/3.8/lib/python3.8/sre_compile.py:764\u001B[0m, in \u001B[0;36mcompile\u001B[0;34m(p, flags)\u001B[0m\n\u001B[1;32m    762\u001B[0m \u001B[38;5;28;01mif\u001B[39;00m isstring(p):\n\u001B[1;32m    763\u001B[0m     pattern \u001B[38;5;241m=\u001B[39m p\n\u001B[0;32m--> 764\u001B[0m     p \u001B[38;5;241m=\u001B[39m \u001B[43msre_parse\u001B[49m\u001B[38;5;241;43m.\u001B[39;49m\u001B[43mparse\u001B[49m\u001B[43m(\u001B[49m\u001B[43mp\u001B[49m\u001B[43m,\u001B[49m\u001B[43m \u001B[49m\u001B[43mflags\u001B[49m\u001B[43m)\u001B[49m\n\u001B[1;32m    765\u001B[0m \u001B[38;5;28;01melse\u001B[39;00m:\n\u001B[1;32m    766\u001B[0m     pattern \u001B[38;5;241m=\u001B[39m \u001B[38;5;28;01mNone\u001B[39;00m\n",
      "File \u001B[0;32m/Library/Frameworks/Python.framework/Versions/3.8/lib/python3.8/sre_parse.py:948\u001B[0m, in \u001B[0;36mparse\u001B[0;34m(str, flags, state)\u001B[0m\n\u001B[1;32m    945\u001B[0m state\u001B[38;5;241m.\u001B[39mstr \u001B[38;5;241m=\u001B[39m \u001B[38;5;28mstr\u001B[39m\n\u001B[1;32m    947\u001B[0m \u001B[38;5;28;01mtry\u001B[39;00m:\n\u001B[0;32m--> 948\u001B[0m     p \u001B[38;5;241m=\u001B[39m \u001B[43m_parse_sub\u001B[49m\u001B[43m(\u001B[49m\u001B[43msource\u001B[49m\u001B[43m,\u001B[49m\u001B[43m \u001B[49m\u001B[43mstate\u001B[49m\u001B[43m,\u001B[49m\u001B[43m \u001B[49m\u001B[43mflags\u001B[49m\u001B[43m \u001B[49m\u001B[38;5;241;43m&\u001B[39;49m\u001B[43m \u001B[49m\u001B[43mSRE_FLAG_VERBOSE\u001B[49m\u001B[43m,\u001B[49m\u001B[43m \u001B[49m\u001B[38;5;241;43m0\u001B[39;49m\u001B[43m)\u001B[49m\n\u001B[1;32m    949\u001B[0m \u001B[38;5;28;01mexcept\u001B[39;00m Verbose:\n\u001B[1;32m    950\u001B[0m     \u001B[38;5;66;03m# the VERBOSE flag was switched on inside the pattern.  to be\u001B[39;00m\n\u001B[1;32m    951\u001B[0m     \u001B[38;5;66;03m# on the safe side, we'll parse the whole thing again...\u001B[39;00m\n\u001B[1;32m    952\u001B[0m     state \u001B[38;5;241m=\u001B[39m State()\n",
      "File \u001B[0;32m/Library/Frameworks/Python.framework/Versions/3.8/lib/python3.8/sre_parse.py:443\u001B[0m, in \u001B[0;36m_parse_sub\u001B[0;34m(source, state, verbose, nested)\u001B[0m\n\u001B[1;32m    441\u001B[0m start \u001B[38;5;241m=\u001B[39m source\u001B[38;5;241m.\u001B[39mtell()\n\u001B[1;32m    442\u001B[0m \u001B[38;5;28;01mwhile\u001B[39;00m \u001B[38;5;28;01mTrue\u001B[39;00m:\n\u001B[0;32m--> 443\u001B[0m     itemsappend(\u001B[43m_parse\u001B[49m\u001B[43m(\u001B[49m\u001B[43msource\u001B[49m\u001B[43m,\u001B[49m\u001B[43m \u001B[49m\u001B[43mstate\u001B[49m\u001B[43m,\u001B[49m\u001B[43m \u001B[49m\u001B[43mverbose\u001B[49m\u001B[43m,\u001B[49m\u001B[43m \u001B[49m\u001B[43mnested\u001B[49m\u001B[43m \u001B[49m\u001B[38;5;241;43m+\u001B[39;49m\u001B[43m \u001B[49m\u001B[38;5;241;43m1\u001B[39;49m\u001B[43m,\u001B[49m\n\u001B[1;32m    444\u001B[0m \u001B[43m                       \u001B[49m\u001B[38;5;129;43;01mnot\u001B[39;49;00m\u001B[43m \u001B[49m\u001B[43mnested\u001B[49m\u001B[43m \u001B[49m\u001B[38;5;129;43;01mand\u001B[39;49;00m\u001B[43m \u001B[49m\u001B[38;5;129;43;01mnot\u001B[39;49;00m\u001B[43m \u001B[49m\u001B[43mitems\u001B[49m\u001B[43m)\u001B[49m)\n\u001B[1;32m    445\u001B[0m     \u001B[38;5;28;01mif\u001B[39;00m \u001B[38;5;129;01mnot\u001B[39;00m sourcematch(\u001B[38;5;124m\"\u001B[39m\u001B[38;5;124m|\u001B[39m\u001B[38;5;124m\"\u001B[39m):\n\u001B[1;32m    446\u001B[0m         \u001B[38;5;28;01mbreak\u001B[39;00m\n",
      "File \u001B[0;32m/Library/Frameworks/Python.framework/Versions/3.8/lib/python3.8/sre_parse.py:525\u001B[0m, in \u001B[0;36m_parse\u001B[0;34m(source, state, verbose, nested, first)\u001B[0m\n\u001B[1;32m    522\u001B[0m         \u001B[38;5;28;01mcontinue\u001B[39;00m\n\u001B[1;32m    524\u001B[0m \u001B[38;5;28;01mif\u001B[39;00m this[\u001B[38;5;241m0\u001B[39m] \u001B[38;5;241m==\u001B[39m \u001B[38;5;124m\"\u001B[39m\u001B[38;5;130;01m\\\\\u001B[39;00m\u001B[38;5;124m\"\u001B[39m:\n\u001B[0;32m--> 525\u001B[0m     code \u001B[38;5;241m=\u001B[39m \u001B[43m_escape\u001B[49m\u001B[43m(\u001B[49m\u001B[43msource\u001B[49m\u001B[43m,\u001B[49m\u001B[43m \u001B[49m\u001B[43mthis\u001B[49m\u001B[43m,\u001B[49m\u001B[43m \u001B[49m\u001B[43mstate\u001B[49m\u001B[43m)\u001B[49m\n\u001B[1;32m    526\u001B[0m     subpatternappend(code)\n\u001B[1;32m    528\u001B[0m \u001B[38;5;28;01melif\u001B[39;00m this \u001B[38;5;129;01mnot\u001B[39;00m \u001B[38;5;129;01min\u001B[39;00m SPECIAL_CHARS:\n",
      "File \u001B[0;32m/Library/Frameworks/Python.framework/Versions/3.8/lib/python3.8/sre_parse.py:423\u001B[0m, in \u001B[0;36m_escape\u001B[0;34m(source, escape, state)\u001B[0m\n\u001B[1;32m    421\u001B[0m         state\u001B[38;5;241m.\u001B[39mchecklookbehindgroup(group, source)\n\u001B[1;32m    422\u001B[0m         \u001B[38;5;28;01mreturn\u001B[39;00m GROUPREF, group\n\u001B[0;32m--> 423\u001B[0m     \u001B[38;5;28;01mraise\u001B[39;00m source\u001B[38;5;241m.\u001B[39merror(\u001B[38;5;124m\"\u001B[39m\u001B[38;5;124minvalid group reference \u001B[39m\u001B[38;5;132;01m%d\u001B[39;00m\u001B[38;5;124m\"\u001B[39m \u001B[38;5;241m%\u001B[39m group, \u001B[38;5;28mlen\u001B[39m(escape) \u001B[38;5;241m-\u001B[39m \u001B[38;5;241m1\u001B[39m)\n\u001B[1;32m    424\u001B[0m \u001B[38;5;28;01mif\u001B[39;00m \u001B[38;5;28mlen\u001B[39m(escape) \u001B[38;5;241m==\u001B[39m \u001B[38;5;241m2\u001B[39m:\n\u001B[1;32m    425\u001B[0m     \u001B[38;5;28;01mif\u001B[39;00m c \u001B[38;5;129;01min\u001B[39;00m ASCIILETTERS:\n",
      "\u001B[0;31merror\u001B[0m: invalid group reference 11 at position 6"
     ]
    }
   ],
   "source": [
    "# even though there's only one capture group, \\11 will give an error\n",
    "re.sub(r'(.).*\\11', 'X', 'abcdefghijklmna1d')"
   ],
   "metadata": {
    "collapsed": false,
    "pycharm": {
     "name": "#%%\n"
    }
   }
  },
  {
   "cell_type": "code",
   "execution_count": 38,
   "outputs": [
    {
     "data": {
      "text/plain": "'Xd'"
     },
     "execution_count": 38,
     "metadata": {},
     "output_type": "execute_result"
    }
   ],
   "source": [
    "# RE 정의 내라서 \\<N> 방식 역참조를 꼭 써야 하고 뒤에 숫자가 와야 한다면\n",
    "# \\x, \\0 등으로 escaped number를 사용할 수 있다.  '\\x31' == 1 in dec.\n",
    "re.sub(r'(.).*\\1\\x31', 'X', 'abcdefghijklmna1d')  # 'Xd'"
   ],
   "metadata": {
    "collapsed": false,
    "pycharm": {
     "name": "#%%\n"
    }
   }
  },
  {
   "cell_type": "code",
   "execution_count": 42,
   "outputs": [
    {
     "data": {
      "text/plain": "'Xd'"
     },
     "execution_count": 42,
     "metadata": {},
     "output_type": "execute_result"
    }
   ],
   "source": [
    "# there are 12 capture groups here, so no error\n",
    "re.sub(r'(.)(.)(.)(.)(.)(.)(.)(.)(.)(.)(.)(.).*\\11',  # \\11은 이번 예제에서 'k'를 상징한다.\n",
    "       'X',\n",
    "       'abcdefghijklmna1kd')"
   ],
   "metadata": {
    "collapsed": false,
    "pycharm": {
     "name": "#%%\n"
    }
   }
  },
  {
   "cell_type": "code",
   "execution_count": 43,
   "outputs": [
    {
     "data": {
      "text/plain": "'Xd'"
     },
     "execution_count": 43,
     "metadata": {},
     "output_type": "execute_result"
    }
   ],
   "source": [
    "# use escapes again\n",
    "re.sub(r'(.)(.)(.)(.)(.)(.)(.)(.)(.)(.)(.)(.).*\\1\\x31', 'X', 'abcdefghijklmna1d')  # 'Xd'"
   ],
   "metadata": {
    "collapsed": false,
    "pycharm": {
     "name": "#%%\n"
    }
   }
  },
  {
   "cell_type": "markdown",
   "source": [
    "# Non-capturing groups\n",
    "backreferencing이 필요 없다면 사용. 생성 문법은 `(?:pat)`이다."
   ],
   "metadata": {
    "collapsed": false,
    "pycharm": {
     "name": "#%% md\n"
    }
   }
  },
  {
   "cell_type": "code",
   "execution_count": 45,
   "outputs": [
    {
     "data": {
      "text/plain": "['cost', 'akin', 'east', 'against']"
     },
     "execution_count": 45,
     "metadata": {},
     "output_type": "execute_result"
    }
   ],
   "source": [
    "# normal capture group will hinder ability to get whole match\n",
    "# non-capturing group to the rescue\n",
    "re.findall(r'''\n",
    "    \\b\n",
    "    \\w*(?:st|in)  # 변수에 유효한 글자들로 이루어졌으며, 'st' or 'in'으로 끝난다\n",
    "    \\b\n",
    "''', 'cost akin more east run against', flags=re.X)\n",
    "# ['cost', 'akin', 'east', 'against']"
   ],
   "metadata": {
    "collapsed": false,
    "pycharm": {
     "name": "#%%\n"
    }
   }
  },
  {
   "cell_type": "code",
   "execution_count": 46,
   "outputs": [
    {
     "data": {
      "text/plain": "['123', '42', '777', '500']"
     },
     "execution_count": 46,
     "metadata": {},
     "output_type": "execute_result"
    }
   ],
   "source": [
    "# capturing wasn't needed here, only common grouping and quantifier\n",
    "# ['123', '42', '777', '500']\n",
    "re.split(r'hand(?:ful|y)?', '123hand42handy777handful500')"
   ],
   "metadata": {
    "collapsed": false,
    "pycharm": {
     "name": "#%%\n"
    }
   }
  },
  {
   "cell_type": "code",
   "execution_count": 66,
   "outputs": [
    {
     "data": {
      "text/plain": "'1,2,3,(4),5,6,7'"
     },
     "execution_count": 66,
     "metadata": {},
     "output_type": "execute_result"
    }
   ],
   "source": [
    "# 수량자가 뒤따라 오는 capture group의 경우 수량자의 마지막 횟수에서 붙들린 문자열만 capture group이 된다.\n",
    "# 수량자만큼의 capture group이 생성되진 않는다.\n",
    "# 이 예제에서는 group 2가 필요 없음에도 3번이나 갱신되야 하는 불필요한 계산이 존재한다.\n",
    "# 이는 non-capture group을 사용함으로써 절약할 수 있는 부분이다.\n",
    "re.sub(r'''\n",
    "    \\A\n",
    "    (            # start of group 1\n",
    "    ([^,]+,){3}  # group 2: {3}에 의해 3회를 돌았어도 그룹은 1개만 생기며,\n",
    "                 # 그 그룹이 가리키는 문자열은 마지막으로 포착된 '3,'이다.\n",
    "    )            # end of group 1\n",
    "    ([^,]+)      # group 3\n",
    "    ''',\n",
    "       r'\\1(\\3)',\n",
    "       '1,2,3,4,5,6,7',\n",
    "       flags=re.X)\n",
    "# '1,2,3,(4),5,6,7'"
   ],
   "metadata": {
    "collapsed": false,
    "pycharm": {
     "name": "#%%\n"
    }
   }
  },
  {
   "cell_type": "code",
   "execution_count": 69,
   "outputs": [
    {
     "name": "stdout",
     "output_type": "stream",
     "text": [
      "group 1: 1,2,3,\n",
      "group 2: 3,\n",
      "group 3: 4\n"
     ]
    }
   ],
   "source": [
    "# 위 예제에서 각 그룹은 어떤 문자열을 가리키는지 확인해보자.\n",
    "matched = re.search(r'''\n",
    "                    \\A\n",
    "                    (([^,]+,){3})\n",
    "                    ([^,]+)\n",
    "                    ''',\n",
    "                    '1,2,3,4,5,6,7',\n",
    "                    flags=re.X)\n",
    "\n",
    "for i, g in enumerate(matched.groups()):\n",
    "    print(f'group {i + 1}: {g}')"
   ],
   "metadata": {
    "collapsed": false,
    "pycharm": {
     "name": "#%%\n"
    }
   }
  },
  {
   "cell_type": "code",
   "execution_count": 78,
   "outputs": [
    {
     "data": {
      "text/plain": "'1,2,3,(4),5,6,7'"
     },
     "execution_count": 78,
     "metadata": {},
     "output_type": "execute_result"
    }
   ],
   "source": [
    "# using non-capturing groups, only relevant groups have to be tracked\n",
    "re.sub(raw_pattern := r'''\n",
    "        \\A\n",
    "        (              # 그룹 1\n",
    "        (?:[^,]+,){3}  # 안쪽 grouping 메타 문자는 더 이상 역참조 기능을 하지 않는다.\n",
    "        )\n",
    "        ([^,]+)        # 그룹 2\n",
    "        ''',\n",
    "       r'\\1(\\2)',\n",
    "       string := '1,2,3,4,5,6,7',\n",
    "       flags=re.X)\n",
    "# '1,2,3,(4),5,6,7'"
   ],
   "metadata": {
    "collapsed": false,
    "pycharm": {
     "name": "#%%\n"
    }
   }
  },
  {
   "cell_type": "code",
   "execution_count": 80,
   "outputs": [
    {
     "name": "stdout",
     "output_type": "stream",
     "text": [
      "group 0: 1,2,3,\n",
      "group 1: 4\n"
     ]
    }
   ],
   "source": [
    "# 이번에도 어떤 그룹들이 잡혔는지 확인해보자.\n",
    "for i, g in enumerate(re.search(raw_pattern, string, flags=re.X).groups()):\n",
    "    print(f'group {i}: {g}')"
   ],
   "metadata": {
    "collapsed": false,
    "pycharm": {
     "name": "#%%\n"
    }
   }
  },
  {
   "cell_type": "code",
   "execution_count": 81,
   "outputs": [
    {
     "data": {
      "text/plain": "['123', '123']"
     },
     "execution_count": 81,
     "metadata": {},
     "output_type": "execute_result"
    }
   ],
   "source": [
    "# capture group의 예 - 마지막 captured str('123')만 그룹이 가리킨다.\n",
    "re.findall(r'(123)+', 'hi 123123123 bye 456123456')  # ['123', '123']\n",
    "\n",
    "# 개념적으로는 (123)(123)(123) 이렇게 세 번을 가리키지만 매번 참조가 덮어 씌워져서 결국 123만 남게 된다고 생각하자.\n",
    "for captured in ['123', '123', '123']:\n",
    "    group1 = captured"
   ],
   "metadata": {
    "collapsed": false,
    "pycharm": {
     "name": "#%%\n"
    }
   }
  },
  {
   "cell_type": "code",
   "execution_count": null,
   "outputs": [],
   "source": [
    "# non-capture group의 예 - capture 대신 구분 기호로서의 역할만 한다.\n",
    "re.findall(r'(?:123)+', 'hi 123123123 bye 456123456')  # ['123123123', '123']"
   ],
   "metadata": {
    "collapsed": false,
    "pycharm": {
     "name": "#%%\n"
    }
   }
  },
  {
   "cell_type": "code",
   "execution_count": 88,
   "outputs": [
    {
     "name": "stdout",
     "output_type": "stream",
     "text": [
      "hi X bye 456X456\n",
      "123123123\n"
     ]
    }
   ],
   "source": [
    "# 그렇지만 이 문제는 `sub` 혹은 `subn`에는 무관하다.\n",
    "replaced = re.sub(r'(123)+', 'X', 'hi 123123123 bye 456123456')  # 'hi X bye 456X456'\n",
    "print(replaced)\n",
    "\n",
    "# 교체되는 대상은 group[0]이니깐.\n",
    "replacing_subject = re.search(r'(123)+', 'hi 123123123 bye 456123456').group(0)\n",
    "print(replacing_subject)"
   ],
   "metadata": {
    "collapsed": false,
    "pycharm": {
     "name": "#%%\n"
    }
   }
  },
  {
   "cell_type": "code",
   "execution_count": 89,
   "outputs": [
    {
     "data": {
      "text/plain": "'3.14,\"42\",five'"
     },
     "execution_count": 89,
     "metadata": {},
     "output_type": "execute_result"
    }
   ],
   "source": [
    "re.sub(r'''\n",
    "        \\A([^,]+,){3}  # \\1 == '3.14,'\n",
    "        ([^,]+)        # \\2 == '42'\n",
    "        ''',\n",
    "       r'\\1\"\\2\"',\n",
    "       'one,2,3.14,42,five',\n",
    "       flags=re.X)  # '3.14,\"42\",five'"
   ],
   "metadata": {
    "collapsed": false,
    "pycharm": {
     "name": "#%%\n"
    }
   }
  },
  {
   "cell_type": "code",
   "execution_count": 90,
   "outputs": [
    {
     "data": {
      "text/plain": "'one,2,3.14,\"42\",five'"
     },
     "execution_count": 90,
     "metadata": {},
     "output_type": "execute_result"
    }
   ],
   "source": [
    "re.sub(r'''\n",
    "        \\A((?:[^,]+,){3})  # \\1 == 'one,2,3.14,',\n",
    "        ([^,]+)            # \\2 == '42'\n",
    "        ''',\n",
    "       r'\\1\"\\2\"',\n",
    "       'one,2,3.14,42,five',\n",
    "       flags=re.X)  # 'one,2,3.14,\"42\",five'"
   ],
   "metadata": {
    "collapsed": false,
    "pycharm": {
     "name": "#%%\n"
    }
   }
  },
  {
   "cell_type": "code",
   "execution_count": 96,
   "outputs": [],
   "source": [
    "words = 'effort flee facade oddball rat tool'\n",
    "# whole words containing at least one consecutive repeated character\n",
    "repeat_char = re.compile(\n",
    "    r'''\n",
    "    \\b\n",
    "    \\w*\n",
    "    (\\w)\\1  # 연속되는 같은 2글자\n",
    "    \\w*\n",
    "    \\b\n",
    "    ''',\n",
    "    flags=re.X)"
   ],
   "metadata": {
    "collapsed": false,
    "pycharm": {
     "name": "#%%\n"
    }
   }
  },
  {
   "cell_type": "code",
   "execution_count": 97,
   "outputs": [
    {
     "data": {
      "text/plain": "['f', 'e', 'l', 'o']"
     },
     "execution_count": 97,
     "metadata": {},
     "output_type": "execute_result"
    }
   ],
   "source": [
    "# `findall`과 capture group의 조합은 반환값에 오직 capture group만 포함되게 만든다.\n",
    "repeat_char.findall(words)  # ['f', 'e', 'l', 'o']"
   ],
   "metadata": {
    "collapsed": false,
    "pycharm": {
     "name": "#%%\n"
    }
   }
  },
  {
   "cell_type": "code",
   "execution_count": 98,
   "outputs": [
    {
     "data": {
      "text/plain": "['effort', 'flee', 'oddball', 'tool']"
     },
     "execution_count": 98,
     "metadata": {},
     "output_type": "execute_result"
    }
   ],
   "source": [
    "# finditer to the rescue\n",
    "m_iter = repeat_char.finditer(words)\n",
    "[m[0] for m in m_iter]  # ['effort', 'flee', 'oddball', 'tool']"
   ],
   "metadata": {
    "collapsed": false,
    "pycharm": {
     "name": "#%%\n"
    }
   }
  },
  {
   "cell_type": "markdown",
   "source": [
    "# Named capture groups\n",
    "  - capturing: `(?P<name>pattern)`\n",
    "  - back-referencing: `(?P=name)`\n",
    "  - replacement: `\\g<name>`"
   ],
   "metadata": {
    "collapsed": false,
    "pycharm": {
     "name": "#%% md\n"
    }
   }
  },
  {
   "cell_type": "code",
   "execution_count": 99,
   "outputs": [
    {
     "data": {
      "text/plain": "'bad,good 24,42'"
     },
     "execution_count": 99,
     "metadata": {},
     "output_type": "execute_result"
    }
   ],
   "source": [
    "# giving names to first and second captured words\n",
    "re.sub(r'(?P<fw>\\w+),(?P<sw>\\w+)',  # 'fw', 'sw'란 이름으로 각각 그룹 캡쳐.\n",
    "       r'\\g<sw>,\\g<fw>',\n",
    "       'good,bad 42,24')"
   ],
   "metadata": {
    "collapsed": false,
    "pycharm": {
     "name": "#%%\n"
    }
   }
  },
  {
   "cell_type": "code",
   "execution_count": 113,
   "outputs": [
    {
     "data": {
      "text/plain": "'aa a 42 f_1 f_13.14'"
     },
     "execution_count": 113,
     "metadata": {},
     "output_type": "execute_result"
    }
   ],
   "source": [
    "# Used hexcode for space(\\x20) because all whitespace are ignored in re.X flag.\n",
    "re.sub(r'''\n",
    "    \\b\n",
    "    (?P<dup>\\w+)\n",
    "    (\\x20(?P=dup))+\n",
    "    \\b\n",
    "    ''',\n",
    "       r'\\g<dup>',\n",
    "       'aa a a a 42 f_1 f_1 f_13.14',\n",
    "       flags=re.X)"
   ],
   "metadata": {
    "collapsed": false,
    "pycharm": {
     "name": "#%%\n"
    }
   }
  },
  {
   "cell_type": "code",
   "execution_count": 114,
   "outputs": [
    {
     "name": "stdout",
     "output_type": "stream",
     "text": [
      "apple\n",
      "apple\n",
      "apple\n"
     ]
    }
   ],
   "source": [
    "sentence = 'I bought an apple'\n",
    "m = re.search(r'(?P<fruit>\\w+)\\Z', sentence)\n",
    "\n",
    "print(m[1])  # 'apple'\n",
    "print(m['fruit'])  # 'apple'\n",
    "print(m.group('fruit'))  # 'apple'"
   ],
   "metadata": {
    "collapsed": false,
    "pycharm": {
     "name": "#%%\n"
    }
   }
  },
  {
   "cell_type": "code",
   "execution_count": 115,
   "outputs": [
    {
     "data": {
      "text/plain": "{'date': '2018-10-25', 'product': 'car'}"
     },
     "execution_count": 115,
     "metadata": {},
     "output_type": "execute_result"
    }
   ],
   "source": [
    "# single match\n",
    "details = '2018-10-25,car,2346'\n",
    "re.search(r'''\n",
    "    (?P<date>[^,]+),\n",
    "    (?P<product>[^,]+)\n",
    "    ''',\n",
    "          details,\n",
    "          flags=re.X).groupdict()\n",
    "# {'date': '2018-10-25', 'product': 'car'}"
   ],
   "metadata": {
    "collapsed": false,
    "pycharm": {
     "name": "#%%\n"
    }
   }
  },
  {
   "cell_type": "code",
   "execution_count": 116,
   "outputs": [
    {
     "data": {
      "text/plain": "{'date': '2018-10-25'}"
     },
     "execution_count": 116,
     "metadata": {},
     "output_type": "execute_result"
    }
   ],
   "source": [
    "# normal groups won't be part of the output\n",
    "re.search(r'(?P<date>[^,]+),([^,]+)', details).groupdict()\n",
    "# {'date': '2018-10-25'}"
   ],
   "metadata": {
    "collapsed": false,
    "pycharm": {
     "name": "#%%\n"
    }
   }
  },
  {
   "cell_type": "code",
   "execution_count": 117,
   "outputs": [
    {
     "data": {
      "text/plain": "[{'fw': 'good', 'sw': 'bad'}, {'fw': '42', 'sw': '24'}]"
     },
     "execution_count": 117,
     "metadata": {},
     "output_type": "execute_result"
    }
   ],
   "source": [
    "# multiple matches\n",
    "s = 'good,bad 42,24'\n",
    "compiled_pattern = re.compile(r'''\n",
    "    (?P<fw>\\w+),(?P<sw>\\w+)\n",
    "    ''',\n",
    "                              flags=re.X)\n",
    "[m.groupdict() for m in compiled_pattern.finditer(s)]"
   ],
   "metadata": {
    "collapsed": false,
    "pycharm": {
     "name": "#%%\n"
    }
   }
  },
  {
   "cell_type": "markdown",
   "source": [
    "# Conditional groups\n",
    "`(?(id/name)yes-pattern|no-pattern)`\n",
    "\n",
    "  - yes-pattern: ?(id/name)에 지정된 그룹에 비어 있지 않은 문자열이 매칭된 경우\n",
    "    - 단독으로 사용될 경우: 비일치 시 검사할 아무 패턴도 없다고 생각할 것\n",
    "  - no-pattern: ?(id/name)으로 지정된 그룹에 빈 문자열 매칭된 경우"
   ],
   "metadata": {
    "collapsed": false,
    "pycharm": {
     "name": "#%% md\n"
    }
   }
  },
  {
   "cell_type": "code",
   "execution_count": 130,
   "outputs": [
    {
     "data": {
      "text/plain": "['\"hi\"', 'bye', '\"good\"', '42']"
     },
     "execution_count": 130,
     "metadata": {},
     "output_type": "execute_result"
    }
   ],
   "source": [
    "# Only yes-pattern.\n",
    "words = ['\"hi\"', 'bye', 'bad\"', '\"good\"', '42', '\"3']\n",
    "pat = re.compile(r'''\n",
    "    (\")?     # 후에 나올 조건 그룹에 지정된 ID 1의 그룹\n",
    "    \\w+\n",
    "    (?(1)\")  # ID: 1, yes-pattern(there was double quotation mark): '\"'\n",
    "    ''',\n",
    "                 flags=re.X)\n",
    "[w for w in words if pat.fullmatch(w)]  # ['\"hi\"', 'bye', '\"good\"', '42']"
   ],
   "metadata": {
    "collapsed": false,
    "pycharm": {
     "name": "#%%\n"
    }
   }
  },
  {
   "cell_type": "code",
   "execution_count": 131,
   "outputs": [
    {
     "data": {
      "text/plain": "['\"hi\"', 'bye', '\"good\"', '42']"
     },
     "execution_count": 131,
     "metadata": {},
     "output_type": "execute_result"
    }
   ],
   "source": [
    "# for this simple case, you can also expand it manually\n",
    "# but for complex patterns, it is better to use conditional groups\n",
    "# as it will avoid repeating the complex pattern\n",
    "[w for w in words if re.fullmatch(r'\"\\w+\"|\\w+', w)]  # ['\"hi\"', 'bye', '\"good\"', '42']"
   ],
   "metadata": {
    "collapsed": false,
    "pycharm": {
     "name": "#%%\n"
    }
   }
  },
  {
   "cell_type": "code",
   "execution_count": 132,
   "outputs": [
    {
     "data": {
      "text/plain": "['\"hi\"', 'bye', 'bad\"', '\"good\"', '42', '\"3']"
     },
     "execution_count": 132,
     "metadata": {},
     "output_type": "execute_result"
    }
   ],
   "source": [
    "# cannot simply use ? quantifier as they are independent, not constrained\n",
    "[w for w in words if re.fullmatch(r'\"?\\w+\"?', w)]  # ['\"hi\"', 'bye', 'bad\"', '\"good\"', '42', '\"3']"
   ],
   "metadata": {
    "collapsed": false,
    "pycharm": {
     "name": "#%%\n"
    }
   }
  },
  {
   "cell_type": "code",
   "execution_count": 133,
   "outputs": [
    {
     "data": {
      "text/plain": "['\"hi\"', 'bye', 'bad\"', '\"good\"', '42', '\"3']"
     },
     "execution_count": 133,
     "metadata": {},
     "output_type": "execute_result"
    }
   ],
   "source": [
    "# also, `fullmatch` plays a big role in avoiding partial match\n",
    "pat.search('\"bad')  # 큰따옴표는 건너 뛰고 보면 조건이 충족되기 때문에 의도와는 달리 출력된다.\n",
    "[w for w in words if pat.search(w)]  # ['\"hi\"', 'bye', 'bad\"', '\"good\"', '42', '\"3']"
   ],
   "metadata": {
    "collapsed": false,
    "pycharm": {
     "name": "#%%\n"
    }
   }
  },
  {
   "cell_type": "code",
   "execution_count": 135,
   "outputs": [
    {
     "data": {
      "text/plain": "['\"hi\"', 'bye', '\"good\"', '42']"
     },
     "execution_count": 135,
     "metadata": {},
     "output_type": "execute_result"
    }
   ],
   "source": [
    "# search를 쓰면서 fullmatch처럼 동작하도록 하기 위해 \\A와 \\Z로 묶을 수 있다.\n",
    "[word for word in words\n",
    "    if re.search(r'''\n",
    "        \\A\n",
    "        (\")?     # 후에 나올 조건 그룹에 지정된 ID 1의 그룹\n",
    "        \\w+\n",
    "        (?(1)\")  # ID: 1, yes-pattern(there was double quotation mark): '\"'\n",
    "        \\Z\n",
    "        ''',\n",
    "        word,\n",
    "        flags=re.X)]"
   ],
   "metadata": {
    "collapsed": false,
    "pycharm": {
     "name": "#%%\n"
    }
   }
  },
  {
   "cell_type": "code",
   "execution_count": null,
   "outputs": [],
   "source": [
    "# no-pattern도 존재하는 경우\n",
    "# filter elements containing word characters surrounded by ()\n",
    "# or, containing word characters separated by a hyphen\n",
    "words = ['(hi)', 'good-bye', 'bad', '(42)', '-oh', 'i-j', '(-)']\n",
    "\n",
    "# same as: r'\\(\\w+\\)|\\w+-\\w+'\n",
    "pat = re.compile(\n",
    "    r'''\n",
    "    (\\()?  # condition\n",
    "    \\w+\n",
    "    (?(1)\n",
    "    \\)     # yes-pattern: 여는 괄호 있었으면,\n",
    "    |\n",
    "    -\\w+   # no-pattern: 여는 괄호 없었다면,\n",
    "    )\n",
    "    ''',\n",
    "    flags=re.X)\n",
    "[w for w in words if pat.fullmatch(w)]  # ['(hi)', 'good-bye', '(42)', 'i-j']"
   ],
   "metadata": {
    "collapsed": false,
    "pycharm": {
     "name": "#%%\n"
    }
   }
  },
  {
   "cell_type": "markdown",
   "source": [
    "# Match.expand\n",
    "`Match.expand(template)`의 template은 `\\<N>`으로 표현된 역참조 그룹을 포함한 RE 패턴이다.\n",
    "이 역참조 그룹을 포함한 패턴이 실제 문자열로 어떻게 치환되는지를 보여준다.\n",
    "`re.sub`와 유사하나 차이점은 원래 문자열이 아닌 `template` 인자에 들어간 내용만 대체해서 보여준다는 점이다."
   ],
   "metadata": {
    "collapsed": false,
    "pycharm": {
     "name": "#%% md\n"
    }
   }
  },
  {
   "cell_type": "code",
   "execution_count": 138,
   "outputs": [
    {
     "data": {
      "text/plain": "'a[eso]e'"
     },
     "execution_count": 138,
     "metadata": {},
     "output_type": "execute_result"
    }
   ],
   "source": [
    "# re.sub vs Match.expand\n",
    "# 패턴은 'wesom', \\1은 'eso'를 잡았다.\n",
    "# 원래 문자열인 'awesome'이 어떻게 대체됐는지를 출력\n",
    "re.sub(r'w(.*)m', r'[\\1]', 'awesome')  # 'a[eso]e'"
   ],
   "metadata": {
    "collapsed": false,
    "pycharm": {
     "name": "#%%\n"
    }
   }
  },
  {
   "cell_type": "code",
   "execution_count": 139,
   "outputs": [
    {
     "data": {
      "text/plain": "'[eso]'"
     },
     "execution_count": 139,
     "metadata": {},
     "output_type": "execute_result"
    }
   ],
   "source": [
    "# expand() 안 인자가 뭘로 대체됐는지를 리턴.\n",
    "re.search(r'w(.*)m', 'awesome').expand(r'[\\1]')  # '[eso]'"
   ],
   "metadata": {
    "collapsed": false,
    "pycharm": {
     "name": "#%%\n"
    }
   }
  },
  {
   "cell_type": "code",
   "execution_count": 140,
   "outputs": [
    {
     "data": {
      "text/plain": "['Month:04, Year:2020', 'Month:03, Year:1986', 'Month:12, Year:77']"
     },
     "execution_count": 140,
     "metadata": {},
     "output_type": "execute_result"
    }
   ],
   "source": [
    "# example with re.finditer\n",
    "dates = '2020/04/25,1986/03/02,77/12/31'\n",
    "m_iter = re.finditer(r'([^/]+)/([^/]+)/[^,]+,?', dates)\n",
    "\n",
    "# same as: [f'Month:{m[2]}, Year:{m[1]}' for m in m_iter]\n",
    "[m.expand(r'Month:\\2, Year:\\1') for m in m_iter]"
   ],
   "metadata": {
    "collapsed": false,
    "pycharm": {
     "name": "#%%\n"
    }
   }
  },
  {
   "cell_type": "markdown",
   "source": [
    "# Exercises"
   ],
   "metadata": {
    "collapsed": false,
    "pycharm": {
     "name": "#%% md\n"
    }
   }
  },
  {
   "cell_type": "code",
   "execution_count": null,
   "outputs": [],
   "source": [
    "# a) Replace the space character that occurs after a word ending with 'a' or\n",
    "# 'r' with a newline character.\n",
    "ip = 'area not a _a2_ roar took 22'"
   ],
   "metadata": {
    "collapsed": false,
    "pycharm": {
     "name": "#%%\n"
    }
   }
  },
  {
   "cell_type": "code",
   "execution_count": null,
   "outputs": [],
   "source": [
    "# A1\n",
    "print(re.sub())\n",
    "# area\n",
    "# not a\n",
    "# _a2_ roar\n",
    "# took 22"
   ],
   "metadata": {
    "collapsed": false,
    "pycharm": {
     "name": "#%%\n"
    }
   }
  },
  {
   "cell_type": "code",
   "execution_count": null,
   "outputs": [],
   "source": [
    "# E2. Add '[]' around words starting with 's' and containing 'e' and 't' in any\n",
    "# order.\n",
    "ip = 'sequoia subtle exhibit asset sets tests site'"
   ],
   "metadata": {
    "collapsed": false,
    "pycharm": {
     "name": "#%%\n"
    }
   }
  },
  {
   "cell_type": "code",
   "execution_count": null,
   "outputs": [],
   "source": [
    "# A2\n",
    "# 'sequoia [subtle] exhibit asset [sets] tests [site]'"
   ],
   "metadata": {
    "collapsed": false,
    "pycharm": {
     "name": "#%%\n"
    }
   }
  },
  {
   "cell_type": "code",
   "execution_count": null,
   "outputs": [],
   "source": [
    "# E3. Replace all whole words with 'X' that start and end with the same word\n",
    "# character. Single character word should get replaced with 'X' too, as it\n",
    "# satisfies the stated condition.\n",
    "ip = 'oreo not a _a2_ roar took 22'"
   ],
   "metadata": {
    "collapsed": false,
    "pycharm": {
     "name": "#%%\n"
    }
   }
  },
  {
   "cell_type": "code",
   "execution_count": null,
   "outputs": [],
   "source": [
    "# A3\n",
    "# 'X not X X X took X'"
   ],
   "metadata": {
    "collapsed": false,
    "pycharm": {
     "name": "#%%\n"
    }
   }
  },
  {
   "cell_type": "code",
   "execution_count": null,
   "outputs": [],
   "source": [
    "# E4. Convert the given markdown headers to corresponding anchor tag. Consider\n",
    "# the input to start with one or more '#' characters followed by space and\n",
    "# word characters. The `name` attribute is constructed by converting the header\n",
    "# to lowercase and replacing spaces with hyphens. Can you do it without using a\n",
    "# capture group?\n",
    "header1 = '# Regular Expressions'\n",
    "header2 = '## Compiling regular expressions'"
   ],
   "metadata": {
    "collapsed": false,
    "pycharm": {
     "name": "#%%\n"
    }
   }
  },
  {
   "cell_type": "code",
   "execution_count": null,
   "outputs": [],
   "source": [
    "# A4\n",
    "# '# <a name=\"regular-expressions\"></a>Regular Expressions'\n",
    "# '## <a name=\"compiling-regular-expressions\"></a>Compiling regular expressions'"
   ],
   "metadata": {
    "collapsed": false,
    "pycharm": {
     "name": "#%%\n"
    }
   }
  },
  {
   "cell_type": "code",
   "execution_count": null,
   "outputs": [],
   "source": [
    "# E5. Convert the given markdown anchors to corresponding hyperlinks.\n",
    "anchor1 = '# <a name=\"regular-expressions\"></a>Regular Expressions'\n",
    "anchor2 = '## <a name=\"subexpression-calls\"></a>Subexpression calls'"
   ],
   "metadata": {
    "collapsed": false,
    "pycharm": {
     "name": "#%%\n"
    }
   }
  },
  {
   "cell_type": "code",
   "execution_count": null,
   "outputs": [],
   "source": [
    "# A5\n",
    "# '[Regular Expressions](#regular-expressions)'\n",
    "# '[Subexpression calls](#subexpression-calls)'\n"
   ],
   "metadata": {
    "collapsed": false,
    "pycharm": {
     "name": "#%%\n"
    }
   }
  },
  {
   "cell_type": "code",
   "execution_count": null,
   "outputs": [],
   "source": [
    "# E6. Count the number of whole words that have at least two occurrences of\n",
    "# consecutive repeated alphabets. For example, words like 'stillness' and\n",
    "# 'Committee' should be counted but not words like 'root' or 'readable' or\n",
    "# 'rotational'.\n",
    "ip = '''oppressed abandon accommodation bloodless\n",
    "... carelessness committed apparition innkeeper\n",
    "... occasionally afforded embarrassment foolishness\n",
    "... depended successfully succeeded\n",
    "... possession cleanliness suppress'''"
   ],
   "metadata": {
    "collapsed": false,
    "pycharm": {
     "name": "#%%\n"
    }
   }
  },
  {
   "cell_type": "code",
   "execution_count": null,
   "outputs": [],
   "source": [
    "# A6\n",
    "# 13"
   ],
   "metadata": {
    "collapsed": false,
    "pycharm": {
     "name": "#%%\n"
    }
   }
  },
  {
   "cell_type": "code",
   "execution_count": null,
   "outputs": [],
   "source": [
    "# E7. For the given input string, replace all occurrences of digit sequences\n",
    "# with only the unique non-repeating sequence. For example, '232323' should\n",
    "# be changed to '23' and '897897' should be changed to '897'. If there no\n",
    "# repeats (for example '1234') or if the repeats end prematurely (for example\n",
    "# '12121'), it should not be changed.\n",
    "ip = '1234 2323 453545354535 9339 11 60260260'"
   ],
   "metadata": {
    "collapsed": false,
    "pycharm": {
     "name": "#%%\n"
    }
   }
  },
  {
   "cell_type": "code",
   "execution_count": null,
   "outputs": [],
   "source": [
    "# A7\n",
    "# '1234 23 4535 9339 1 60260260'"
   ],
   "metadata": {
    "collapsed": false,
    "pycharm": {
     "name": "#%%\n"
    }
   }
  },
  {
   "cell_type": "code",
   "execution_count": null,
   "outputs": [],
   "source": [
    "# E8. Replace sequences made up of words separated by ':' or '.' by the first\n",
    "# word of the sequence. Such sequences will end when ':' or '.' is not followed\n",
    "# by a word character.\n",
    "ip = 'wow:Good:2_two:five: hi-2 bye kite.777.water.'"
   ],
   "metadata": {
    "collapsed": false,
    "pycharm": {
     "name": "#%%\n"
    }
   }
  },
  {
   "cell_type": "code",
   "execution_count": null,
   "outputs": [],
   "source": [
    "# A8\n",
    "# 'wow hi-2 bye kite'"
   ],
   "metadata": {
    "collapsed": false,
    "pycharm": {
     "name": "#%%\n"
    }
   }
  },
  {
   "cell_type": "code",
   "execution_count": null,
   "outputs": [],
   "source": [
    "# E9. Replace sequences made up of words separated by ':' or '.' by the last\n",
    "# word of the sequence. Such sequences will end when ':' or '.' is not\n",
    "# followed by a word character.\n",
    "ip = 'wow:Good:2_two:five: hi-2 bye kite.777.water.'"
   ],
   "metadata": {
    "collapsed": false,
    "pycharm": {
     "name": "#%%\n"
    }
   }
  },
  {
   "cell_type": "code",
   "execution_count": null,
   "outputs": [],
   "source": [
    "# A9\n",
    "# 'five hi-2 bye water'"
   ],
   "metadata": {
    "collapsed": false,
    "pycharm": {
     "name": "#%%\n"
    }
   }
  },
  {
   "cell_type": "code",
   "execution_count": null,
   "outputs": [],
   "source": [
    "# E10. Split the given input string on one or more repeated sequence of 'cat'.\n",
    "ip = 'firecatlioncatcatcatbearcatcatparrot'"
   ],
   "metadata": {
    "collapsed": false,
    "pycharm": {
     "name": "#%%\n"
    }
   }
  },
  {
   "cell_type": "code",
   "execution_count": null,
   "outputs": [],
   "source": [
    "# A10\n",
    "# ['fire', 'lion', 'bear', 'parrot']"
   ],
   "metadata": {
    "collapsed": false,
    "pycharm": {
     "name": "#%%\n"
    }
   }
  },
  {
   "cell_type": "code",
   "execution_count": null,
   "outputs": [],
   "source": [
    "# E11. For the given input string, find all occurrences of digit sequences with\n",
    "# at least one repeating sequence. For example, '232323' and '897897'. If the\n",
    "# repeats end prematurely, for example '12121', it should not be matched.\n",
    "ip = '1234 2323 453545354535 9339 11 60260260'"
   ],
   "metadata": {
    "collapsed": false,
    "pycharm": {
     "name": "#%%\n"
    }
   }
  },
  {
   "cell_type": "code",
   "execution_count": null,
   "outputs": [],
   "source": [
    "# A11\n",
    "pat = re.compile()\n",
    "# entire sequences in the output\n",
    "# ['2323', '453545354535', '11']\n",
    "# only the unique sequence in the output\n",
    "# ['23', '4535', '1']"
   ],
   "metadata": {
    "collapsed": false,
    "pycharm": {
     "name": "#%%\n"
    }
   }
  },
  {
   "cell_type": "code",
   "execution_count": null,
   "outputs": [],
   "source": [
    "# E12. Convert the comma separated strings to corresponding `dict` objects as\n",
    "# shown below. The keys are 'name', 'maths' and 'phy' for the three fields\n",
    "# in the input strings.\n",
    "row1 = 'rohan,75,89'\n",
    "row2 = 'rose,88,92'"
   ],
   "metadata": {
    "collapsed": false,
    "pycharm": {
     "name": "#%%\n"
    }
   }
  },
  {
   "cell_type": "code",
   "execution_count": null,
   "outputs": [],
   "source": [
    "# A12\n",
    "pat = re.compile()  ##### add your solution here\n",
    "# {'name': 'rohan', 'maths': '75', 'phy': '89'}\n",
    "# {'name': 'rose', 'maths': '88', 'phy': '92'}"
   ],
   "metadata": {
    "collapsed": false,
    "pycharm": {
     "name": "#%%\n"
    }
   }
  },
  {
   "cell_type": "code",
   "execution_count": null,
   "outputs": [],
   "source": [
    "# E13. Surround all whole words with '()'. Additionally, if the whole word is\n",
    "# 'imp' or 'ant', delete them. Can you do it with single substitution?\n",
    "ip = 'tiger imp goat eagle ant important'"
   ],
   "metadata": {
    "collapsed": false,
    "pycharm": {
     "name": "#%%\n"
    }
   }
  },
  {
   "cell_type": "code",
   "execution_count": null,
   "outputs": [],
   "source": [
    "# A13\n",
    "# '(tiger) () (goat) (eagle) () (important)'"
   ],
   "metadata": {
    "collapsed": false,
    "pycharm": {
     "name": "#%%\n"
    }
   }
  },
  {
   "cell_type": "code",
   "execution_count": null,
   "outputs": [],
   "source": [
    "# E14. Filter all elements that contains a sequence of lowercase alphabets\n",
    "# followed by - followed by digits. They can be optionally surrounded by\n",
    "# '{{' and '}}'. Any partial match shouldn't be part of the output.\n",
    "ip = ['{{apple-150}}', '{{mango2-100}}', '{{cherry-200', 'grape-87']"
   ],
   "metadata": {
    "collapsed": false,
    "pycharm": {
     "name": "#%%\n"
    }
   }
  },
  {
   "cell_type": "code",
   "execution_count": null,
   "outputs": [],
   "source": [
    "# A14\n",
    "# ['{{apple-150}}', 'grape-87']"
   ],
   "metadata": {
    "collapsed": false,
    "pycharm": {
     "name": "#%%\n"
    }
   }
  },
  {
   "cell_type": "code",
   "execution_count": null,
   "outputs": [],
   "source": [
    "# E15. The given input string has sequences made up of words separated by ':'\n",
    "# or '.' and such sequences will end when ':' or '.' is not followed by a word\n",
    "# character. For all such sequences, display only the last word followed by '-'\n",
    "# followed by first word.\n",
    "ip = 'wow:Good:2_two:five: hi-2 bye kite.777.water.'"
   ],
   "metadata": {
    "collapsed": false,
    "pycharm": {
     "name": "#%%\n"
    }
   }
  },
  {
   "cell_type": "code",
   "execution_count": null,
   "outputs": [],
   "source": [
    "# A15\n",
    "# ['five-wow', 'water-kite']"
   ],
   "metadata": {
    "collapsed": false,
    "pycharm": {
     "name": "#%%\n"
    }
   }
  }
 ],
 "metadata": {
  "kernelspec": {
   "display_name": "Python 3",
   "language": "python",
   "name": "python3"
  },
  "language_info": {
   "codemirror_mode": {
    "name": "ipython",
    "version": 2
   },
   "file_extension": ".py",
   "mimetype": "text/x-python",
   "name": "python",
   "nbconvert_exporter": "python",
   "pygments_lexer": "ipython2",
   "version": "2.7.6"
  }
 },
 "nbformat": 4,
 "nbformat_minor": 0
}