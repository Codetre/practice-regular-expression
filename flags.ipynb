{
 "cells": [
  {
   "cell_type": "code",
   "execution_count": 2,
   "metadata": {
    "collapsed": true,
    "pycharm": {
     "name": "#%%\n"
    }
   },
   "outputs": [],
   "source": [
    "import re"
   ]
  },
  {
   "cell_type": "markdown",
   "source": [
    "# case-insensitive"
   ],
   "metadata": {
    "collapsed": false,
    "pycharm": {
     "name": "#%% md\n"
    }
   }
  },
  {
   "cell_type": "code",
   "execution_count": 27,
   "outputs": [
    {
     "data": {
      "text/plain": "<re.Match object; span=(0, 4), match='Ab\\nC'>"
     },
     "execution_count": 27,
     "metadata": {},
     "output_type": "execute_result"
    }
   ],
   "source": [
    "# 여러 플래그를 세우고 싶다면 '|'를 사이에 두고 열거하면 된다.\n",
    "result = re.search(r'ab.c', 'Ab\\nC', flags=re.I|re.S)"
   ],
   "metadata": {
    "collapsed": false,
    "pycharm": {
     "name": "#%%\n"
    }
   }
  },
  {
   "cell_type": "code",
   "execution_count": 3,
   "outputs": [
    {
     "name": "stdout",
     "output_type": "stream",
     "text": [
      "False True\n"
     ]
    }
   ],
   "source": [
    "# re.IGNORECASE\n",
    "sensitive_result = bool(re.search(r'cat', 'Cat'))\n",
    "insensitive_result = bool(re.search(r'cat', 'Cat', flags=re.IGNORECASE))\n",
    "print(sensitive_result, insensitive_result)"
   ],
   "metadata": {
    "collapsed": false,
    "pycharm": {
     "name": "#%%\n"
    }
   }
  },
  {
   "cell_type": "code",
   "execution_count": 4,
   "outputs": [
    {
     "data": {
      "text/plain": "['Cat', 'cot', 'CAT', 'cUt']"
     },
     "execution_count": 4,
     "metadata": {},
     "output_type": "execute_result"
    }
   ],
   "source": [
    "re.findall(r'c.t', 'Cat cot CATER ScUtTLe', flags=re.I)"
   ],
   "metadata": {
    "collapsed": false,
    "pycharm": {
     "name": "#%%\n"
    }
   }
  },
  {
   "cell_type": "code",
   "execution_count": 5,
   "outputs": [
    {
     "data": {
      "text/plain": "['Sample', 'string', 'with', 'numbers']"
     },
     "execution_count": 5,
     "metadata": {},
     "output_type": "execute_result"
    }
   ],
   "source": [
    "# without flag, you need to use: r'[a-zA-Z]+'\n",
    "# with flag, can also use: r'[A-Z]+'\n",
    "re.findall(r'[a-z]+', 'Sample123string42with777numbers', flags=re.I)"
   ],
   "metadata": {
    "collapsed": false,
    "pycharm": {
     "name": "#%%\n"
    }
   }
  },
  {
   "cell_type": "markdown",
   "source": [
    "# Dotall"
   ],
   "metadata": {
    "collapsed": false,
    "pycharm": {
     "name": "#%% md\n"
    }
   }
  },
  {
   "cell_type": "code",
   "execution_count": 6,
   "outputs": [
    {
     "data": {
      "text/plain": "'Hi there\\nHave a Nice Day'"
     },
     "execution_count": 6,
     "metadata": {},
     "output_type": "execute_result"
    }
   ],
   "source": [
    "# by default, the . metacharacter doesn't match newline\n",
    "re.sub(r'the.*ice', 'X', 'Hi there\\nHave a Nice Day')"
   ],
   "metadata": {
    "collapsed": false,
    "pycharm": {
     "name": "#%%\n"
    }
   }
  },
  {
   "cell_type": "code",
   "execution_count": 9,
   "outputs": [
    {
     "data": {
      "text/plain": "'Hi X Day'"
     },
     "execution_count": 9,
     "metadata": {},
     "output_type": "execute_result"
    }
   ],
   "source": [
    "# re.S flag will allow newline character to be matched as well\n",
    "re.sub(r'the.*ice', 'X', 'Hi there\\nHave a Nice Day', flags=re.S)"
   ],
   "metadata": {
    "collapsed": false,
    "pycharm": {
     "name": "#%%\n"
    }
   }
  },
  {
   "cell_type": "code",
   "execution_count": 8,
   "outputs": [
    {
     "data": {
      "text/plain": "True"
     },
     "execution_count": 8,
     "metadata": {},
     "output_type": "execute_result"
    }
   ],
   "source": [
    "# `re.S`는 축 `re.DOTALL`의 축약형이다.\n",
    "re.S == re.DOTALL"
   ],
   "metadata": {
    "collapsed": false,
    "pycharm": {
     "name": "#%%\n"
    }
   }
  },
  {
   "cell_type": "markdown",
   "source": [
    "# Multiline\n",
    "'\\n'으로 구분 문자열을 잘라 그 줄별로 anchor를 검사한다."
   ],
   "metadata": {
    "collapsed": false,
    "pycharm": {
     "name": "#%% md\n"
    }
   }
  },
  {
   "cell_type": "code",
   "execution_count": 21,
   "outputs": [
    {
     "data": {
      "text/plain": "True"
     },
     "execution_count": 21,
     "metadata": {},
     "output_type": "execute_result"
    }
   ],
   "source": [
    "# check if any line in the string starts with 'top'\n",
    "bool(re.search(r'^top', \"hi hello\\nTop spot\", flags=re.M|re.I))"
   ],
   "metadata": {
    "collapsed": false,
    "pycharm": {
     "name": "#%%\n"
    }
   }
  },
  {
   "cell_type": "code",
   "execution_count": 11,
   "outputs": [
    {
     "data": {
      "text/plain": "True"
     },
     "execution_count": 11,
     "metadata": {},
     "output_type": "execute_result"
    }
   ],
   "source": [
    "# check if any line in the string ends with 'ar'\n",
    "bool(re.search(r'ar$', \"spare\\npar\\ndare\", flags=re.M))"
   ],
   "metadata": {
    "collapsed": false,
    "pycharm": {
     "name": "#%%\n"
    }
   }
  },
  {
   "cell_type": "markdown",
   "source": [
    "# Verbose\n"
   ],
   "metadata": {
    "collapsed": false,
    "pycharm": {
     "name": "#%% md\n"
    }
   }
  },
  {
   "cell_type": "code",
   "execution_count": 13,
   "outputs": [
    {
     "data": {
      "text/plain": "'1,2,3,(4),5,6,7'"
     },
     "execution_count": 13,
     "metadata": {},
     "output_type": "execute_result"
    }
   ],
   "source": [
    "# same as: pat = re.compile(r'\\A((?:[^,]+,){3})([^,]+)')\n",
    "# note the use of triple quoted string\n",
    "pat = re.compile(r'''\n",
    "    \\A(                 # group-1, captures first 3 columns\n",
    "    (?:[^,]+,){3}   # non-capturing group to get the 3 columns\n",
    "    )\n",
    "    ([^,]+)             # group-2, captures 4th column\n",
    "''', flags=re.X)\n",
    "pat.sub(r'\\1(\\2)', '1,2,3,4,5,6,7')"
   ],
   "metadata": {
    "collapsed": false,
    "pycharm": {
     "name": "#%%\n"
    }
   }
  },
  {
   "cell_type": "code",
   "execution_count": 16,
   "outputs": [
    {
     "name": "stdout",
     "output_type": "stream",
     "text": [
      "True\n",
      "True\n",
      "True\n"
     ]
    }
   ],
   "source": [
    "bool(re.search(r't a', 'cat and dog', flags=re.X))  # whitespace ignored by the `re.X` flag.\n",
    "# 3 methods to match whitespace in the pattern.\n",
    "print(bool(re.search(r't\\ a', 'cat and dog', flags=re.X)))\n",
    "print(bool(re.search(r't[ ]a', 'cat and dog', flags=re.X)))\n",
    "print(bool(re.search(r't\\x20a', 'cat and dog', flags=re.X)))"
   ],
   "metadata": {
    "collapsed": false,
    "pycharm": {
     "name": "#%%\n"
    }
   }
  },
  {
   "cell_type": "code",
   "execution_count": 17,
   "outputs": [
    {
     "name": "stdout",
     "output_type": "stream",
     "text": [
      "a\n",
      "a#b\n"
     ]
    }
   ],
   "source": [
    "# '#' is the comment indicator.\n",
    "print(re.search(r'a#b', 'foo a#b 123', flags=re.X)[0])\n",
    "print(re.search(r'a\\#b', 'foo a#b 123', flags=re.X)[0])"
   ],
   "metadata": {
    "collapsed": false,
    "pycharm": {
     "name": "#%%\n"
    }
   }
  },
  {
   "cell_type": "code",
   "execution_count": 19,
   "outputs": [
    {
     "data": {
      "text/plain": "'1,2,3,(4),5,6,7'"
     },
     "execution_count": 19,
     "metadata": {},
     "output_type": "execute_result"
    }
   ],
   "source": [
    "# Inline comments: (?#comments goes here)\n",
    "# re.X 플래그 없이도 사용 가능하다.\n",
    "pat = re.compile(r'\\A((?:[^,]+,){3})(?#3-cols)([^,]+)(?#4th-col)')\n",
    "pat.sub(r'\\1(\\2)', '1,2,3,4,5,6,7')"
   ],
   "metadata": {
    "collapsed": false,
    "pycharm": {
     "name": "#%%\n"
    }
   }
  },
  {
   "cell_type": "markdown",
   "source": [
    "# Inline flags\n",
    "'inline'의 의미는 '패턴 문자열 내'라는 의미이다.\n",
    "`re.compile`, `re.search` 등에 선언된 플래그 인자보다 이 종류의 플래그가 우선순위가 높다.\n",
    "그리고 그룹 기호 안에 들어가긴 하지만 capture group이 아니다.\n",
    "re.I처럼 대문자로 쓰던 축약 알파벳을 소문자로 변경. `(?i:pat)`는 inline case-insensitive flag.\n",
    "\n",
    "  - (?flags:pat) 패턴 문자열 중에서도 지정된 일부분에만 적용된다.\n",
    "  - (?-flags:pat) will negate flags only for this portion\n",
    "  - (?flags-flags:pat) will apply and negate particular flags only for this portion\n",
    "  - (?flags)가 패턴 문자열의 맨 처음에 올 경우 그 패턴 전체 범위에 적용된다.\n",
    "  - if anchors are needed, they should be specified after (?flags)"
   ],
   "metadata": {
    "collapsed": false,
    "pycharm": {
     "name": "#%% md\n"
    }
   }
  },
  {
   "cell_type": "code",
   "execution_count": null,
   "outputs": [],
   "source": [
    "# case-sensitive for whole RE definition\n",
    "re.findall(r'Cat[a-z]*\\b', 'Cat SCatTeR CATER cAts')\n",
    "# case-insensitive only for '[a-z]*' portion\n",
    "re.findall(r'Cat(?i:[a-z]*)\\b', 'Cat SCatTeR CATER cAts')"
   ],
   "metadata": {
    "collapsed": false,
    "pycharm": {
     "name": "#%%\n"
    }
   }
  },
  {
   "cell_type": "code",
   "execution_count": null,
   "outputs": [],
   "source": [
    "# case-insensitive for whole RE definition using flags argument\n",
    "re.findall(r'Cat[a-z]*\\b', 'Cat SCatTeR CATER cAts', flags=re.I)\n",
    "# case-insensitive for whole RE definition using inline flags\n",
    "re.findall(r'(?i)Cat[a-z]*\\b', 'Cat SCatTeR CATER cAts')\n",
    "# case-sensitive only for 'Cat' portion\n",
    "re.findall(r'(?-i:Cat)[a-z]*\\b', 'Cat SCatTeR CATER cAts', flags=re.I)"
   ],
   "metadata": {
    "collapsed": false,
    "pycharm": {
     "name": "#%%\n"
    }
   }
  },
  {
   "cell_type": "markdown",
   "source": [
    "# Exercises"
   ],
   "metadata": {
    "collapsed": false,
    "pycharm": {
     "name": "#%% md\n"
    }
   }
  },
  {
   "cell_type": "code",
   "execution_count": null,
   "outputs": [],
   "source": [
    "# E1. Remove from first occurrence of 'hat' to last occurrence of 'it' for the\n",
    "# given input strings. Match these markers case insensitively.\n",
    "s1 = 'But Cool THAT\\nsee What okay\\nwow quite'\n",
    "s2 = 'it this hat is sliced HIT.'"
   ],
   "metadata": {
    "collapsed": false,
    "pycharm": {
     "name": "#%%\n"
    }
   }
  },
  {
   "cell_type": "code",
   "execution_count": null,
   "outputs": [],
   "source": [
    "# A1\n",
    "pat = re.compile()\n",
    "\n",
    "pat.sub('', s1)  # 'But Cool Te'\n",
    "pat.sub('', s2)  # 'it this .'"
   ],
   "metadata": {
    "collapsed": false,
    "pycharm": {
     "name": "#%%\n"
    }
   }
  },
  {
   "cell_type": "code",
   "execution_count": null,
   "outputs": [],
   "source": [
    "# E2. Delete from 'start' if it is at the beginning of a line up to the next\n",
    "# occurrence of the 'end' at the end of a line. Match these markers case\n",
    "# insensitively.\n",
    "para = '''\\\n",
    "... good start\n",
    "... start working on that\n",
    "... project you always wanted\n",
    "... to, do not let it end\n",
    "... hi there\n",
    "... start and end the end\n",
    "... 42\n",
    "... Start and try to\n",
    "... finish the End\n",
    "... bye'''"
   ],
   "metadata": {
    "collapsed": false,
    "pycharm": {
     "name": "#%%\n"
    }
   }
  },
  {
   "cell_type": "code",
   "execution_count": null,
   "outputs": [],
   "source": [
    "# A2\n",
    "pat = re.compile()\n",
    "print(pat.sub('', para))\n",
    "# good start\n",
    "#\n",
    "# hi there\n",
    "#\n",
    "# 42\n",
    "#\n",
    "# bye"
   ],
   "metadata": {
    "collapsed": false,
    "pycharm": {
     "name": "#%%\n"
    }
   }
  },
  {
   "cell_type": "code",
   "execution_count": null,
   "outputs": [],
   "source": [
    "# E3. For the given input strings, match all of these three patterns:\n",
    "#  - 'This' case sensitively\n",
    "#  - 'nice' and 'cool' case insensitively\n",
    "s1 = 'This is nice and Cool'\n",
    "s2 = 'Nice and cool this is'\n",
    "s3 = 'What is so nice and cool about This?'"
   ],
   "metadata": {
    "collapsed": false,
    "pycharm": {
     "name": "#%%\n"
    }
   }
  },
  {
   "cell_type": "code",
   "execution_count": null,
   "outputs": [],
   "source": [
    "# A3\n",
    "pat = re.compile()\n",
    "bool(pat.search(s1))  # True\n",
    "bool(pat.search(s2))  # False\n",
    "bool(pat.search(s3))  # True"
   ],
   "metadata": {
    "collapsed": false,
    "pycharm": {
     "name": "#%%\n"
    }
   }
  },
  {
   "cell_type": "code",
   "execution_count": null,
   "outputs": [],
   "source": [
    "# E4. For the given input strings, match if the string begins with 'Th' and\n",
    "# also contains a line that starts with 'There'.\n",
    "s1 = 'There there\\nHave a cookie'\n",
    "s2 = 'This is a mess\\nYeah?\\nThereeeee'\n",
    "s3 = 'Oh\\nThere goes the fun'"
   ],
   "metadata": {
    "collapsed": false,
    "pycharm": {
     "name": "#%%\n"
    }
   }
  },
  {
   "cell_type": "code",
   "execution_count": null,
   "outputs": [],
   "source": [
    "# A4\n",
    "pat = re.compile()\n",
    "bool(pat.search(s1))  # True\n",
    "bool(pat.search(s2))  # True\n",
    "bool(pat.search(s3))  # False"
   ],
   "metadata": {
    "collapsed": false,
    "pycharm": {
     "name": "#%%\n"
    }
   }
  },
  {
   "cell_type": "code",
   "execution_count": null,
   "outputs": [],
   "source": [
    "# E5. Explore what the `re.DEBUG` flag does. Here's some example patterns to\n",
    "# check out.\n",
    "re.compile(r'\\Aden|ly\\Z', flags=re.DEBUG)\n",
    "re.compile(r'\\b(0x)?[\\da-f]+\\b', flags=re.DEBUG)\n",
    "re.compile(r'\\b(?:0x)?[\\da-f]+\\b', flags=re.I | re.DEBUG)"
   ],
   "metadata": {
    "collapsed": false,
    "pycharm": {
     "name": "#%%\n"
    }
   }
  }
 ],
 "metadata": {
  "kernelspec": {
   "display_name": "Python 3",
   "language": "python",
   "name": "python3"
  },
  "language_info": {
   "codemirror_mode": {
    "name": "ipython",
    "version": 2
   },
   "file_extension": ".py",
   "mimetype": "text/x-python",
   "name": "python",
   "nbconvert_exporter": "python",
   "pygments_lexer": "ipython2",
   "version": "2.7.6"
  }
 },
 "nbformat": 4,
 "nbformat_minor": 0
}