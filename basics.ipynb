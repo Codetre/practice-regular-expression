{
 "cells": [
  {
   "cell_type": "code",
   "execution_count": 1,
   "metadata": {
    "collapsed": true
   },
   "outputs": [],
   "source": [
    "import re"
   ]
  },
  {
   "cell_type": "markdown",
   "source": [
    "# Data preparation"
   ],
   "metadata": {
    "collapsed": false,
    "pycharm": {
     "name": "#%% md\n"
    }
   }
  },
  {
   "cell_type": "code",
   "execution_count": 13,
   "outputs": [],
   "source": [
    "with open(textpath := 'pride_and_prejudice.txt', 'r') as fin:\n",
    "    novel = fin.read()"
   ],
   "metadata": {
    "collapsed": false,
    "pycharm": {
     "name": "#%%\n"
    }
   }
  },
  {
   "cell_type": "code",
   "execution_count": 17,
   "outputs": [
    {
     "name": "stdout",
     "output_type": "stream",
     "text": [
      "774838\n",
      "﻿The Project Gutenberg eBook of Pride and Prejudice, by Jane Austen\n",
      "\n",
      "This eBook is for the use of anyone anywhere in the United States and\n",
      "most other \n"
     ]
    }
   ],
   "source": [
    "print(len(novel))\n",
    "print(novel[:150])"
   ],
   "metadata": {
    "collapsed": false,
    "pycharm": {
     "name": "#%%\n"
    }
   }
  },
  {
   "cell_type": "code",
   "execution_count": 29,
   "outputs": [
    {
     "name": "stdout",
     "output_type": "stream",
     "text": [
      "pride\n",
      "<re.Match object; span=(32427, 32432), match='pride'>\n"
     ]
    }
   ],
   "source": [
    "# pattern 문자열에는 앞으로 raw string을 사용해 파이썬이 esc_char을 해석하는 방식이 영향을 미치지 못하게 함이 좋다.\n",
    "raw_pattern = r'pride'\n",
    "compiled_pattern = re.compile(raw_pattern, )\n",
    "print(compiled_pattern.pattern)\n",
    "print(compiled_pattern.search(novel))"
   ],
   "metadata": {
    "collapsed": false,
    "pycharm": {
     "name": "#%%\n"
    }
   }
  },
  {
   "cell_type": "markdown",
   "source": [
    "# Bytes and String"
   ],
   "metadata": {
    "collapsed": false
   }
  },
  {
   "cell_type": "code",
   "execution_count": 34,
   "outputs": [
    {
     "name": "stdout",
     "output_type": "stream",
     "text": [
      "<re.Match object; span=(0, 5), match=b'Hello'>\n"
     ]
    }
   ],
   "source": [
    "byte_string = b'Hello world!'\n",
    "raw_pattern = rb'hello'  # make the pattern bytes if the text is bytes type.\n",
    "\n",
    "matched = re.match(raw_pattern, byte_string, flags=re.I)\n",
    "print(matched)"
   ],
   "metadata": {
    "collapsed": false,
    "pycharm": {
     "name": "#%%\n"
    }
   }
  },
  {
   "cell_type": "markdown",
   "source": [
    "# Two ways to call methods"
   ],
   "metadata": {
    "collapsed": false,
    "pycharm": {
     "name": "#%% md\n"
    }
   }
  },
  {
   "cell_type": "code",
   "execution_count": null,
   "outputs": [],
   "source": [
    "raw_pattern = r'hope'\n",
    "sentence = 'I hope to master the regular expression.'\n",
    "\n",
    "# 1. 컴파일 후 패턴 메소드를 사용\n",
    "# 패턴을 여러 텍스트에서 검사할 일이 많다면 컴파일된 패턴을 사용하는 것이 좋다.\n",
    "# 또한 re 모듈에서 호출하는 것보다 컴파일 시 더 많은 제어 옵션을 추가할 수 있다.\n",
    "compiled_pattern = re.compile(raw_pattern, sentence)\n",
    "matched = compiled_pattern.search(raw_pattern, sentence)\n",
    "print(matched)\n",
    "\n",
    "# 2. 컴파일 없이 re 모듈에서 직접 메소드 호출\n",
    "matched = re.search(raw_pattern, sentence)\n",
    "print(matched)"
   ],
   "metadata": {
    "collapsed": false,
    "pycharm": {
     "name": "#%%\n"
    }
   }
  },
  {
   "cell_type": "markdown",
   "source": [
    "# Methods"
   ],
   "metadata": {
    "collapsed": false
   }
  },
  {
   "cell_type": "markdown",
   "source": [
    "## match"
   ],
   "metadata": {
    "collapsed": false
   }
  },
  {
   "cell_type": "code",
   "execution_count": 12,
   "outputs": [
    {
     "name": "stdout",
     "output_type": "stream",
     "text": [
      "None\n"
     ]
    }
   ],
   "source": [
    "matched = compiled_pattern.match(sentence)\n",
    "print(matched)"
   ],
   "metadata": {
    "collapsed": false,
    "pycharm": {
     "name": "#%%\n"
    }
   }
  },
  {
   "cell_type": "code",
   "execution_count": 13,
   "outputs": [
    {
     "name": "stdout",
     "output_type": "stream",
     "text": [
      "o\n"
     ]
    }
   ],
   "source": [
    "# pattern.match: 지정된 검색 시작 지점에서 일치 문자열을 찾을 수 없었다면 None 반환.\n",
    "matched = compiled_pattern.match(sentence, pos=1)\n",
    "print(matched.group())"
   ],
   "metadata": {
    "collapsed": false,
    "pycharm": {
     "name": "#%%\n"
    }
   }
  },
  {
   "cell_type": "markdown",
   "source": [
    "## search"
   ],
   "metadata": {
    "collapsed": false
   }
  },
  {
   "cell_type": "code",
   "execution_count": 14,
   "outputs": [
    {
     "name": "stdout",
     "output_type": "stream",
     "text": [
      "<re.Match object; span=(1, 2), match='o'>\n"
     ]
    }
   ],
   "source": [
    "# pattern.search: `match`와 달리 모든 위치에서부터 검색을 시작하고 그래도 찾지 못하면 None을 반환.\n",
    "# match()를 모든 위치에서 수행한다고 생각하면 편하다.\n",
    "matched = compiled_pattern.search(sentence)\n",
    "print(matched)"
   ],
   "metadata": {
    "collapsed": false,
    "pycharm": {
     "name": "#%%\n"
    }
   }
  },
  {
   "cell_type": "code",
   "execution_count": null,
   "outputs": [],
   "source": [
    "raw_pattern = r'is'\n",
    "sentence = 'This is a sample sentence.'\n",
    "\n",
    "bool(re.search(raw_pattern, sentence))"
   ],
   "metadata": {
    "collapsed": false,
    "pycharm": {
     "name": "#%%\n"
    }
   }
  },
  {
   "cell_type": "markdown",
   "source": [
    "## findall"
   ],
   "metadata": {
    "collapsed": false
   }
  },
  {
   "cell_type": "code",
   "execution_count": 35,
   "outputs": [
    {
     "name": "stdout",
     "output_type": "stream",
     "text": [
      "['lived', 'in', 'the', 'california']\n"
     ]
    }
   ],
   "source": [
    "# pattern.findall: 패턴에 맞는 최초의 문자열만 지니는 match, search와 달리 패턴에 맞는 모든 문자열을 담는다.\n",
    "raw_pattern = '[a-z]+'\n",
    "sentence = 'I lived in the california.'\n",
    "pattern = re.compile(raw_pattern)\n",
    "matched = pattern.findall(sentence)\n",
    "print(matched)"
   ],
   "metadata": {
    "collapsed": false,
    "pycharm": {
     "name": "#%%\n"
    }
   }
  },
  {
   "cell_type": "markdown",
   "source": [
    "## finditer"
   ],
   "metadata": {
    "collapsed": false
   }
  },
  {
   "cell_type": "code",
   "execution_count": 37,
   "outputs": [
    {
     "name": "stdout",
     "output_type": "stream",
     "text": [
      "<callable_iterator object at 0x106dd3df0>\n",
      "lived\n",
      "in\n",
      "the\n",
      "california\n"
     ]
    }
   ],
   "source": [
    "# pattern.finditer: findall은 일치 문자열의 리스트였으나, 일치 문자열을 감싼 Match 객체들을 얻어야 한다면 이걸 써라.\n",
    "matched_iter = pattern.finditer(sentence)\n",
    "print(matched_iter)\n",
    "for item in matched_iter:\n",
    "    print(item.group())"
   ],
   "metadata": {
    "collapsed": false,
    "pycharm": {
     "name": "#%%\n"
    }
   }
  },
  {
   "cell_type": "code",
   "execution_count": 40,
   "outputs": [
    {
     "name": "stdout",
     "output_type": "stream",
     "text": [
      "['lived', 'in', 'the', 'california']\n"
     ]
    }
   ],
   "source": [
    "# pattern.<method>() 대신 re.<method>(raw_pattern, sentence)의 1회용 축약형을 쓸 수도 있다.\n",
    "matched = re.findall(raw_pattern, sentence)\n",
    "print(matched)"
   ],
   "metadata": {
    "collapsed": false,
    "pycharm": {
     "name": "#%%\n"
    }
   }
  },
  {
   "cell_type": "markdown",
   "source": [
    "## sub(substitue)"
   ],
   "metadata": {
    "collapsed": false
   }
  },
  {
   "cell_type": "code",
   "execution_count": 8,
   "outputs": [
    {
     "data": {
      "text/plain": "'HavE a nice weekend.'"
     },
     "execution_count": 8,
     "metadata": {},
     "output_type": "execute_result"
    }
   ],
   "source": [
    "sentence = 'Have a nice weekend.'\n",
    "raw_pattern = r'e'\n",
    "\n",
    "# `count = 0` means that replace all the matched.\n",
    "substituted_sentence = re.sub(raw_pattern, 'E', sentence, count=1)"
   ],
   "metadata": {
    "collapsed": false,
    "pycharm": {
     "name": "#%%\n"
    }
   }
  },
  {
   "cell_type": "markdown",
   "source": [
    "# FLAGS"
   ],
   "metadata": {
    "collapsed": false
   }
  },
  {
   "cell_type": "markdown",
   "source": [
    "## Case insensitive"
   ],
   "metadata": {
    "collapsed": false
   }
  },
  {
   "cell_type": "code",
   "execution_count": 41,
   "outputs": [
    {
     "name": "stdout",
     "output_type": "stream",
     "text": [
      "<re.Match object; span=(0, 1), match='I'>\n"
     ]
    }
   ],
   "source": [
    "# re.IGNORECASE == re.I\n",
    "compiled_pattern = re.compile(raw_pattern, re.IGNORECASE)\n",
    "matched = compiled_pattern.match(sentence)\n",
    "print(matched)"
   ],
   "metadata": {
    "collapsed": false,
    "pycharm": {
     "name": "#%%\n"
    }
   }
  },
  {
   "cell_type": "markdown",
   "source": [
    "# Make New line in dot's matching range"
   ],
   "metadata": {
    "collapsed": false
   }
  },
  {
   "cell_type": "code",
   "execution_count": 43,
   "outputs": [
    {
     "name": "stdout",
     "output_type": "stream",
     "text": [
      "<re.Match object; span=(11, 19), match='that\\nshe'>\n"
     ]
    }
   ],
   "source": [
    "# re.DOTALL == re.S\n",
    "# '.'이 개행 문자도 패턴 일치 대상으로 삼을 수 있게 만든다.\n",
    "raw_pattern = 'that.she'\n",
    "sentence = '''\n",
    "I noticed that\n",
    "she had the gun.\n",
    "'''\n",
    "\n",
    "compiled_pattern = re.compile(raw_pattern, re.DOTALL)\n",
    "matched = pattern.search(sentence)\n",
    "print(matched)"
   ],
   "metadata": {
    "collapsed": false,
    "pycharm": {
     "name": "#%%\n"
    }
   }
  },
  {
   "cell_type": "markdown",
   "source": [
    "# New line breaks down one sentence to each sentences."
   ],
   "metadata": {
    "collapsed": false
   }
  },
  {
   "cell_type": "code",
   "execution_count": 45,
   "outputs": [
    {
     "name": "stdout",
     "output_type": "stream",
     "text": [
      "['python one', 'python two', 'python three']\n"
     ]
    }
   ],
   "source": [
    "# re.MULTILINE == re.M\n",
    "# 여러 줄 문자열의 개행 문자 다음을 각 줄의 새 시작으로 인식.\n",
    "compiled_pattern = re.compile(\"^python\\s\\w+\", re.MULTILINE)\n",
    "\n",
    "sentence = \"\"\"python one\n",
    "life is too short\n",
    "python two\n",
    "you need python\n",
    "python three\"\"\"\n",
    "\n",
    "matched = compiled_pattern.findall(sentence)\n",
    "print(matched)"
   ],
   "metadata": {
    "collapsed": false,
    "pycharm": {
     "name": "#%%\n"
    }
   }
  },
  {
   "cell_type": "markdown",
   "source": [
    "# Comments in pattern expression"
   ],
   "metadata": {
    "collapsed": false
   }
  },
  {
   "cell_type": "code",
   "execution_count": null,
   "outputs": [],
   "source": [
    "# re.VERBOSE\n",
    "# 컴파일 시 어떻게 정규표현식을 해석할지 영향을 준다.\n",
    "compiled_pattern = re.compile(r\"\"\"\n",
    " &[#]                # Start of a numeric entity reference\n",
    " (\n",
    "     0[0-7]+         # Octal form\n",
    "   | [0-9]+          # Decimal form\n",
    "   | x[0-9a-fA-F]+   # Hexadecimal form\n",
    " )\n",
    " ;                   # Trailing semicolon\n",
    "\"\"\", re.VERBOSE)"
   ],
   "metadata": {
    "collapsed": false,
    "pycharm": {
     "name": "#%%\n"
    }
   }
  },
  {
   "cell_type": "code",
   "execution_count": 47,
   "outputs": [
    {
     "name": "stdout",
     "output_type": "stream",
     "text": [
      "['I', ' ', 'n', 'o', 't', 'i', 'c', 'e', 'd', ' ', 't', 'h', 'a', 't', 's', 'h', 'e', ' ', 'h', 'a', 'd', ' ', 't', 'h', 'e', ' ', 'g', 'u', 'n', '.']\n"
     ]
    }
   ],
   "source": [
    "matched = re.findall('.', sentence)\n",
    "print(matched)"
   ],
   "metadata": {
    "collapsed": false,
    "pycharm": {
     "name": "#%%\n"
    }
   }
  },
  {
   "cell_type": "markdown",
   "source": [
    "# Metacharacters"
   ],
   "metadata": {
    "collapsed": false
   }
  },
  {
   "cell_type": "code",
   "execution_count": 76,
   "outputs": [
    {
     "name": "stdout",
     "output_type": "stream",
     "text": [
      "<re.Match object; span=(0, 4), match='\\\\d.*'>\n"
     ]
    }
   ],
   "source": [
    "raw_pattern = re.escape('\\d.*')\n",
    "sentence = '\\d.*'\n",
    "compiled_pattern = re.compile(raw_pattern)\n",
    "matched = compiled_pattern.search(sentence)\n",
    "print(matched)"
   ],
   "metadata": {
    "collapsed": false,
    "pycharm": {
     "name": "#%%\n"
    }
   }
  },
  {
   "cell_type": "code",
   "execution_count": 65,
   "outputs": [
    {
     "name": "stdout",
     "output_type": "stream",
     "text": [
      "None\n"
     ]
    }
   ],
   "source": [
    "sentence = 'the the tHe THE'\n",
    "raw_pattern1 = '(the) \\1'\n",
    "raw_pattern2 = '(?i)the'\n",
    "raw_pattern3 = '(T|t)(H|h)(e|E)'\n",
    "compiled_pattern = re.compile(raw_pattern1)\n",
    "matched = compiled_pattern.search(sentence)\n",
    "print(matched)"
   ],
   "metadata": {
    "collapsed": false,
    "pycharm": {
     "name": "#%%\n"
    }
   }
  },
  {
   "cell_type": "code",
   "execution_count": 96,
   "outputs": [
    {
     "name": "stdout",
     "output_type": "stream",
     "text": [
      "<re.Match object; span=(0, 7), match='the the'>\n"
     ]
    }
   ],
   "source": [
    "raw_pattern = r'^(?P<one>\\S+) (?P=one)'\n",
    "sentence = 'the the'\n",
    "print(re.match(raw_pattern, sentence))"
   ],
   "metadata": {
    "collapsed": false,
    "pycharm": {
     "name": "#%%\n"
    }
   }
  },
  {
   "cell_type": "code",
   "execution_count": 101,
   "outputs": [
    {
     "name": "stdout",
     "output_type": "stream",
     "text": [
      "['The', 'the', 'THE']\n"
     ]
    }
   ],
   "source": [
    "raw_pattern = 'the|The|THE'\n",
    "sentence = 'The the THE'\n",
    "print(re.findall(raw_pattern, sentence))"
   ],
   "metadata": {
    "collapsed": false,
    "pycharm": {
     "name": "#%%\n"
    }
   }
  },
  {
   "cell_type": "markdown",
   "source": [
    "# Exercises"
   ],
   "metadata": {
    "collapsed": false
   }
  },
  {
   "cell_type": "code",
   "execution_count": 35,
   "outputs": [
    {
     "name": "stdout",
     "output_type": "stream",
     "text": [
      "False\n",
      "True\n"
     ]
    }
   ],
   "source": [
    "# E1. Find whether '0xB0' in the sample strings.\n",
    "line1 = 'start address: 0xA0, func1 address: 0xC0'\n",
    "line2 = 'end address: 0xFF, func2 address: 0xB0'"
   ],
   "metadata": {
    "collapsed": false,
    "pycharm": {
     "name": "#%%\n"
    }
   }
  },
  {
   "cell_type": "code",
   "execution_count": 36,
   "outputs": [
    {
     "name": "stdout",
     "output_type": "stream",
     "text": [
      "False\n",
      "True\n"
     ]
    }
   ],
   "source": [
    "# A1\n",
    "raw_pattern = r'0xB0'\n",
    "\n",
    "compiled_pattern = re.compile(raw_pattern)\n",
    "print(bool(compiled_pattern.search(line1)))\n",
    "print(bool(compiled_pattern.search(line2)))"
   ],
   "metadata": {
    "collapsed": false,
    "pycharm": {
     "name": "#%%\n"
    }
   }
  },
  {
   "cell_type": "code",
   "execution_count": 37,
   "outputs": [],
   "source": [
    "# E2. Replace all occurrences of 5 with 'five' for the given string.\n",
    "ip = 'They ate 5 apples and 5 oranges.'"
   ],
   "metadata": {
    "collapsed": false,
    "pycharm": {
     "name": "#%%\n"
    }
   }
  },
  {
   "cell_type": "code",
   "execution_count": 41,
   "outputs": [
    {
     "name": "stdout",
     "output_type": "stream",
     "text": [
      "They ate five apples and five oranges\n"
     ]
    }
   ],
   "source": [
    "# A2\n",
    "raw_pattern = r'5'\n",
    "substituted_sentence = re.sub(raw_pattern, 'five', ip)\n",
    "print(substituted_sentence)"
   ],
   "metadata": {
    "collapsed": false,
    "pycharm": {
     "name": "#%%\n"
    }
   }
  },
  {
   "cell_type": "code",
   "execution_count": 42,
   "outputs": [],
   "source": [
    "# E3. Replace *first* occurrence of 5 with 'five' for the given string.\n",
    "ip = 'They ate 5 apples and 5 oranges'"
   ],
   "metadata": {
    "collapsed": false,
    "pycharm": {
     "name": "#%%\n"
    }
   }
  },
  {
   "cell_type": "code",
   "execution_count": 43,
   "outputs": [
    {
     "name": "stdout",
     "output_type": "stream",
     "text": [
      "They ate five apples and 5 oranges\n"
     ]
    }
   ],
   "source": [
    "# A3\n",
    "raw_pattern = r'5'\n",
    "substituted_sentence = re.sub(raw_pattern, 'five', ip, count=1)\n",
    "print(substituted_sentence)"
   ],
   "metadata": {
    "collapsed": false,
    "pycharm": {
     "name": "#%%\n"
    }
   }
  },
  {
   "cell_type": "code",
   "execution_count": 46,
   "outputs": [],
   "source": [
    "# E4. For the given list, filter all elements that do not contain 'e'.\n",
    "words = ['goal', 'new', 'user', 'sit', 'eat', 'dinner']"
   ],
   "metadata": {
    "collapsed": false,
    "pycharm": {
     "name": "#%%\n"
    }
   }
  },
  {
   "cell_type": "code",
   "execution_count": 55,
   "outputs": [
    {
     "name": "stdout",
     "output_type": "stream",
     "text": [
      "words containing 'e': ['new', 'user', 'eat', 'dinner']\n",
      "words not containing 'e': ['goal', 'sit']\n"
     ]
    }
   ],
   "source": [
    "# A4\n",
    "compiled_pattern = re.compile(raw_pattern := r'e')\n",
    "\n",
    "contains = [word for word in words if bool(compiled_pattern.search(word))]\n",
    "not_contains = list(set(words) - set(contains))\n",
    "print(f\"words containing 'e': {contains}\")\n",
    "print(f\"words not containing 'e': {not_contains}\")"
   ],
   "metadata": {
    "collapsed": false,
    "pycharm": {
     "name": "#%%\n"
    }
   }
  },
  {
   "cell_type": "code",
   "execution_count": 56,
   "outputs": [],
   "source": [
    "# E5. Replace all occurrences of 'note' irrespective of case with 'X'.\n",
    "ip = 'This note should not be NoTeD'"
   ],
   "metadata": {
    "collapsed": false,
    "pycharm": {
     "name": "#%%\n"
    }
   }
  },
  {
   "cell_type": "code",
   "execution_count": 58,
   "outputs": [
    {
     "name": "stdout",
     "output_type": "stream",
     "text": [
      "This X should not be XD\n"
     ]
    }
   ],
   "source": [
    "# A5\n",
    "substituted_sentence = re.sub(r'note', 'X', ip, flags=re.I)\n",
    "print(substituted_sentence)"
   ],
   "metadata": {
    "collapsed": false,
    "pycharm": {
     "name": "#%%\n"
    }
   }
  },
  {
   "cell_type": "code",
   "execution_count": 59,
   "outputs": [],
   "source": [
    "# E6. Check if 'at' is present in the given byte input data.\n",
    "ip = b'tiger imp goat'"
   ],
   "metadata": {
    "collapsed": false,
    "pycharm": {
     "name": "#%%\n"
    }
   }
  },
  {
   "cell_type": "code",
   "execution_count": 61,
   "outputs": [
    {
     "name": "stdout",
     "output_type": "stream",
     "text": [
      "True\n"
     ]
    }
   ],
   "source": [
    "matched = re.search(rb'at', ip)\n",
    "print(bool(matched))"
   ],
   "metadata": {
    "collapsed": false,
    "pycharm": {
     "name": "#%%\n"
    }
   }
  },
  {
   "cell_type": "code",
   "execution_count": 63,
   "outputs": [],
   "source": [
    "# E7. For the given input string, display all lines not containing 'start' irrespective of case.\n",
    "paragraph = '''good start\n",
    "Start working on that\n",
    "project you always wanted\n",
    "stars are shining brightly\n",
    "hi there\n",
    "start and try to\n",
    "finish the book\n",
    "bye'''"
   ],
   "metadata": {
    "collapsed": false,
    "pycharm": {
     "name": "#%%\n"
    }
   }
  },
  {
   "cell_type": "code",
   "execution_count": 71,
   "outputs": [
    {
     "name": "stdout",
     "output_type": "stream",
     "text": [
      "['project you always wanted', 'stars are shining brightly', 'hi there', 'finish the book', 'bye']\n"
     ]
    }
   ],
   "source": [
    "compiled_pattern = re.compile(r'start', flags=re.I)\n",
    "lines_not_matching = [line for line in paragraph.splitlines() if not bool(compiled_pattern.search(line))]\n",
    "print(lines_not_matching)"
   ],
   "metadata": {
    "collapsed": false,
    "pycharm": {
     "name": "#%%\n"
    }
   }
  },
  {
   "cell_type": "code",
   "execution_count": 72,
   "outputs": [],
   "source": [
    "# E8. For the given list, filter all elements that contains either 'a' or 'w'.\n",
    "words = ['goal', 'new', 'user', 'sit', 'eat', 'dinner']"
   ],
   "metadata": {
    "collapsed": false,
    "pycharm": {
     "name": "#%%\n"
    }
   }
  },
  {
   "cell_type": "code",
   "execution_count": 76,
   "outputs": [
    {
     "name": "stdout",
     "output_type": "stream",
     "text": [
      "['goal', 'new', 'eat']\n"
     ]
    }
   ],
   "source": [
    "# A8\n",
    "compiled_pattern1 = re.compile(r'a')\n",
    "compiled_pattern2 = re.compile(r'w')\n",
    "\n",
    "words_matched = [word for word in words if compiled_pattern1.search(word)\n",
    "                 or compiled_pattern2.search(word)]\n",
    "print(words_matched)"
   ],
   "metadata": {
    "collapsed": false,
    "pycharm": {
     "name": "#%%\n"
    }
   }
  },
  {
   "cell_type": "code",
   "execution_count": 74,
   "outputs": [],
   "source": [
    "# E9. For the given list, filter all elements that contains both 'e' and 'n'.\n",
    "words = ['goal', 'new', 'user', 'sit', 'eat', 'dinner']"
   ],
   "metadata": {
    "collapsed": false,
    "pycharm": {
     "name": "#%%\n"
    }
   }
  },
  {
   "cell_type": "code",
   "execution_count": 77,
   "outputs": [
    {
     "name": "stdout",
     "output_type": "stream",
     "text": [
      "['new', 'dinner']\n"
     ]
    }
   ],
   "source": [
    "# A9\n",
    "compiled_pattern1 = re.compile(r'e')\n",
    "compiled_pattern2 = re.compile(r'n')\n",
    "\n",
    "words_matched = [word for word in words if compiled_pattern1.search(word)\n",
    "                 and compiled_pattern2.search(word)]\n",
    "print(words_matched)"
   ],
   "metadata": {
    "collapsed": false,
    "pycharm": {
     "name": "#%%\n"
    }
   }
  },
  {
   "cell_type": "code",
   "execution_count": 79,
   "outputs": [],
   "source": [
    "# E10. For the given string, replace '0xA0' with '0x7F', and '0xC0' with '0x1F'.\n",
    "ip = 'start address: 0xA0, func1 address: 0xC0'"
   ],
   "metadata": {
    "collapsed": false,
    "pycharm": {
     "name": "#%%\n"
    }
   }
  },
  {
   "cell_type": "code",
   "execution_count": 80,
   "outputs": [
    {
     "name": "stdout",
     "output_type": "stream",
     "text": [
      "start address: 0x7F, func1 address: 0x1F\n"
     ]
    }
   ],
   "source": [
    "# A10\n",
    "sub1 = re.sub(r'0xA0', '0x7F', ip)\n",
    "sub2 = re.sub(r'0xC0', '0x1F', sub1)\n",
    "print(sub2)"
   ],
   "metadata": {
    "collapsed": false,
    "pycharm": {
     "name": "#%%\n"
    }
   }
  }
 ],
 "metadata": {
  "kernelspec": {
   "display_name": "Python 3",
   "language": "python",
   "name": "python3"
  },
  "language_info": {
   "codemirror_mode": {
    "name": "ipython",
    "version": 2
   },
   "file_extension": ".py",
   "mimetype": "text/x-python",
   "name": "python",
   "nbconvert_exporter": "python",
   "pygments_lexer": "ipython2",
   "version": "2.7.6"
  }
 },
 "nbformat": 4,
 "nbformat_minor": 0
}