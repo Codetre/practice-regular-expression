{
 "cells": [
  {
   "cell_type": "code",
   "execution_count": 1,
   "metadata": {
    "collapsed": true,
    "pycharm": {
     "name": "#%%\n"
    }
   },
   "outputs": [],
   "source": [
    "import re"
   ]
  },
  {
   "cell_type": "markdown",
   "source": [
    "lookarounds(zero-width patterns) == some kind of grouping\n",
    " - lookarounds의 조건 패턴은 문자열을 먹지 않는다는 점에서 앵커처럼 작동한다.\n",
    " - 문법: (?<dir><sign><pattern)\n",
    "   - 예시1: foo(?=\\d)  positive lookahead\n",
    "   - 예시2: foo(?!\\d)  negative lookahead\n",
    "   - 예시3: (?<\\d)foo  positive lookbehind\n",
    "   - 예시4: (?<!\\d)foo negative lookbehind\n",
    " - negative/positive: !와 =의 차이가 있음.\n",
    " - look{ahead/behind}: behind는 < 가 붙음.\n"
   ],
   "metadata": {
    "collapsed": false,
    "pycharm": {
     "name": "#%% md\n"
    }
   }
  },
  {
   "cell_type": "code",
   "execution_count": 3,
   "outputs": [
    {
     "name": "stdout",
     "output_type": "stream",
     "text": [
      "['#foo 123']\n",
      "1 \n",
      "a \n"
     ]
    }
   ],
   "source": [
    "items = ['1,2,3,4', 'a,b,c,d', '#foo 123']\n",
    "\n",
    "has_digit_and_sharp = [s for s in items if re.search(r'\\d', s) and '#' in s]\n",
    "print(has_digit_and_sharp)"
   ],
   "metadata": {
    "collapsed": false,
    "pycharm": {
     "name": "#%%\n"
    }
   }
  },
  {
   "cell_type": "code",
   "execution_count": 4,
   "outputs": [
    {
     "name": "stdout",
     "output_type": "stream",
     "text": [
      "1 \n",
      "a \n"
     ]
    }
   ],
   "source": [
    "for s in items:\n",
    "    if s[0] != '#':\n",
    "        print(only_first_char := re.sub(r',.+', ' ', s))"
   ],
   "metadata": {
    "collapsed": false,
    "pycharm": {
     "name": "#%%\n"
    }
   }
  },
  {
   "cell_type": "code",
   "execution_count": 7,
   "outputs": [
    {
     "data": {
      "text/plain": "'hey bazd! foo42 bazt5 bazbaz'"
     },
     "execution_count": 7,
     "metadata": {},
     "output_type": "execute_result"
    }
   ],
   "source": [
    "# negative lookahead\n",
    "# \"'foo' 뒤(읽는 방향은 정방향이니 ahead)에 숫자가 붙지 않는(neg) 경우에 한해서\" <- 이게 neg. lookahead 의미\n",
    "# 'foo'를 교체할 것.\n",
    "re.sub(r'foo(?!\\d)', 'baz', 'hey food! foo42 foot5 foofoo')"
   ],
   "metadata": {
    "collapsed": false,
    "pycharm": {
     "name": "#%%\n"
    }
   }
  },
  {
   "cell_type": "code",
   "execution_count": 8,
   "outputs": [
    {
     "data": {
      "text/plain": "'baz _foo 42bazbaz'"
     },
     "execution_count": 8,
     "metadata": {},
     "output_type": "execute_result"
    }
   ],
   "source": [
    "# negative lookbehind 1\n",
    "re.sub(r'(?<!_)foo', 'baz', 'foo _foo 42foofoo')"
   ],
   "metadata": {
    "collapsed": false,
    "pycharm": {
     "name": "#%%\n"
    }
   }
  },
  {
   "cell_type": "code",
   "execution_count": 9,
   "outputs": [
    {
     "data": {
      "text/plain": "'baz _fool 42bazfoot'"
     },
     "execution_count": 9,
     "metadata": {},
     "output_type": "execute_result"
    }
   ],
   "source": [
    "# negative lookbehind 2\n",
    "re.sub(r'(?<!_)foo.', 'baz', 'food _fool 42foo_foot')"
   ],
   "metadata": {
    "collapsed": false,
    "pycharm": {
     "name": "#%%\n"
    }
   }
  },
  {
   "cell_type": "code",
   "execution_count": 15,
   "outputs": [
    {
     "data": {
      "text/plain": "':cart <X -rest ;X'"
     },
     "execution_count": 15,
     "metadata": {},
     "output_type": "execute_result"
    }
   ],
   "source": [
    "# change whole word \"only if it is not preceded by : or -\"\n",
    "re.sub(r'''\n",
    "        (?<![:-])  # only if it is not preceded by ':' or '-'\n",
    "        \\b\\w+\\b    # whole word\n",
    "        ''',\n",
    "       'X',\n",
    "       ':cart <apple -rest ;tea', flags=re.X)"
   ],
   "metadata": {
    "collapsed": false,
    "pycharm": {
     "name": "#%%\n"
    }
   }
  },
  {
   "cell_type": "code",
   "execution_count": 2,
   "outputs": [
    {
     "data": {
      "text/plain": "'foo_baz = num1 + 35 * 42 / num2'"
     },
     "execution_count": 2,
     "metadata": {},
     "output_type": "execute_result"
    }
   ],
   "source": [
    "# add space to word boundaries, but not at start or end of string\n",
    "# similar to: re.sub(r'\\b', ' ', 'foo_baz=num1+35*42/num2').strip()\n",
    "re.sub(r'(?<!\\A)\\b(?!\\Z)', ' ', 'foo_baz=num1+35*42/num2')\n",
    "# 'foo_baz = num1 + 35 * 42 / num2'"
   ],
   "metadata": {
    "collapsed": false,
    "pycharm": {
     "name": "#%%\n"
    }
   }
  },
  {
   "cell_type": "code",
   "execution_count": 3,
   "outputs": [
    {
     "data": {
      "text/plain": "'**a*e'"
     },
     "execution_count": 3,
     "metadata": {},
     "output_type": "execute_result"
    }
   ],
   "source": [
    "# lookbehind라고 왼쪽에 나오고, lookahead라고 오른쪽에 나오고 그러진 않는다.\n",
    "# replace a character as long as it is not preceded by 'p' or 'r'\n",
    "re.sub(r'(?<![pr]).', '*', 'spare')  # '**a*e'\n",
    "re.sub(r'.(?<![pr].)', '*', 'spare')  # 'spare'"
   ],
   "metadata": {
    "collapsed": false,
    "pycharm": {
     "name": "#%%\n"
    }
   }
  },
  {
   "cell_type": "code",
   "execution_count": 8,
   "outputs": [
    {
     "name": "stdout",
     "output_type": "stream",
     "text": [
      "par sXe Xt Xty\n",
      "par sXe Xt Xty\n"
     ]
    }
   ],
   "source": [
    "# replace 'par' as long as 's' is not present later in the input\n",
    "# this assumes that the lookaround doesn't conflict with search pattern\n",
    "# i.e. 's' will not conflict 'par' but would affect if it was 'r' and 'par'\n",
    "print(re.sub(r'par(?!.*s)', 'X', 'par spare part party'))  # 'par sXe Xt party'\n",
    "print(re.sub(r'(?!.*s)par', 'X', 'par spare part party'))  # 'par spare part party'"
   ],
   "metadata": {
    "collapsed": false,
    "pycharm": {
     "name": "#%%\n"
    }
   }
  },
  {
   "cell_type": "code",
   "execution_count": 9,
   "outputs": [
    {
     "name": "stdout",
     "output_type": "stream",
     "text": [
      "foo_baz = num1 + 35 * 42 / num2\n",
      "foo_baz = num1 + 35 * 42 / num2\n"
     ]
    }
   ],
   "source": [
    "# around,behind는 왼쪽에 있든 오른쪽에 있든 그 의미는 변하지 않는다.\n",
    "print(re.sub(r'(?!\\Z)\\b(?<!\\A)', ' ', 'foo_baz=num1+35*42/num2'))\n",
    "print(re.sub(r'(?<!\\A)\\b(?!\\Z)', ' ', 'foo_baz=num1+35*42/num2'))"
   ],
   "metadata": {
    "collapsed": false,
    "pycharm": {
     "name": "#%%\n"
    }
   }
  },
  {
   "cell_type": "code",
   "execution_count": 10,
   "outputs": [
    {
     "data": {
      "text/plain": "['5', '83']"
     },
     "execution_count": 10,
     "metadata": {},
     "output_type": "execute_result"
    }
   ],
   "source": [
    "# positive lookahead: 쉼표 앞에 오는 숫자 시퀀스를 찾아라.\n",
    "re.findall(r'\\d+(?=,)', '42 foo-5, baz3; x-83, y-20: f12')"
   ],
   "metadata": {
    "collapsed": false,
    "pycharm": {
     "name": "#%%\n"
    }
   }
  },
  {
   "cell_type": "code",
   "execution_count": 11,
   "outputs": [
    {
     "data": {
      "text/plain": "['20']"
     },
     "execution_count": 11,
     "metadata": {},
     "output_type": "execute_result"
    }
   ],
   "source": [
    "re.findall(r'''\n",
    "            (?<=-)    # '-' leads\n",
    "            \\d+       # digit sequence\n",
    "            (?=[:;])  # ';' or ':' follows\n",
    "            ''',\n",
    "           '42 foo-5, baz3; x-83, y-20: f12',\n",
    "           flags=re.X)"
   ],
   "metadata": {
    "collapsed": false,
    "pycharm": {
     "name": "#%%\n"
    }
   }
  },
  {
   "cell_type": "code",
   "execution_count": 13,
   "outputs": [
    {
     "data": {
      "text/plain": "'X sXe part party'"
     },
     "execution_count": 13,
     "metadata": {},
     "output_type": "execute_result"
    }
   ],
   "source": [
    "re.sub(r'par(?=.*\\bpart\\b)', 'X', 'par spare part party')  # party는 'y' 때문에 누락되니 주의"
   ],
   "metadata": {
    "collapsed": false,
    "pycharm": {
     "name": "#%%\n"
    }
   }
  },
  {
   "cell_type": "code",
   "execution_count": 14,
   "outputs": [
    {
     "data": {
      "text/plain": "['two', '3', 'four']"
     },
     "execution_count": 14,
     "metadata": {},
     "output_type": "execute_result"
    }
   ],
   "source": [
    "# 앞뒤로 쉼표로 둘러쌓인 글자.\n",
    "re.findall(r'(?<=,)[^,]+(?=,)', '1,two,3,four,5')"
   ],
   "metadata": {
    "collapsed": false,
    "pycharm": {
     "name": "#%%\n"
    }
   }
  },
  {
   "cell_type": "code",
   "execution_count": 15,
   "outputs": [
    {
     "data": {
      "text/plain": "'NA,1,NA,NA,two,3,NA,NA,NA'"
     },
     "execution_count": 15,
     "metadata": {},
     "output_type": "execute_result"
    }
   ],
   "source": [
    "# 쉼표 간 아무 것도 없으면 'NA'를 삽입\n",
    "re.sub(r'(?<![^,])(?![^,])', 'NA', ',1,,,two,3,,,')"
   ],
   "metadata": {
    "collapsed": false,
    "pycharm": {
     "name": "#%%\n"
    }
   }
  },
  {
   "cell_type": "code",
   "execution_count": 16,
   "outputs": [
    {
     "name": "stdout",
     "output_type": "stream",
     "text": [
      "a b\n",
      "b c\n",
      "c d\n",
      "d e\n"
     ]
    }
   ],
   "source": [
    "# lookaround 안에 capture group이 사용됐음에 주의!\n",
    "# 처음 매칭된 문자열 'a b'만 보면 \\1 == 'a ', \\2 == 'b'\n",
    "print(re.sub(r'(\\S+\\s+)(?=(\\S+)\\s)', r'\\1\\2\\n', 'a b c d e'))"
   ],
   "metadata": {
    "collapsed": false,
    "pycharm": {
     "name": "#%%\n"
    }
   }
  },
  {
   "cell_type": "code",
   "execution_count": 17,
   "outputs": [
    {
     "data": {
      "text/plain": "['po', 'ca']"
     },
     "execution_count": 17,
     "metadata": {},
     "output_type": "execute_result"
    }
   ],
   "source": [
    "# findall은 패턴에 capture group이 들어 있으면 그것만 나열해서 보여준다.\n",
    "re.findall(r'''\n",
    "            (?<=(po|ca)re)  # \\1\n",
    "            \\d+\n",
    "            ''',\n",
    "           'pore42 car3 pare7 care5',\n",
    "           flags=re.X)"
   ],
   "metadata": {
    "collapsed": false,
    "pycharm": {
     "name": "#%%\n"
    }
   }
  },
  {
   "cell_type": "code",
   "execution_count": 18,
   "outputs": [
    {
     "data": {
      "text/plain": "['42', '5']"
     },
     "execution_count": 18,
     "metadata": {},
     "output_type": "execute_result"
    }
   ],
   "source": [
    "re.findall(r'''\n",
    "            (?<=(?:po|ca)re)  # (?:pattern)은 non-capture group임을 기억\n",
    "            \\d+\n",
    "            ''',\n",
    "           'pore42 car3 pare7 care5',\n",
    "           flags=re.X)"
   ],
   "metadata": {
    "collapsed": false,
    "pycharm": {
     "name": "#%%\n"
    }
   }
  },
  {
   "cell_type": "markdown",
   "source": [
    "# Working as a logical AND operator"
   ],
   "metadata": {
    "collapsed": false,
    "pycharm": {
     "name": "#%% md\n"
    }
   }
  },
  {
   "cell_type": "code",
   "execution_count": 21,
   "outputs": [
    {
     "data": {
      "text/plain": "['subtle', 'questionable', 'exhibit']"
     },
     "execution_count": 21,
     "metadata": {},
     "output_type": "execute_result"
    }
   ],
   "source": [
    "# words containing 'b' and 'e' and 't' \"in any order\"\n",
    "# same as: r'b.*e.*t|b.*t.*e|e.*b.*t|e.*t.*b|t.*b.*e|t.*e.*b'\n",
    "words = ['sequoia', 'subtle', 'questionable', 'exhibit', 'equation']\n",
    "compiled_pattern = re.compile(\n",
    "    r'''\n",
    "    (?=.*b)  # 'sub'\n",
    "    (?=.*e)  # 'subtle'\n",
    "    .*t      # 'subt'\n",
    "    ''',\n",
    "    flags=re.X)\n",
    "[w for w in words if compiled_pattern.search(w)]\n",
    "# ['subtle', 'questionable', 'exhibit']"
   ],
   "metadata": {
    "collapsed": false,
    "pycharm": {
     "name": "#%%\n"
    }
   }
  },
  {
   "cell_type": "code",
   "execution_count": null,
   "outputs": [],
   "source": [
    "# words containing all lowercase vowels in any order\n",
    "[w for w in words if re.search(r'(?=.*a)(?=.*e)(?=.*i)(?=.*o).*u', w)]\n",
    "# ['sequoia', 'questionable', 'equation']"
   ],
   "metadata": {
    "collapsed": false,
    "pycharm": {
     "name": "#%%\n"
    }
   }
  },
  {
   "cell_type": "code",
   "execution_count": null,
   "outputs": [],
   "source": [
    "# words containing 'a' and 'q' but not 'n' at the end of the element\n",
    "[w for w in words if re.search(r'(?=.*a)(?=.*q)(?!.*n\\Z)', w)]\n",
    "# ['sequoia', 'questionable']"
   ],
   "metadata": {
    "collapsed": false,
    "pycharm": {
     "name": "#%%\n"
    }
   }
  },
  {
   "cell_type": "markdown",
   "source": [
    "# Variable length lookbehind\n",
    "lookbehind 내부 패턴은 고정된 길이의 패턴만 가능하다. 수량자도 *처럼 가변 길이가 아니라 {3}처럼 정해진 길이만 가능."
   ],
   "metadata": {
    "collapsed": false,
    "pycharm": {
     "name": "#%% md\n"
    }
   }
  },
  {
   "cell_type": "code",
   "execution_count": 23,
   "outputs": [
    {
     "data": {
      "text/plain": "['42', '7']"
     },
     "execution_count": 23,
     "metadata": {},
     "output_type": "execute_result"
    }
   ],
   "source": [
    "# allowed case 1\n",
    "re.findall(r'''\n",
    "            (?<=(?:po|da)re)  # The non-capture group ignored in `findall`.\n",
    "            \\d+               # This pattern matched.\n",
    "            ''',\n",
    "           'pore42 tar3 dare7 care5',\n",
    "           flags=re.X)\n",
    "# ['42', '7']"
   ],
   "metadata": {
    "collapsed": false,
    "pycharm": {
     "name": "#%%\n"
    }
   }
  },
  {
   "cell_type": "code",
   "execution_count": 24,
   "outputs": [
    {
     "data": {
      "text/plain": "['42', '7', '5']"
     },
     "execution_count": 24,
     "metadata": {},
     "output_type": "execute_result"
    }
   ],
   "source": [
    "# allowed case 2\n",
    "re.findall(r'''\n",
    "            (?<=\\b[a-z]{4})\n",
    "            \\d+\n",
    "            ''',\n",
    "           'pore42 tar3 dare7 care5',\n",
    "           flags=re.X)\n",
    "# ['42', '7', '5']"
   ],
   "metadata": {
    "collapsed": false,
    "pycharm": {
     "name": "#%%\n"
    }
   }
  },
  {
   "cell_type": "code",
   "execution_count": 26,
   "outputs": [
    {
     "ename": "error",
     "evalue": "look-behind requires fixed-width pattern",
     "output_type": "error",
     "traceback": [
      "\u001B[0;31m---------------------------------------------------------------------------\u001B[0m",
      "\u001B[0;31merror\u001B[0m                                     Traceback (most recent call last)",
      "Input \u001B[0;32mIn [26]\u001B[0m, in \u001B[0;36m<cell line: 3>\u001B[0;34m()\u001B[0m\n\u001B[1;32m      1\u001B[0m \u001B[38;5;66;03m# not allowed case 1\u001B[39;00m\n\u001B[1;32m      2\u001B[0m \u001B[38;5;66;03m# len('tar') != len('dare')\u001B[39;00m\n\u001B[0;32m----> 3\u001B[0m \u001B[43mre\u001B[49m\u001B[38;5;241;43m.\u001B[39;49m\u001B[43mfindall\u001B[49m\u001B[43m(\u001B[49m\u001B[38;5;124;43mr\u001B[39;49m\u001B[38;5;124;43m'\u001B[39;49m\u001B[38;5;124;43m(?<!tar|dare)\u001B[39;49m\u001B[38;5;124;43m\\\u001B[39;49m\u001B[38;5;124;43md+\u001B[39;49m\u001B[38;5;124;43m'\u001B[39;49m\u001B[43m,\u001B[49m\u001B[43m \u001B[49m\u001B[38;5;124;43m'\u001B[39;49m\u001B[38;5;124;43mpore42 tar3 dare7 care5\u001B[39;49m\u001B[38;5;124;43m'\u001B[39;49m\u001B[43m)\u001B[49m\n",
      "File \u001B[0;32m/Library/Frameworks/Python.framework/Versions/3.8/lib/python3.8/re.py:241\u001B[0m, in \u001B[0;36mfindall\u001B[0;34m(pattern, string, flags)\u001B[0m\n\u001B[1;32m    233\u001B[0m \u001B[38;5;28;01mdef\u001B[39;00m \u001B[38;5;21mfindall\u001B[39m(pattern, string, flags\u001B[38;5;241m=\u001B[39m\u001B[38;5;241m0\u001B[39m):\n\u001B[1;32m    234\u001B[0m     \u001B[38;5;124;03m\"\"\"Return a list of all non-overlapping matches in the string.\u001B[39;00m\n\u001B[1;32m    235\u001B[0m \n\u001B[1;32m    236\u001B[0m \u001B[38;5;124;03m    If one or more capturing groups are present in the pattern, return\u001B[39;00m\n\u001B[0;32m   (...)\u001B[0m\n\u001B[1;32m    239\u001B[0m \n\u001B[1;32m    240\u001B[0m \u001B[38;5;124;03m    Empty matches are included in the result.\"\"\"\u001B[39;00m\n\u001B[0;32m--> 241\u001B[0m     \u001B[38;5;28;01mreturn\u001B[39;00m \u001B[43m_compile\u001B[49m\u001B[43m(\u001B[49m\u001B[43mpattern\u001B[49m\u001B[43m,\u001B[49m\u001B[43m \u001B[49m\u001B[43mflags\u001B[49m\u001B[43m)\u001B[49m\u001B[38;5;241m.\u001B[39mfindall(string)\n",
      "File \u001B[0;32m/Library/Frameworks/Python.framework/Versions/3.8/lib/python3.8/re.py:304\u001B[0m, in \u001B[0;36m_compile\u001B[0;34m(pattern, flags)\u001B[0m\n\u001B[1;32m    302\u001B[0m \u001B[38;5;28;01mif\u001B[39;00m \u001B[38;5;129;01mnot\u001B[39;00m sre_compile\u001B[38;5;241m.\u001B[39misstring(pattern):\n\u001B[1;32m    303\u001B[0m     \u001B[38;5;28;01mraise\u001B[39;00m \u001B[38;5;167;01mTypeError\u001B[39;00m(\u001B[38;5;124m\"\u001B[39m\u001B[38;5;124mfirst argument must be string or compiled pattern\u001B[39m\u001B[38;5;124m\"\u001B[39m)\n\u001B[0;32m--> 304\u001B[0m p \u001B[38;5;241m=\u001B[39m \u001B[43msre_compile\u001B[49m\u001B[38;5;241;43m.\u001B[39;49m\u001B[43mcompile\u001B[49m\u001B[43m(\u001B[49m\u001B[43mpattern\u001B[49m\u001B[43m,\u001B[49m\u001B[43m \u001B[49m\u001B[43mflags\u001B[49m\u001B[43m)\u001B[49m\n\u001B[1;32m    305\u001B[0m \u001B[38;5;28;01mif\u001B[39;00m \u001B[38;5;129;01mnot\u001B[39;00m (flags \u001B[38;5;241m&\u001B[39m DEBUG):\n\u001B[1;32m    306\u001B[0m     \u001B[38;5;28;01mif\u001B[39;00m \u001B[38;5;28mlen\u001B[39m(_cache) \u001B[38;5;241m>\u001B[39m\u001B[38;5;241m=\u001B[39m _MAXCACHE:\n\u001B[1;32m    307\u001B[0m         \u001B[38;5;66;03m# Drop the oldest item\u001B[39;00m\n",
      "File \u001B[0;32m/Library/Frameworks/Python.framework/Versions/3.8/lib/python3.8/sre_compile.py:768\u001B[0m, in \u001B[0;36mcompile\u001B[0;34m(p, flags)\u001B[0m\n\u001B[1;32m    765\u001B[0m \u001B[38;5;28;01melse\u001B[39;00m:\n\u001B[1;32m    766\u001B[0m     pattern \u001B[38;5;241m=\u001B[39m \u001B[38;5;28;01mNone\u001B[39;00m\n\u001B[0;32m--> 768\u001B[0m code \u001B[38;5;241m=\u001B[39m \u001B[43m_code\u001B[49m\u001B[43m(\u001B[49m\u001B[43mp\u001B[49m\u001B[43m,\u001B[49m\u001B[43m \u001B[49m\u001B[43mflags\u001B[49m\u001B[43m)\u001B[49m\n\u001B[1;32m    770\u001B[0m \u001B[38;5;28;01mif\u001B[39;00m flags \u001B[38;5;241m&\u001B[39m SRE_FLAG_DEBUG:\n\u001B[1;32m    771\u001B[0m     \u001B[38;5;28mprint\u001B[39m()\n",
      "File \u001B[0;32m/Library/Frameworks/Python.framework/Versions/3.8/lib/python3.8/sre_compile.py:607\u001B[0m, in \u001B[0;36m_code\u001B[0;34m(p, flags)\u001B[0m\n\u001B[1;32m    604\u001B[0m _compile_info(code, p, flags)\n\u001B[1;32m    606\u001B[0m \u001B[38;5;66;03m# compile the pattern\u001B[39;00m\n\u001B[0;32m--> 607\u001B[0m \u001B[43m_compile\u001B[49m\u001B[43m(\u001B[49m\u001B[43mcode\u001B[49m\u001B[43m,\u001B[49m\u001B[43m \u001B[49m\u001B[43mp\u001B[49m\u001B[38;5;241;43m.\u001B[39;49m\u001B[43mdata\u001B[49m\u001B[43m,\u001B[49m\u001B[43m \u001B[49m\u001B[43mflags\u001B[49m\u001B[43m)\u001B[49m\n\u001B[1;32m    609\u001B[0m code\u001B[38;5;241m.\u001B[39mappend(SUCCESS)\n\u001B[1;32m    611\u001B[0m \u001B[38;5;28;01mreturn\u001B[39;00m code\n",
      "File \u001B[0;32m/Library/Frameworks/Python.framework/Versions/3.8/lib/python3.8/sre_compile.py:182\u001B[0m, in \u001B[0;36m_compile\u001B[0;34m(code, pattern, flags)\u001B[0m\n\u001B[1;32m    180\u001B[0m     lo, hi \u001B[38;5;241m=\u001B[39m av[\u001B[38;5;241m1\u001B[39m]\u001B[38;5;241m.\u001B[39mgetwidth()\n\u001B[1;32m    181\u001B[0m     \u001B[38;5;28;01mif\u001B[39;00m lo \u001B[38;5;241m!=\u001B[39m hi:\n\u001B[0;32m--> 182\u001B[0m         \u001B[38;5;28;01mraise\u001B[39;00m error(\u001B[38;5;124m\"\u001B[39m\u001B[38;5;124mlook-behind requires fixed-width pattern\u001B[39m\u001B[38;5;124m\"\u001B[39m)\n\u001B[1;32m    183\u001B[0m     emit(lo) \u001B[38;5;66;03m# look behind\u001B[39;00m\n\u001B[1;32m    184\u001B[0m _compile(code, av[\u001B[38;5;241m1\u001B[39m], flags)\n",
      "\u001B[0;31merror\u001B[0m: look-behind requires fixed-width pattern"
     ]
    }
   ],
   "source": [
    "# not allowed case 1\n",
    "# len('tar') != len('dare')이라서 pattern 길이가 3인지 4인지 미정인 상태가 된다.\n",
    "re.findall(r'(?<!tar|dare)\\d+', 'pore42 tar3 dare7 care5')\n",
    "# re.error: look-behind requires fixed-width pattern"
   ],
   "metadata": {
    "collapsed": false,
    "pycharm": {
     "name": "#%%\n"
    }
   }
  },
  {
   "cell_type": "code",
   "execution_count": 27,
   "outputs": [
    {
     "data": {
      "text/plain": "['42', '5']"
     },
     "execution_count": 27,
     "metadata": {},
     "output_type": "execute_result"
    }
   ],
   "source": [
    "# workaround for case 1: 별개의 lookbehind\n",
    "re.findall(r'(?<!tar)(?<!dare)\\d+', 'pore42 tar3 dare7 care5')"
   ],
   "metadata": {
    "collapsed": false,
    "pycharm": {
     "name": "#%%\n"
    }
   }
  },
  {
   "cell_type": "code",
   "execution_count": 41,
   "outputs": [
    {
     "data": {
      "text/plain": "['3', '7']"
     },
     "execution_count": 41,
     "metadata": {},
     "output_type": "execute_result"
    }
   ],
   "source": [
    "# wordaround for case 1 without lookarounds\n",
    "# same as: re.findall(r'(?:(?<=tar)|(?<=dare))\\d+', s)\n",
    "re.findall(r'(?:tar|dare)(\\d+)', 'pore42 tar3 dare7 care5')\n",
    "# ['3', '7']"
   ],
   "metadata": {
    "collapsed": false,
    "pycharm": {
     "name": "#%%\n"
    }
   }
  },
  {
   "cell_type": "code",
   "execution_count": 25,
   "outputs": [
    {
     "ename": "error",
     "evalue": "look-behind requires fixed-width pattern",
     "output_type": "error",
     "traceback": [
      "\u001B[0;31m---------------------------------------------------------------------------\u001B[0m",
      "\u001B[0;31merror\u001B[0m                                     Traceback (most recent call last)",
      "Input \u001B[0;32mIn [25]\u001B[0m, in \u001B[0;36m<cell line: 1>\u001B[0;34m()\u001B[0m\n\u001B[0;32m----> 1\u001B[0m \u001B[43mre\u001B[49m\u001B[38;5;241;43m.\u001B[39;49m\u001B[43mfindall\u001B[49m\u001B[43m(\u001B[49m\u001B[38;5;124;43mr\u001B[39;49m\u001B[38;5;124;43m'\u001B[39;49m\u001B[38;5;124;43m(?<=\u001B[39;49m\u001B[38;5;124;43m\\\u001B[39;49m\u001B[38;5;124;43mb[pd][a-z]*)\u001B[39;49m\u001B[38;5;124;43m\\\u001B[39;49m\u001B[38;5;124;43md+\u001B[39;49m\u001B[38;5;124;43m'\u001B[39;49m\u001B[43m,\u001B[49m\u001B[43m \u001B[49m\u001B[38;5;124;43m'\u001B[39;49m\u001B[38;5;124;43mpore42 tar3 dare7 care5\u001B[39;49m\u001B[38;5;124;43m'\u001B[39;49m\u001B[43m)\u001B[49m\n",
      "File \u001B[0;32m/Library/Frameworks/Python.framework/Versions/3.8/lib/python3.8/re.py:241\u001B[0m, in \u001B[0;36mfindall\u001B[0;34m(pattern, string, flags)\u001B[0m\n\u001B[1;32m    233\u001B[0m \u001B[38;5;28;01mdef\u001B[39;00m \u001B[38;5;21mfindall\u001B[39m(pattern, string, flags\u001B[38;5;241m=\u001B[39m\u001B[38;5;241m0\u001B[39m):\n\u001B[1;32m    234\u001B[0m     \u001B[38;5;124;03m\"\"\"Return a list of all non-overlapping matches in the string.\u001B[39;00m\n\u001B[1;32m    235\u001B[0m \n\u001B[1;32m    236\u001B[0m \u001B[38;5;124;03m    If one or more capturing groups are present in the pattern, return\u001B[39;00m\n\u001B[0;32m   (...)\u001B[0m\n\u001B[1;32m    239\u001B[0m \n\u001B[1;32m    240\u001B[0m \u001B[38;5;124;03m    Empty matches are included in the result.\"\"\"\u001B[39;00m\n\u001B[0;32m--> 241\u001B[0m     \u001B[38;5;28;01mreturn\u001B[39;00m \u001B[43m_compile\u001B[49m\u001B[43m(\u001B[49m\u001B[43mpattern\u001B[49m\u001B[43m,\u001B[49m\u001B[43m \u001B[49m\u001B[43mflags\u001B[49m\u001B[43m)\u001B[49m\u001B[38;5;241m.\u001B[39mfindall(string)\n",
      "File \u001B[0;32m/Library/Frameworks/Python.framework/Versions/3.8/lib/python3.8/re.py:304\u001B[0m, in \u001B[0;36m_compile\u001B[0;34m(pattern, flags)\u001B[0m\n\u001B[1;32m    302\u001B[0m \u001B[38;5;28;01mif\u001B[39;00m \u001B[38;5;129;01mnot\u001B[39;00m sre_compile\u001B[38;5;241m.\u001B[39misstring(pattern):\n\u001B[1;32m    303\u001B[0m     \u001B[38;5;28;01mraise\u001B[39;00m \u001B[38;5;167;01mTypeError\u001B[39;00m(\u001B[38;5;124m\"\u001B[39m\u001B[38;5;124mfirst argument must be string or compiled pattern\u001B[39m\u001B[38;5;124m\"\u001B[39m)\n\u001B[0;32m--> 304\u001B[0m p \u001B[38;5;241m=\u001B[39m \u001B[43msre_compile\u001B[49m\u001B[38;5;241;43m.\u001B[39;49m\u001B[43mcompile\u001B[49m\u001B[43m(\u001B[49m\u001B[43mpattern\u001B[49m\u001B[43m,\u001B[49m\u001B[43m \u001B[49m\u001B[43mflags\u001B[49m\u001B[43m)\u001B[49m\n\u001B[1;32m    305\u001B[0m \u001B[38;5;28;01mif\u001B[39;00m \u001B[38;5;129;01mnot\u001B[39;00m (flags \u001B[38;5;241m&\u001B[39m DEBUG):\n\u001B[1;32m    306\u001B[0m     \u001B[38;5;28;01mif\u001B[39;00m \u001B[38;5;28mlen\u001B[39m(_cache) \u001B[38;5;241m>\u001B[39m\u001B[38;5;241m=\u001B[39m _MAXCACHE:\n\u001B[1;32m    307\u001B[0m         \u001B[38;5;66;03m# Drop the oldest item\u001B[39;00m\n",
      "File \u001B[0;32m/Library/Frameworks/Python.framework/Versions/3.8/lib/python3.8/sre_compile.py:768\u001B[0m, in \u001B[0;36mcompile\u001B[0;34m(p, flags)\u001B[0m\n\u001B[1;32m    765\u001B[0m \u001B[38;5;28;01melse\u001B[39;00m:\n\u001B[1;32m    766\u001B[0m     pattern \u001B[38;5;241m=\u001B[39m \u001B[38;5;28;01mNone\u001B[39;00m\n\u001B[0;32m--> 768\u001B[0m code \u001B[38;5;241m=\u001B[39m \u001B[43m_code\u001B[49m\u001B[43m(\u001B[49m\u001B[43mp\u001B[49m\u001B[43m,\u001B[49m\u001B[43m \u001B[49m\u001B[43mflags\u001B[49m\u001B[43m)\u001B[49m\n\u001B[1;32m    770\u001B[0m \u001B[38;5;28;01mif\u001B[39;00m flags \u001B[38;5;241m&\u001B[39m SRE_FLAG_DEBUG:\n\u001B[1;32m    771\u001B[0m     \u001B[38;5;28mprint\u001B[39m()\n",
      "File \u001B[0;32m/Library/Frameworks/Python.framework/Versions/3.8/lib/python3.8/sre_compile.py:607\u001B[0m, in \u001B[0;36m_code\u001B[0;34m(p, flags)\u001B[0m\n\u001B[1;32m    604\u001B[0m _compile_info(code, p, flags)\n\u001B[1;32m    606\u001B[0m \u001B[38;5;66;03m# compile the pattern\u001B[39;00m\n\u001B[0;32m--> 607\u001B[0m \u001B[43m_compile\u001B[49m\u001B[43m(\u001B[49m\u001B[43mcode\u001B[49m\u001B[43m,\u001B[49m\u001B[43m \u001B[49m\u001B[43mp\u001B[49m\u001B[38;5;241;43m.\u001B[39;49m\u001B[43mdata\u001B[49m\u001B[43m,\u001B[49m\u001B[43m \u001B[49m\u001B[43mflags\u001B[49m\u001B[43m)\u001B[49m\n\u001B[1;32m    609\u001B[0m code\u001B[38;5;241m.\u001B[39mappend(SUCCESS)\n\u001B[1;32m    611\u001B[0m \u001B[38;5;28;01mreturn\u001B[39;00m code\n",
      "File \u001B[0;32m/Library/Frameworks/Python.framework/Versions/3.8/lib/python3.8/sre_compile.py:182\u001B[0m, in \u001B[0;36m_compile\u001B[0;34m(code, pattern, flags)\u001B[0m\n\u001B[1;32m    180\u001B[0m     lo, hi \u001B[38;5;241m=\u001B[39m av[\u001B[38;5;241m1\u001B[39m]\u001B[38;5;241m.\u001B[39mgetwidth()\n\u001B[1;32m    181\u001B[0m     \u001B[38;5;28;01mif\u001B[39;00m lo \u001B[38;5;241m!=\u001B[39m hi:\n\u001B[0;32m--> 182\u001B[0m         \u001B[38;5;28;01mraise\u001B[39;00m error(\u001B[38;5;124m\"\u001B[39m\u001B[38;5;124mlook-behind requires fixed-width pattern\u001B[39m\u001B[38;5;124m\"\u001B[39m)\n\u001B[1;32m    183\u001B[0m     emit(lo) \u001B[38;5;66;03m# look behind\u001B[39;00m\n\u001B[1;32m    184\u001B[0m _compile(code, av[\u001B[38;5;241m1\u001B[39m], flags)\n",
      "\u001B[0;31merror\u001B[0m: look-behind requires fixed-width pattern"
     ]
    }
   ],
   "source": [
    "# not allowed case 2: * 때문에 걸린다.\n",
    "re.findall(r'(?<=\\b[pd][a-z]*)\\d+', 'pore42 tar3 dare7 care5')\n",
    "# re.error: look-behind requires fixed-width pattern"
   ],
   "metadata": {
    "collapsed": false,
    "pycharm": {
     "name": "#%%\n"
    }
   }
  },
  {
   "cell_type": "code",
   "execution_count": 40,
   "outputs": [
    {
     "data": {
      "text/plain": "['ore42', 'are7']"
     },
     "execution_count": 40,
     "metadata": {},
     "output_type": "execute_result"
    }
   ],
   "source": [
    "# workaround for case 2: 어떻게 처리하지?\n",
    "re.findall(r'(?<=[pd])(?:[a-z]*)\\d+', 'pore42 tar3 dare7 care5')"
   ],
   "metadata": {
    "collapsed": false,
    "pycharm": {
     "name": "#%%\n"
    }
   }
  },
  {
   "cell_type": "code",
   "execution_count": 43,
   "outputs": [
    {
     "data": {
      "text/plain": "['42', '7']"
     },
     "execution_count": 43,
     "metadata": {},
     "output_type": "execute_result"
    }
   ],
   "source": [
    "# workaround for case 2 without lookarounds\n",
    "# get digits only if they are preceded by a word starting with 'p' or 'd'\n",
    "re.findall(r'\\b[pd][a-z]*(\\d+)', s)"
   ],
   "metadata": {
    "collapsed": false,
    "pycharm": {
     "name": "#%%\n"
    }
   }
  },
  {
   "cell_type": "code",
   "execution_count": null,
   "outputs": [],
   "source": [
    "# not allowed case 3: '\\A'는 길이가 없는 anchor이므로 ','과 길이가 달라\n",
    "# 패턴 전체로 보면 0인지 1인지 미정인 상태가 된다.\n",
    "re.sub(r'(?<=\\A|,)(?=,|\\Z)', 'NA', ',1,,,two,3,,,')\n",
    "# re.error: look-behind requires fixed-width pattern"
   ],
   "metadata": {
    "collapsed": false,
    "pycharm": {
     "name": "#%%\n"
    }
   }
  },
  {
   "cell_type": "code",
   "execution_count": 28,
   "outputs": [
    {
     "data": {
      "text/plain": "'NA,1,NA,NA,two,3,NA,NA,NA'"
     },
     "execution_count": 28,
     "metadata": {},
     "output_type": "execute_result"
    }
   ],
   "source": [
    "# workaround for case 3\n",
    "re.sub(r'((?<=\\A)|(?<=,))(?=,|\\Z)', 'NA', ',1,,,two,3,,,')"
   ],
   "metadata": {
    "collapsed": false,
    "pycharm": {
     "name": "#%%\n"
    }
   }
  },
  {
   "cell_type": "code",
   "execution_count": 42,
   "outputs": [
    {
     "data": {
      "text/plain": "'pore42 tar dare care5'"
     },
     "execution_count": 42,
     "metadata": {},
     "output_type": "execute_result"
    }
   ],
   "source": [
    "# delete digits only if they are preceded by 'tar' or 'dare'\n",
    "re.sub(r'(tar|dare)\\d+', r'\\1', 'pore42 tar3 dare7 care5')"
   ],
   "metadata": {
    "collapsed": false,
    "pycharm": {
     "name": "#%%\n"
    }
   }
  },
  {
   "cell_type": "code",
   "execution_count": null,
   "outputs": [],
   "source": [
    "# delete digits only if they are preceded by a word starting with 'p' or 'd'\n",
    "re.sub(r'(\\b[pd][a-z]*)\\d+', r'\\1', s)\n",
    "# 'pore tar3 dare care5'"
   ],
   "metadata": {
    "collapsed": false,
    "pycharm": {
     "name": "#%%\n"
    }
   }
  },
  {
   "cell_type": "markdown",
   "source": [
    "# Negated groups"
   ],
   "metadata": {
    "collapsed": false,
    "pycharm": {
     "name": "#%% md\n"
    }
   }
  },
  {
   "cell_type": "code",
   "execution_count": 44,
   "outputs": [
    {
     "data": {
      "text/plain": "False"
     },
     "execution_count": 44,
     "metadata": {},
     "output_type": "execute_result"
    }
   ],
   "source": [
    "# note the use of \\A anchor to force matching all characters up to 'dog'\n",
    "bool(re.search(r'\\A((?!cat).)*dog', 'fox,cat,dog,parrot'))\n",
    "# 'dog'까지 가다 중간에 'cat'을 만나 탐색 실패."
   ],
   "metadata": {
    "collapsed": false,
    "pycharm": {
     "name": "#%%\n"
    }
   }
  },
  {
   "cell_type": "code",
   "execution_count": 45,
   "outputs": [
    {
     "data": {
      "text/plain": "<re.Match object; span=(0, 11), match='fox,cat,dog'>"
     },
     "execution_count": 45,
     "metadata": {},
     "output_type": "execute_result"
    }
   ],
   "source": [
    "re.search(r'\\A((?!parrot).)*dog', 'fox,cat,dog,parrot')  # 'fox,cat,dog'"
   ],
   "metadata": {
    "collapsed": false,
    "pycharm": {
     "name": "#%%\n"
    }
   }
  },
  {
   "cell_type": "code",
   "execution_count": 49,
   "outputs": [
    {
     "data": {
      "text/plain": "<re.Match object; span=(5, 11), match='at,dog'>"
     },
     "execution_count": 49,
     "metadata": {},
     "output_type": "execute_result"
    }
   ],
   "source": [
    "# '\\A'가 없어 검색 성공.\n",
    "re.search(r'((?!cat).)*dog', 'fox,cat,dog,parrot')"
   ],
   "metadata": {
    "collapsed": false,
    "pycharm": {
     "name": "#%%\n"
    }
   }
  },
  {
   "cell_type": "code",
   "execution_count": 52,
   "outputs": [
    {
     "data": {
      "text/plain": "'fox,'"
     },
     "execution_count": 52,
     "metadata": {},
     "output_type": "execute_result"
    }
   ],
   "source": [
    "# easier to understand by checking matched portion\n",
    "re.search(r'\\A((?!cat).)*', 'fox,cat,dog,parrot')[0]"
   ],
   "metadata": {
    "collapsed": false,
    "pycharm": {
     "name": "#%%\n"
    }
   }
  },
  {
   "cell_type": "code",
   "execution_count": 53,
   "outputs": [
    {
     "data": {
      "text/plain": "'fox,cat,dog,'"
     },
     "execution_count": 53,
     "metadata": {},
     "output_type": "execute_result"
    }
   ],
   "source": [
    "re.search(r'\\A((?!parrot).)*', 'fox,cat,dog,parrot')[0]"
   ],
   "metadata": {
    "collapsed": false,
    "pycharm": {
     "name": "#%%\n"
    }
   }
  },
  {
   "cell_type": "code",
   "execution_count": 54,
   "outputs": [
    {
     "data": {
      "text/plain": "'fox,cat,dog,pa'"
     },
     "execution_count": 54,
     "metadata": {},
     "output_type": "execute_result"
    }
   ],
   "source": [
    "re.search(r'''\n",
    "            \\A(    # \\2\n",
    "            (?!\n",
    "            (.)\\2\n",
    "            ).\n",
    "            )*\n",
    "            ''',\n",
    "          'fox,cat,dog,parrot',\n",
    "          flags=re.X)[0]"
   ],
   "metadata": {
    "collapsed": false,
    "pycharm": {
     "name": "#%%\n"
    }
   }
  },
  {
   "cell_type": "code",
   "execution_count": 56,
   "outputs": [
    {
     "data": {
      "text/plain": "False"
     },
     "execution_count": 56,
     "metadata": {},
     "output_type": "execute_result"
    }
   ],
   "source": [
    "# match if 'do' is not there between 'at' and 'par'\n",
    "bool(re.search(r'at((?!do).)*par', 'fox,cat,dog,parrot'))\n",
    "# 'fox,cat,dog,parrot'"
   ],
   "metadata": {
    "collapsed": false,
    "pycharm": {
     "name": "#%%\n"
    }
   }
  },
  {
   "cell_type": "code",
   "execution_count": 57,
   "outputs": [
    {
     "data": {
      "text/plain": "<re.Match object; span=(5, 15), match='at,dog,par'>"
     },
     "execution_count": 57,
     "metadata": {},
     "output_type": "execute_result"
    }
   ],
   "source": [
    "# match if 'go' is not there between 'at' and 'par'\n",
    "re.search(r'''at\n",
    "            ((?!go).)*\n",
    "            par''',\n",
    "          'fox,cat,dog,parrot',\n",
    "          flags=re.X)"
   ],
   "metadata": {
    "collapsed": false,
    "pycharm": {
     "name": "#%%\n"
    }
   }
  },
  {
   "cell_type": "code",
   "execution_count": 58,
   "outputs": [
    {
     "data": {
      "text/plain": "['at,baz', 'ad-z']"
     },
     "execution_count": 58,
     "metadata": {},
     "output_type": "execute_result"
    }
   ],
   "source": [
    "# use non-capturing group if required\n",
    "re.findall(r'a(?:(?!\\d).)*z', 'at,baz,a2z,bad-zoo')"
   ],
   "metadata": {
    "collapsed": false,
    "pycharm": {
     "name": "#%%\n"
    }
   }
  },
  {
   "cell_type": "markdown",
   "source": [
    "# Exercises"
   ],
   "metadata": {
    "collapsed": false,
    "pycharm": {
     "name": "#%% md\n"
    }
   }
  },
  {
   "cell_type": "code",
   "execution_count": null,
   "outputs": [],
   "source": [
    "# E1. Replace all whole words with 'X' unless it is preceded by '(' character.\n",
    "ip = '(apple) guava berry) apple (mango) (grape'"
   ],
   "metadata": {
    "collapsed": false,
    "pycharm": {
     "name": "#%%\n"
    }
   }
  },
  {
   "cell_type": "code",
   "execution_count": null,
   "outputs": [],
   "source": [
    "# A1\n",
    "# '(apple) X X) X (mango) (grape'"
   ],
   "metadata": {
    "collapsed": false,
    "pycharm": {
     "name": "#%%\n"
    }
   }
  },
  {
   "cell_type": "code",
   "execution_count": null,
   "outputs": [],
   "source": [
    "# E2. Replace all whole words with 'X' unless it is followed by ')' character.\n",
    "ip = '(apple) guava berry) apple (mango) (grape'"
   ],
   "metadata": {
    "collapsed": false,
    "pycharm": {
     "name": "#%%\n"
    }
   }
  },
  {
   "cell_type": "code",
   "execution_count": null,
   "outputs": [],
   "source": [
    "# A2\n",
    "# '(apple) X berry) X (mango) (X'"
   ],
   "metadata": {
    "collapsed": false,
    "pycharm": {
     "name": "#%%\n"
    }
   }
  },
  {
   "cell_type": "code",
   "execution_count": null,
   "outputs": [],
   "source": [
    "# E3. Replace all whole words with 'X' unless it is preceded by '(' or followed\n",
    "# by ')' characters.\n",
    "ip = '(apple) guava berry) apple (mango) (grape'"
   ],
   "metadata": {
    "collapsed": false,
    "pycharm": {
     "name": "#%%\n"
    }
   }
  },
  {
   "cell_type": "code",
   "execution_count": null,
   "outputs": [],
   "source": [
    "# A3\n",
    "# '(apple) X berry) X (mango) (grape'"
   ],
   "metadata": {
    "collapsed": false,
    "pycharm": {
     "name": "#%%\n"
    }
   }
  },
  {
   "cell_type": "code",
   "execution_count": null,
   "outputs": [],
   "source": [
    "# E4. Extract all whole words that do not end with 'e' or 'n'.\n",
    "ip = 'at row on urn e note dust n'"
   ],
   "metadata": {
    "collapsed": false,
    "pycharm": {
     "name": "#%%\n"
    }
   }
  },
  {
   "cell_type": "code",
   "execution_count": null,
   "outputs": [],
   "source": [
    "# A4\n",
    "# ['at', 'row', 'dust']"
   ],
   "metadata": {
    "collapsed": false,
    "pycharm": {
     "name": "#%%\n"
    }
   }
  },
  {
   "cell_type": "code",
   "execution_count": null,
   "outputs": [],
   "source": [
    "# E5. Extract all whole words that do not start with 'a' or 'd' or 'n'.\n",
    "ip = 'at row on urn e note dust n'"
   ],
   "metadata": {
    "collapsed": false,
    "pycharm": {
     "name": "#%%\n"
    }
   }
  },
  {
   "cell_type": "code",
   "execution_count": null,
   "outputs": [],
   "source": [
    "# A5\n",
    "# ['row', 'on', 'urn', 'e']"
   ],
   "metadata": {
    "collapsed": false,
    "pycharm": {
     "name": "#%%\n"
    }
   }
  },
  {
   "cell_type": "code",
   "execution_count": null,
   "outputs": [],
   "source": [
    "# E6. Extract all whole words only if they are followed by ':' or ',' or '-'.\n",
    "ip = 'poke,on=-=so:ink.to/is(vast)ever-sit'"
   ],
   "metadata": {
    "collapsed": false,
    "pycharm": {
     "name": "#%%\n"
    }
   }
  },
  {
   "cell_type": "code",
   "execution_count": null,
   "outputs": [],
   "source": [
    "# A6\n",
    "# ['poke', 'so', 'ever']"
   ],
   "metadata": {
    "collapsed": false,
    "pycharm": {
     "name": "#%%\n"
    }
   }
  },
  {
   "cell_type": "code",
   "execution_count": null,
   "outputs": [],
   "source": [
    "# E7. Extract all whole words only if they are preceded by '=' or '/' or '-'.\n",
    "ip = 'poke,on=-=so:ink.to/is(vast)ever-sit'"
   ],
   "metadata": {
    "collapsed": false,
    "pycharm": {
     "name": "#%%\n"
    }
   }
  },
  {
   "cell_type": "code",
   "execution_count": null,
   "outputs": [],
   "source": [
    "# A7\n",
    "# ['so', 'is', 'sit']"
   ],
   "metadata": {
    "collapsed": false,
    "pycharm": {
     "name": "#%%\n"
    }
   }
  },
  {
   "cell_type": "code",
   "execution_count": null,
   "outputs": [],
   "source": [
    "# E8. Extract all whole words only if they are preceded by '=' or ':' and\n",
    "# followed by ':' or '.'.\n",
    "ip = 'poke,on=-=so:ink.to/is(vast)ever-sit'"
   ],
   "metadata": {
    "collapsed": false,
    "pycharm": {
     "name": "#%%\n"
    }
   }
  },
  {
   "cell_type": "code",
   "execution_count": null,
   "outputs": [],
   "source": [
    "# A8\n",
    "# ['so', 'ink']"
   ],
   "metadata": {
    "collapsed": false,
    "pycharm": {
     "name": "#%%\n"
    }
   }
  },
  {
   "cell_type": "code",
   "execution_count": null,
   "outputs": [],
   "source": [
    "# E9. Extract all whole words only if they are preceded by '=' or ':' or '.' or\n",
    "# '(' or '-' and not followed by '.' or '/'.\n",
    "ip = 'poke,on=-=so:ink.to/is(vast)ever-sit'"
   ],
   "metadata": {
    "collapsed": false,
    "pycharm": {
     "name": "#%%\n"
    }
   }
  },
  {
   "cell_type": "code",
   "execution_count": null,
   "outputs": [],
   "source": [
    "# A9\n",
    "# ['so', 'vast', 'sit']"
   ],
   "metadata": {
    "collapsed": false,
    "pycharm": {
     "name": "#%%\n"
    }
   }
  },
  {
   "cell_type": "code",
   "execution_count": null,
   "outputs": [],
   "source": [
    "# E10. Remove leading and trailing whitespaces from all the individual fields\n",
    "# where ',' is the field separator.\n",
    "csv1 = ' comma  ,separated ,values \\t\\r '\n",
    "csv2 = 'good bad,nice  ice  , 42 , ,   stall   small'"
   ],
   "metadata": {
    "collapsed": false,
    "pycharm": {
     "name": "#%%\n"
    }
   }
  },
  {
   "cell_type": "code",
   "execution_count": null,
   "outputs": [],
   "source": [
    "# A10\n",
    "remove_whitespace = re.compile()\n",
    "# remove_whitespace.sub('', csv1)  # 'comma,separated,values'\n",
    "remove_whitespace.sub('', csv2)  # 'good bad,nice  ice,42,,stall   small'"
   ],
   "metadata": {
    "collapsed": false,
    "pycharm": {
     "name": "#%%\n"
    }
   }
  },
  {
   "cell_type": "code",
   "execution_count": null,
   "outputs": [],
   "source": [
    "# E11. Filter all elements that satisfy all of these rules:\n",
    "#     should have at least two alphabets\n",
    "#     should have at least 3 digits\n",
    "#     should have at least one special character among '%' or '*' or '#' or '$'\n",
    "#     should not end with a whitespace character\n",
    "pwds = ['hunter2', 'F2H3u%9', '*X3Yz3.14\\t', 'r2_d2_42', 'A $B C1234']"
   ],
   "metadata": {
    "collapsed": false,
    "pycharm": {
     "name": "#%%\n"
    }
   }
  },
  {
   "cell_type": "code",
   "execution_count": null,
   "outputs": [],
   "source": [
    "# A11\n",
    "# ['F2H3u%9', 'A $B C1234']"
   ],
   "metadata": {
    "collapsed": false,
    "pycharm": {
     "name": "#%%\n"
    }
   }
  },
  {
   "cell_type": "code",
   "execution_count": null,
   "outputs": [],
   "source": [
    "# E12. For the given string, surround all whole words with '{}' except for\n",
    "# whole words 'par' and 'cat' and 'apple'.\n",
    "ip = 'part; cat {super} rest_42 par scatter apple spar'"
   ],
   "metadata": {
    "collapsed": false,
    "pycharm": {
     "name": "#%%\n"
    }
   }
  },
  {
   "cell_type": "code",
   "execution_count": null,
   "outputs": [],
   "source": [
    "# A12\n",
    "# '{part}; cat {{super}} {rest_42} par {scatter} apple {spar}'"
   ],
   "metadata": {
    "collapsed": false,
    "pycharm": {
     "name": "#%%\n"
    }
   }
  },
  {
   "cell_type": "code",
   "execution_count": null,
   "outputs": [],
   "source": [
    "# E13. Extract integer portion of floating-point numbers for the given string.\n",
    "# A number ending with '.' and no further digits should not be considered.\n",
    "ip = '12 ab32.4 go 5 2. 46.42 5'"
   ],
   "metadata": {
    "collapsed": false,
    "pycharm": {
     "name": "#%%\n"
    }
   }
  },
  {
   "cell_type": "code",
   "execution_count": null,
   "outputs": [],
   "source": [
    "# A13\n",
    "['32', '46']"
   ],
   "metadata": {
    "collapsed": false,
    "pycharm": {
     "name": "#%%\n"
    }
   }
  },
  {
   "cell_type": "code",
   "execution_count": null,
   "outputs": [],
   "source": [
    "# E14. For the given input strings, extract all overlapping two character\n",
    "# sequences.\n",
    "s1 = 'apple'\n",
    "s2 = '1.2-3:4'"
   ],
   "metadata": {
    "collapsed": false,
    "pycharm": {
     "name": "#%%\n"
    }
   }
  },
  {
   "cell_type": "code",
   "execution_count": null,
   "outputs": [],
   "source": [
    "# A14\n",
    "pat = re.compile()\n",
    "# ['ap', 'pp', 'pl', 'le']\n",
    "# ['1.', '.2', '2-', '-3', '3:', ':4']"
   ],
   "metadata": {
    "collapsed": false,
    "pycharm": {
     "name": "#%%\n"
    }
   }
  },
  {
   "cell_type": "code",
   "execution_count": null,
   "outputs": [],
   "source": [
    "# E15. The given input strings contain fields separated by ':' character.\n",
    "# Delete ':' and the last field if there is a digit character anywhere before\n",
    "# the last field.\n",
    "s1 = '42:cat'\n",
    "s2 = 'twelve:a2b'\n",
    "s3 = 'we:be:he:0:a:b:bother'"
   ],
   "metadata": {
    "collapsed": false,
    "pycharm": {
     "name": "#%%\n"
    }
   }
  },
  {
   "cell_type": "code",
   "execution_count": null,
   "outputs": [],
   "source": [
    "# A15\n",
    "pat = re.compile()  ##### add your solution here\n",
    "pat.sub()  # '42'\n",
    "pat.sub()  # 'twelve:a2b'\n",
    "pat.sub()  # 'we:be:he:0:a:b'"
   ],
   "metadata": {
    "collapsed": false,
    "pycharm": {
     "name": "#%%\n"
    }
   }
  },
  {
   "cell_type": "code",
   "execution_count": null,
   "outputs": [],
   "source": [
    "# E16. Extract all whole words unless they are preceded by ':' or '<=>' or\n",
    "# '----' or '#'.\n",
    "ip = '::very--at<=>row|in.a_b#b2c=>lion----east'"
   ],
   "metadata": {
    "collapsed": false,
    "pycharm": {
     "name": "#%%\n"
    }
   }
  },
  {
   "cell_type": "code",
   "execution_count": null,
   "outputs": [],
   "source": [
    "# A16\n",
    "['at', 'in', 'a_b', 'lion']"
   ],
   "metadata": {
    "collapsed": false,
    "pycharm": {
     "name": "#%%\n"
    }
   }
  },
  {
   "cell_type": "code",
   "execution_count": null,
   "outputs": [],
   "source": [
    "# E17. Match strings if it contains 'qty' followed by 'price' but not if there\n",
    "# is whitespace or the string 'error' between them.\n",
    "str1 = '23,qty,price,42'\n",
    "str2 = 'qty price,oh'\n",
    "str3 = '3.14,qty,6,errors,9,price,3'\n",
    "str4 = '42\\nqty-6,apple-56,price-234,error'\n",
    "str5 = '4,price,3.14,qty,4'"
   ],
   "metadata": {
    "collapsed": false,
    "pycharm": {
     "name": "#%%\n"
    }
   }
  },
  {
   "cell_type": "code",
   "execution_count": null,
   "outputs": [],
   "source": [
    "# A17\n",
    "neg = re.compile()\n",
    "bool(neg.search(str1))  # True\n",
    "bool(neg.search(str2))  # False\n",
    "bool(neg.search(str3))  # False\n",
    "bool(neg.search(str4))  # True\n",
    "bool(neg.search(str5))  # False"
   ],
   "metadata": {
    "collapsed": false,
    "pycharm": {
     "name": "#%%\n"
    }
   }
  },
  {
   "cell_type": "code",
   "execution_count": null,
   "outputs": [],
   "source": [
    "# E18. Can you reason out why the output shown is different for these two\n",
    "# regular expressions?\n",
    "ip = 'I have 12, he has 2!'\n",
    "re.sub(r'\\b..\\b', '{\\g<0>}', ip)\n",
    "'{I }have {12}{, }{he} has{ 2}!'\n",
    "re.sub(r'(?<!\\w)..(?!\\w)', '{\\g<0>}', ip)\n",
    "'I have {12}, {he} has {2!}'"
   ],
   "metadata": {
    "collapsed": false,
    "pycharm": {
     "name": "#%%\n"
    }
   }
  }
 ],
 "metadata": {
  "kernelspec": {
   "display_name": "Python 3",
   "language": "python",
   "name": "python3"
  },
  "language_info": {
   "codemirror_mode": {
    "name": "ipython",
    "version": 2
   },
   "file_extension": ".py",
   "mimetype": "text/x-python",
   "name": "python",
   "nbconvert_exporter": "python",
   "pygments_lexer": "ipython2",
   "version": "2.7.6"
  }
 },
 "nbformat": 4,
 "nbformat_minor": 0
}