{
 "cells": [
  {
   "cell_type": "code",
   "execution_count": 2,
   "outputs": [],
   "source": [
    "import re"
   ],
   "metadata": {
    "collapsed": false,
    "pycharm": {
     "name": "#%%\n"
    }
   }
  },
  {
   "cell_type": "markdown",
   "source": [
    "# Match object"
   ],
   "metadata": {
    "collapsed": false,
    "pycharm": {
     "name": "#%% md\n"
    }
   }
  },
  {
   "cell_type": "code",
   "execution_count": 4,
   "outputs": [
    {
     "data": {
      "text/plain": "<re.Match object; span=(0, 3), match='abc'>"
     },
     "execution_count": 4,
     "metadata": {},
     "output_type": "execute_result"
    }
   ],
   "source": [
    "match_object = re.search(r'ab*c', 'abc ac adc abbbc')\n",
    "match_object"
   ],
   "metadata": {
    "collapsed": false,
    "pycharm": {
     "name": "#%%\n"
    }
   }
  },
  {
   "cell_type": "code",
   "execution_count": 7,
   "outputs": [
    {
     "data": {
      "text/plain": "<re.Match object; span=(0, 7), match='1233224'>"
     },
     "execution_count": 7,
     "metadata": {},
     "output_type": "execute_result"
    }
   ],
   "source": [
    "match_object = re.fullmatch(r'1(2|3)*4', '1233224')\n",
    "match_object"
   ],
   "metadata": {
    "collapsed": false,
    "pycharm": {
     "name": "#%%\n"
    }
   }
  },
  {
   "cell_type": "code",
   "execution_count": 9,
   "outputs": [
    {
     "data": {
      "text/plain": "'quit'"
     },
     "execution_count": 9,
     "metadata": {},
     "output_type": "execute_result"
    }
   ],
   "source": [
    "# `span` method.\n",
    "sentence = 'That is quite a fabricated tale.'\n",
    "m = re.search(r'q.*?t', sentence)\n",
    "beg, end = m.span()\n",
    "sentence[beg:end]"
   ],
   "metadata": {
    "collapsed": false,
    "pycharm": {
     "name": "#%%\n"
    }
   }
  },
  {
   "cell_type": "code",
   "execution_count": 13,
   "outputs": [
    {
     "data": {
      "text/plain": "True"
     },
     "execution_count": 13,
     "metadata": {},
     "output_type": "execute_result"
    }
   ],
   "source": [
    "# `group` or indexing can retrieve capture groups as one string.\n",
    "m = re.search(r'b.*d', 'abc ac adc abbbc')\n",
    "m.group() == m[0]  # group() == group(0)"
   ],
   "metadata": {
    "collapsed": false,
    "pycharm": {
     "name": "#%%\n"
    }
   }
  },
  {
   "cell_type": "code",
   "execution_count": 26,
   "outputs": [
    {
     "name": "stdout",
     "output_type": "stream",
     "text": [
      "('bc', 'ac a', 'c abbb')\n"
     ]
    },
    {
     "data": {
      "text/plain": "('c abbb', 'bc')"
     },
     "execution_count": 26,
     "metadata": {},
     "output_type": "execute_result"
    }
   ],
   "source": [
    "# `groups` retrieve the matching capture groups as a list.\n",
    "m = re.fullmatch(r'a(.*?) (.*)d(.*)c', 'abc ac adc abbbc')\n",
    "print(m.groups())  # all captured groups\n",
    "print(m.group(3, 1))  # 3rd, 1st capture group"
   ],
   "metadata": {
    "collapsed": false,
    "pycharm": {
     "name": "#%%\n"
    }
   }
  },
  {
   "cell_type": "code",
   "execution_count": 34,
   "outputs": [
    {
     "name": "stdout",
     "output_type": "stream",
     "text": [
      "(1, 7)\n",
      "(2, 5)\n",
      "2 5\n"
     ]
    },
    {
     "data": {
      "text/plain": "<re.Match object; span=(1, 7), match='wesome'>"
     },
     "execution_count": 34,
     "metadata": {},
     "output_type": "execute_result"
    }
   ],
   "source": [
    "m = re.search(r'w(.*)me', 'awesome')\n",
    "print(fullmatch_span := m.span(0))\n",
    "print(firstmatch_span := m.span(1))\n",
    "\n",
    "print(m.start(1), m.end(1))  # start idx of the 1st group"
   ],
   "metadata": {
    "collapsed": false,
    "pycharm": {
     "name": "#%%\n"
    }
   }
  },
  {
   "cell_type": "code",
   "execution_count": 40,
   "outputs": [
    {
     "name": "stdout",
     "output_type": "stream",
     "text": [
      "The searching subject text: \"This is goodbye then\"\n",
      "The compiled pattern was: re.compile('hi.*bye')\n",
      "The search starts at 1 and ends at15..idea\n"
     ]
    }
   ],
   "source": [
    "pat = re.compile(r'hi.*bye')\n",
    "# pos: 검색 시작 위치(inclusive), endpos: 검색 종료 위치(exclusive)\n",
    "m = pat.search('This is goodbye then', pos=1, endpos=15)\n",
    "\n",
    "print(f'The searching subject text: \"{m.string}\"')\n",
    "print(f'The compiled pattern was: {m.re}')\n",
    "print(f'The search starts at {m.pos} and ends at{m.endpos}..idea')"
   ],
   "metadata": {
    "collapsed": false,
    "pycharm": {
     "name": "#%%\n"
    }
   }
  },
  {
   "cell_type": "code",
   "execution_count": 41,
   "outputs": [
    {
     "name": "stdout",
     "output_type": "stream",
     "text": [
      "fruit\n",
      "month: 04, year: 2020\n"
     ]
    }
   ],
   "source": [
    "# Assignment expression(walrus operator)\n",
    "text = ['type: fruit', 'date: 2020/04/28']\n",
    "for ip in text:\n",
    "    if m := re.search(r'type: (.*)', ip):\n",
    "        print(m[1])\n",
    "    elif m := re.search(r'date: (.*?)/(.*?)/', ip):\n",
    "        print(f'month: {m[2]}, year: {m[1]}')"
   ],
   "metadata": {
    "collapsed": false,
    "pycharm": {
     "name": "#%%\n"
    }
   }
  },
  {
   "cell_type": "code",
   "execution_count": 46,
   "outputs": [
    {
     "data": {
      "text/plain": "'A^2 + B^2 - C*3'"
     },
     "execution_count": 46,
     "metadata": {},
     "output_type": "execute_result"
    }
   ],
   "source": [
    "# Replace the matched strings by a function.\n",
    "# The function must have a return value in `str`.\n",
    "re.sub(r'(a|b)\\^2',  # pattern\n",
    "       lambda m: m[0].upper(),  # repl\n",
    "       'a^2 + b^2 - C*3')  # string"
   ],
   "metadata": {
    "collapsed": false,
    "pycharm": {
     "name": "#%%\n"
    }
   }
  },
  {
   "cell_type": "code",
   "execution_count": 48,
   "outputs": [
    {
     "data": {
      "text/plain": "'a^4 + b^4 - C*9'"
     },
     "execution_count": 48,
     "metadata": {},
     "output_type": "execute_result"
    }
   ],
   "source": [
    "re.sub(r'2|3',\n",
    "       lambda m: str(int(m[0]) ** 2),\n",
    "       'a^2 + b^2 - C*3')"
   ],
   "metadata": {
    "collapsed": false,
    "pycharm": {
     "name": "#%%\n"
    }
   }
  },
  {
   "cell_type": "code",
   "execution_count": 49,
   "outputs": [
    {
     "data": {
      "text/plain": "'9two3four0onetwo'"
     },
     "execution_count": 49,
     "metadata": {},
     "output_type": "execute_result"
    }
   ],
   "source": [
    "d = {'1': 'one', '2': 'two', '4': 'four'}\n",
    "re.sub(r'1|2|4', lambda m: d[m[0]], '9234012')"
   ],
   "metadata": {
    "collapsed": false,
    "pycharm": {
     "name": "#%%\n"
    }
   }
  },
  {
   "cell_type": "code",
   "execution_count": 50,
   "outputs": [
    {
     "data": {
      "text/plain": "'tiger cat dog cat tiger'"
     },
     "execution_count": 50,
     "metadata": {},
     "output_type": "execute_result"
    }
   ],
   "source": [
    "# Swapping technique\n",
    "swap = {'cat': 'tiger', 'tiger': 'cat'}\n",
    "words = 'cat tiger dog tiger cat'\n",
    "re.sub(r'cat|tiger', lambda m: swap[m[0]], words)"
   ],
   "metadata": {
    "collapsed": false,
    "pycharm": {
     "name": "#%%\n"
    }
   }
  },
  {
   "cell_type": "code",
   "execution_count": 51,
   "outputs": [
    {
     "name": "stdout",
     "output_type": "stream",
     "text": [
      "handful|handy|hand|a\\^b\n",
      "3 1 pin 2 (4)\n"
     ]
    }
   ],
   "source": [
    "# note that numbers have been converted to strings here\n",
    "# otherwise, you'd need to convert it in the lambda code\n",
    "d = {'hand': '1', 'handy': '2', 'handful': '3', 'a^b': '4'}\n",
    "\n",
    "# sort the keys to handle precedence rules\n",
    "words = sorted(d.keys(), key=len, reverse=True)\n",
    "# add anchors and flags if needed\n",
    "pat = re.compile('|'.join(re.escape(s) for s in words))\n",
    "print(pat.pattern)\n",
    "print(pat.sub(lambda m: d[m[0]], 'handful hand pin handy (a^b)'))\n",
    "# Consider using flashtext if too many K-V pairs in a dict:\n",
    "# https://github.com/vi3k6i5/flashtext"
   ],
   "metadata": {
    "collapsed": false,
    "pycharm": {
     "name": "#%%\n"
    }
   }
  },
  {
   "cell_type": "markdown",
   "source": [
    "# findall"
   ],
   "metadata": {
    "collapsed": false,
    "pycharm": {
     "name": "#%% md\n"
    }
   }
  },
  {
   "cell_type": "code",
   "execution_count": 56,
   "outputs": [
    {
     "data": {
      "text/plain": "['abc', 'abbbc']"
     },
     "execution_count": 56,
     "metadata": {},
     "output_type": "execute_result"
    }
   ],
   "source": [
    "print(re.findall(r'ab*c', 'abc ac adc abbbc'))  # 모든 일치 부분을 찾는다.\n",
    "print(re.findall(r'ab+c', 'abc ac adc abbbc'))"
   ],
   "metadata": {
    "collapsed": false,
    "pycharm": {
     "name": "#%%\n"
    }
   }
  },
  {
   "cell_type": "code",
   "execution_count": 58,
   "outputs": [
    {
     "name": "stdout",
     "output_type": "stream",
     "text": [
      "['that is quite a fabricated ta']\n",
      "['tha', 't is quite a', 'ted ta']\n"
     ]
    }
   ],
   "source": [
    "not_intended = re.findall(r't.*a', 'that is quite a fabricated tale.')\n",
    "intended = re.findall(r't.*?a', 'that is quite a fabricated tale.')\n",
    "print(not_intended)\n",
    "print(intended)"
   ],
   "metadata": {
    "collapsed": false,
    "pycharm": {
     "name": "#%%\n"
    }
   }
  },
  {
   "cell_type": "code",
   "execution_count": 61,
   "outputs": [
    {
     "name": "stdout",
     "output_type": "stream",
     "text": [
      "['abc', 'ac', 'abbc', 'abbbc', 'abbbbbc']\n",
      "['b', '', 'bb', 'bbb', 'bbbbb']\n",
      "[('2020', '04', '25'), ('1986', 'Mar', '02')]\n"
     ]
    }
   ],
   "source": [
    "# 0 capture group\n",
    "case1 = re.findall(r'ab*c', 'abc ac adc abbc xabbbcz bbb bc abbbbbc')\n",
    "# 1 capture group\n",
    "case2 = re.findall(r'a(b*)c', 'abc ac adc abbc xabbbcz bbb bc abbbbbc')\n",
    "# 2 or more than capture groups\n",
    "case3 = re.findall(r'(.*?)/(.*?)/(.*?),', '2020/04/25,1986/Mar/02,77/12/31')\n",
    "\n",
    "print(case1)\n",
    "print(case2)  # 패턴 전체가 아닌, '()'로 묶인 그룹 부분만 나열.\n",
    "print(case3)  # List[Tuple[str]], str은 각 그룹에 대응하는 문자열."
   ],
   "metadata": {
    "collapsed": false,
    "pycharm": {
     "name": "#%%\n"
    }
   }
  },
  {
   "cell_type": "markdown",
   "source": [
    "# finditer"
   ],
   "metadata": {
    "collapsed": false,
    "pycharm": {
     "name": "#%% md\n"
    }
   }
  },
  {
   "cell_type": "code",
   "execution_count": 62,
   "outputs": [
    {
     "name": "stdout",
     "output_type": "stream",
     "text": [
      "<re.Match object; span=(0, 3), match='abc'>\n",
      "<re.Match object; span=(11, 16), match='abbbc'>\n"
     ]
    }
   ],
   "source": [
    "m_iter = re.finditer(r'ab+c', 'abc ac adc abbbc')\n",
    "for m in m_iter:\n",
    "    print(m)"
   ],
   "metadata": {
    "collapsed": false,
    "pycharm": {
     "name": "#%%\n"
    }
   }
  },
  {
   "cell_type": "markdown",
   "source": [
    "# `split` 과 capture group\n",
    "1. 패턴대로 문자열을 쪼갠다.\n",
    "2. 1 중에서 그룹에 의해 쪼개진 문자열 내에서 그룹이 아닌 부분을 제외한다.\n",
    "3. 2의 단계에서 보던 문자열을 그룹별로 쪼갠다."
   ],
   "metadata": {
    "collapsed": false,
    "pycharm": {
     "name": "#%% md\n"
    }
   }
  },
  {
   "cell_type": "code",
   "execution_count": 64,
   "outputs": [
    {
     "name": "stdout",
     "output_type": "stream",
     "text": [
      "['3', '5', '6']\n",
      "['3', '11111111112', '5', '111142', '6']\n"
     ]
    }
   ],
   "source": [
    "# pattern without capture group\n",
    "case1 = re.split(r'1*4?2', '31111111111251111426')\n",
    "# pattern with capture group\n",
    "case2 = re.split(r'(1*4?2)', '31111111111251111426')\n",
    "print(case1)\n",
    "print(case2)"
   ],
   "metadata": {
    "collapsed": false,
    "pycharm": {
     "name": "#%%\n"
    }
   }
  },
  {
   "cell_type": "code",
   "execution_count": 65,
   "outputs": [
    {
     "data": {
      "text/plain": "['3', '1111111111', '5', '1111', '6']"
     },
     "execution_count": 65,
     "metadata": {},
     "output_type": "execute_result"
    }
   ],
   "source": [
    "# here 4?2 is outside capture group, so that portion won't be in output\n",
    "re.split(r'(1*)4?2', '31111111111251111426')\n",
    "# matched: 3, 11111111112, 5, 111142, 6"
   ],
   "metadata": {
    "collapsed": false,
    "pycharm": {
     "name": "#%%\n"
    }
   }
  },
  {
   "cell_type": "code",
   "execution_count": 66,
   "outputs": [
    {
     "data": {
      "text/plain": "['3.14', 'aa', 'ccc', '42']"
     },
     "execution_count": 66,
     "metadata": {},
     "output_type": "execute_result"
    }
   ],
   "source": [
    "# multiple capture groups example\n",
    "# note that the portion matched by b+ isn't present in the output\n",
    "re.split(r'(a+)b+(c+)', '3.14aabccc42')\n",
    "# matched: 3.14, 'aabccc', 42"
   ],
   "metadata": {
    "collapsed": false,
    "pycharm": {
     "name": "#%%\n"
    }
   }
  },
  {
   "cell_type": "code",
   "execution_count": 67,
   "outputs": [
    {
     "data": {
      "text/plain": "['3', '1111111111', None, '5', '1111', '4', '6']"
     },
     "execution_count": 67,
     "metadata": {},
     "output_type": "execute_result"
    }
   ],
   "source": [
    "# here (4)? matches zero times on the first occasion\n",
    "re.split(r'(1*)(4)?2', '31111111111251111426')\n",
    "# matched: 3, '11111111112', 5, '111142', 6"
   ],
   "metadata": {
    "collapsed": false,
    "pycharm": {
     "name": "#%%\n"
    }
   }
  },
  {
   "cell_type": "markdown",
   "source": [
    "# subn"
   ],
   "metadata": {
    "collapsed": false,
    "pycharm": {
     "name": "#%% md\n"
    }
   }
  },
  {
   "cell_type": "code",
   "execution_count": 69,
   "outputs": [
    {
     "data": {
      "text/plain": "'HavE a nicE wEEkEnd'"
     },
     "execution_count": 69,
     "metadata": {},
     "output_type": "execute_result"
    }
   ],
   "source": [
    "greeting = 'Have a nice weekend'\n",
    "\n",
    "re.sub(r'e', 'E', greeting)"
   ],
   "metadata": {
    "collapsed": false,
    "pycharm": {
     "name": "#%%\n"
    }
   }
  },
  {
   "cell_type": "code",
   "execution_count": 70,
   "outputs": [
    {
     "data": {
      "text/plain": "('HavE a nicE wEEkEnd', 5)"
     },
     "execution_count": 70,
     "metadata": {},
     "output_type": "execute_result"
    }
   ],
   "source": [
    "# with `re.subn`, you can infer that 5 substitutions were made\n",
    "re.subn(r'e', 'E', greeting)  # (replaced_string, times_replaced)"
   ],
   "metadata": {
    "collapsed": false,
    "pycharm": {
     "name": "#%%\n"
    }
   }
  },
  {
   "cell_type": "code",
   "execution_count": 71,
   "outputs": [
    {
     "name": "stdout",
     "output_type": "stream",
     "text": [
      "cog\n"
     ]
    }
   ],
   "source": [
    "word = 'coffining'\n",
    "# recursively delete 'fin'\n",
    "while True:\n",
    "    word, cnt = re.subn(r'fin', '', word)\n",
    "    if cnt == 0:\n",
    "        break\n",
    "print(word)"
   ],
   "metadata": {
    "collapsed": false,
    "pycharm": {
     "name": "#%%\n"
    }
   }
  },
  {
   "cell_type": "markdown",
   "source": [
    "# Exercises"
   ],
   "metadata": {
    "collapsed": false,
    "pycharm": {
     "name": "#%% md\n"
    }
   }
  },
  {
   "cell_type": "code",
   "execution_count": 73,
   "outputs": [],
   "source": [
    "# E1. For the given strings, extract the matching portion from first 'is' to last 't'.\n",
    "str1 = 'This the biggest fruit you have seen?'\n",
    "str2 = 'Your mission is to read and practice consistently'"
   ],
   "metadata": {
    "collapsed": false,
    "pycharm": {
     "name": "#%%\n"
    }
   }
  },
  {
   "cell_type": "code",
   "execution_count": 80,
   "outputs": [
    {
     "name": "stdout",
     "output_type": "stream",
     "text": [
      "is the biggest fruit\n",
      "ission is to read and practice consistent\n"
     ]
    }
   ],
   "source": [
    "# A1\n",
    "pat = re.compile(r'is.*t')\n",
    "print(pat.search(str1).group())  # s1: 'is the biggest fruit'\n",
    "print(pat.search(str2).group())  # s2: 'ission is to read and practice consistent'"
   ],
   "metadata": {
    "collapsed": false,
    "pycharm": {
     "name": "#%%\n"
    }
   }
  },
  {
   "cell_type": "code",
   "execution_count": 102,
   "outputs": [],
   "source": [
    "# E2. Find the starting index of first occurrence of 'is' or 'the' or 'was' or\n",
    "# 'to' for the given input strings.\n",
    "s1 = 'match after the last newline character'\n",
    "s2 = 'and then you want to test'\n",
    "s3 = 'this is good bye then'\n",
    "s4 = 'who was there to see?'"
   ],
   "metadata": {
    "collapsed": false,
    "pycharm": {
     "name": "#%%\n"
    }
   }
  },
  {
   "cell_type": "code",
   "execution_count": 106,
   "outputs": [
    {
     "name": "stdout",
     "output_type": "stream",
     "text": [
      "12 4 2 4\n"
     ]
    }
   ],
   "source": [
    "# A2\n",
    "pat = re.compile(r'was|the|is|to')\n",
    "start1, _ = pat.search(s1).span()  # 12\n",
    "start2, _ = pat.search(s2).span()  # 4\n",
    "start3, _ = pat.search(s3).span()  # 2\n",
    "start4, _ = pat.search(s4).span()  # 4\n",
    "print(start1, start2, start3, start4)"
   ],
   "metadata": {
    "collapsed": false,
    "pycharm": {
     "name": "#%%\n"
    }
   }
  },
  {
   "cell_type": "code",
   "execution_count": 104,
   "outputs": [],
   "source": [
    "# E3. Find the starting index of last occurrence of 'is' or 'the' or 'was' or\n",
    "# 'to' for the given input strings.\n",
    "s1 = 'match after the last newline character'\n",
    "s2 = 'and then you want to test'\n",
    "s3 = 'this is good bye then'\n",
    "s4 = 'who was there to see?'"
   ],
   "metadata": {
    "collapsed": false,
    "pycharm": {
     "name": "#%%\n"
    }
   }
  },
  {
   "cell_type": "code",
   "execution_count": 121,
   "outputs": [
    {
     "name": "stdout",
     "output_type": "stream",
     "text": [
      "12 18 17 14\n"
     ]
    }
   ],
   "source": [
    "# A3\n",
    "pat = re.compile(r'was|the|is|to')\n",
    "start1, _ = [_ for _ in pat.finditer(s1)][-1].span()  # 12\n",
    "start2, _ = [_ for _ in pat.finditer(s2)][-1].span()  # 18\n",
    "start3, _ = [_ for _ in pat.finditer(s3)][-1].span()  # 17\n",
    "start4, _ = [_ for _ in pat.finditer(s4)][-1].span()  # 14\n",
    "print(start1, start2, start3, start4)"
   ],
   "metadata": {
    "collapsed": false,
    "pycharm": {
     "name": "#%%\n"
    }
   }
  },
  {
   "cell_type": "code",
   "execution_count": 122,
   "outputs": [],
   "source": [
    "# E4. The given input string contains ':' exactly once.\n",
    "# Extract all characters after the ':' as output.\n",
    "ip = 'fruits:apple, mango, guava, blueberry'"
   ],
   "metadata": {
    "collapsed": false,
    "pycharm": {
     "name": "#%%\n"
    }
   }
  },
  {
   "cell_type": "code",
   "execution_count": 125,
   "outputs": [
    {
     "data": {
      "text/plain": "'apple, mango, guava, blueberry'"
     },
     "execution_count": 125,
     "metadata": {},
     "output_type": "execute_result"
    }
   ],
   "source": [
    "# A4\n",
    "start, _ = re.search(r':.*', ip).span()\n",
    "ip[start + 1:]  # 'apple, mango, guava, blueberry'"
   ],
   "metadata": {
    "collapsed": false,
    "pycharm": {
     "name": "#%%\n"
    }
   }
  },
  {
   "cell_type": "code",
   "execution_count": 126,
   "outputs": [],
   "source": [
    "# E5. The given input strings contains some text followed by '-' followed by a\n",
    "# number. Replace that number with its log value using `math.log()`.\n",
    "s1 = 'first-3.14'\n",
    "s2 = 'next-123'"
   ],
   "metadata": {
    "collapsed": false,
    "pycharm": {
     "name": "#%%\n"
    }
   }
  },
  {
   "cell_type": "code",
   "execution_count": 154,
   "outputs": [
    {
     "name": "stdout",
     "output_type": "stream",
     "text": [
      "first-1.144222799920162 \n",
      " next-4.812184355372417\n"
     ]
    }
   ],
   "source": [
    "# A5\n",
    "import math\n",
    "\n",
    "pat = re.compile(r'-.+')\n",
    "replaced1 = pat.sub(lambda m: '-' + str(math.log(float(m.group()[1:]))),\n",
    "        s1)  # 'first-1.144222799920162'\n",
    "replaced2 = pat.sub(lambda m: '-' + str(math.log(float(m.group()[1:]))),\n",
    "        s2)  # 'next-4.812184355372417'\n",
    "print(replaced1, '\\n', replaced2)"
   ],
   "metadata": {
    "collapsed": false,
    "pycharm": {
     "name": "#%%\n"
    }
   }
  },
  {
   "cell_type": "code",
   "execution_count": 162,
   "outputs": [],
   "source": [
    "# E7. Replace all occurrences of 'par' with 'spar', 'spare' with 'extra' and\n",
    "# 'park' with 'garden' for the given input strings.\n",
    "str1 = 'apartment has a park'\n",
    "str2 = 'do you have a spare cable'\n",
    "str3 = 'write a parser'"
   ],
   "metadata": {
    "collapsed": false,
    "pycharm": {
     "name": "#%%\n"
    }
   }
  },
  {
   "cell_type": "code",
   "execution_count": 165,
   "outputs": [
    {
     "name": "stdout",
     "output_type": "stream",
     "text": [
      "aspartment has a garden\n",
      "do you have a extra cable\n",
      "write a sparser\n"
     ]
    }
   ],
   "source": [
    "# A7\n",
    "repl = {\n",
    "    'par': 'spar',\n",
    "    'spare': 'extra',\n",
    "    'park': 'garden'\n",
    "}\n",
    "\n",
    "def replace(m:re.Match):\n",
    "    return repl[m[0]]\n",
    "\n",
    "pat = re.compile(r'spare|park|par')\n",
    "print(pat.sub(replace, str1))  # 'aspartment has a garden'\n",
    "print(pat.sub(replace, str2))  # 'do you have a extra cable'\n",
    "print(pat.sub(replace, str3))  # 'write a sparser'"
   ],
   "metadata": {
    "collapsed": false,
    "pycharm": {
     "name": "#%%\n"
    }
   }
  },
  {
   "cell_type": "code",
   "execution_count": 156,
   "outputs": [],
   "source": [
    "# E8. Extract all words between '(' and ')' from the given input string as a\n",
    "# list. Assume that the input will not contain any broken parentheses.\n",
    "ip = 'another (way) to reuse (portion) matched (by) capture groups'"
   ],
   "metadata": {
    "collapsed": false,
    "pycharm": {
     "name": "#%%\n"
    }
   }
  },
  {
   "cell_type": "code",
   "execution_count": 169,
   "outputs": [
    {
     "data": {
      "text/plain": "['way', 'portion', 'by']"
     },
     "execution_count": 169,
     "metadata": {},
     "output_type": "execute_result"
    }
   ],
   "source": [
    "# A8\n",
    "re.findall(r'\\((.*?)\\)', ip)  # ['way', 'portion', 'by']"
   ],
   "metadata": {
    "collapsed": false,
    "pycharm": {
     "name": "#%%\n"
    }
   }
  },
  {
   "cell_type": "code",
   "execution_count": 171,
   "outputs": [],
   "source": [
    "# E9. Extract all occurrences of '<' up to next occurrence of '>',\n",
    "# provided there is at least one character in between '<' and '>'.\n",
    "ip = 'a<apple> 1<> b<bye> 2<> c<cat>'"
   ],
   "metadata": {
    "collapsed": false,
    "pycharm": {
     "name": "#%%\n"
    }
   }
  },
  {
   "cell_type": "code",
   "execution_count": 175,
   "outputs": [
    {
     "data": {
      "text/plain": "['<apple>', '<> b<bye>', '<> c<cat>']"
     },
     "execution_count": 175,
     "metadata": {},
     "output_type": "execute_result"
    }
   ],
   "source": [
    "# A9\n",
    "re.findall(r'<.+?>', ip)  # ['<apple>', '<> b<bye>', '<> c<cat>']"
   ],
   "metadata": {
    "collapsed": false,
    "pycharm": {
     "name": "#%%\n"
    }
   }
  },
  {
   "cell_type": "code",
   "execution_count": 177,
   "outputs": [],
   "source": [
    "# E10. Use `re.findall` to get the output as shown below for the given input\n",
    "# strings. Note the characters used in the input strings carefully.\n",
    "row1 = '-2,5 4,+3 +42,-53 4356246,-357532354 '\n",
    "row2 = '1.32,-3.14 634,5.63 63.3e3,9907809345343.235 '"
   ],
   "metadata": {
    "collapsed": false,
    "pycharm": {
     "name": "#%%\n"
    }
   }
  },
  {
   "cell_type": "code",
   "execution_count": 183,
   "outputs": [
    {
     "name": "stdout",
     "output_type": "stream",
     "text": [
      "[('-2', '5'), ('4', '+3'), ('+42', '-53'), ('4356246', '-357532354')]\n",
      "[('1.32', '-3.14'), ('634', '5.63'), ('63.3e3', '9907809345343.235')]\n"
     ]
    }
   ],
   "source": [
    "# A10\n",
    "pat = re.compile(r'(.+?),(.+?) ')\n",
    "\n",
    "print(pat.findall(row1))  # [('-2', '5'), ('4', '+3'), ('+42', '-53'), ('4356246', '-357532354')]\n",
    "print(pat.findall(row2))  # [('1.32', '-3.14'), ('634', '5.63'), ('63.3e3', '9907809345343.235')]\n"
   ],
   "metadata": {
    "collapsed": false,
    "pycharm": {
     "name": "#%%\n"
    }
   }
  },
  {
   "cell_type": "code",
   "execution_count": null,
   "outputs": [],
   "source": [
    "# E11. This is an extension to previous question.\n",
    "#  - For row1, find the sum of integers of each tuple element.\n",
    "#  For example, sum of -2 and 5 is 3.\n",
    "#  - For row2, find the sum of floating-point numbers of each tuple element.\n",
    "#  For example, sum of 1.32 and -3.14 is -1.82.\n",
    "row1 = '-2,5 4,+3 +42,-53 4356246,-357532354 '\n",
    "row2 = '1.32,-3.14 634,5.63 63.3e3,9907809345343.235 '"
   ],
   "metadata": {
    "collapsed": false,
    "pycharm": {
     "name": "#%%\n"
    }
   }
  },
  {
   "cell_type": "code",
   "execution_count": null,
   "outputs": [],
   "source": [
    "# A11\n",
    "# should be same as previous question\n",
    "pat = re.compile(r'(.+?),(.+?) ')\n",
    "pat.  # [3, 7, -11, -353176108]\n",
    "# [-1.82, 639.63, 9907809408643.234]"
   ],
   "metadata": {
    "collapsed": false,
    "pycharm": {
     "name": "#%%\n"
    }
   }
  },
  {
   "cell_type": "code",
   "execution_count": 184,
   "outputs": [],
   "source": [
    "# E12. Use `re.split` to get the output as shown below.\n",
    "ip = '42:no-output;1000:car-truck;SQEX49801'"
   ],
   "metadata": {
    "collapsed": false,
    "pycharm": {
     "name": "#%%\n"
    }
   }
  },
  {
   "cell_type": "code",
   "execution_count": 192,
   "outputs": [
    {
     "data": {
      "text/plain": "['42', ':', 'no-output', ';', '1000', ':', 'car-truck', ';', 'SQEX49801']"
     },
     "execution_count": 192,
     "metadata": {},
     "output_type": "execute_result"
    }
   ],
   "source": [
    "# A12\n",
    "# ':no-', ';', ':car-' -> ''\n",
    "re.split(r'(:|;).*?-?', ip)  # ['42', 'output', '1000', 'truck', 'SQEX49801']"
   ],
   "metadata": {
    "collapsed": false,
    "pycharm": {
     "name": "#%%\n"
    }
   }
  },
  {
   "cell_type": "code",
   "execution_count": null,
   "outputs": [],
   "source": [
    "# E13. For the given list of strings, change the elements into a tuple of\n",
    "# original element and number of times 't' occurs in that element.\n",
    "words = ['sequoia', 'attest', 'tattletale', 'asset']"
   ],
   "metadata": {
    "collapsed": false,
    "pycharm": {
     "name": "#%%\n"
    }
   }
  },
  {
   "cell_type": "code",
   "execution_count": null,
   "outputs": [],
   "source": [
    "# A13\n",
    "# [('sequoia', 0), ('attest', 3), ('tattletale', 4), ('asset', 1)]"
   ],
   "metadata": {
    "collapsed": false,
    "pycharm": {
     "name": "#%%\n"
    }
   }
  },
  {
   "cell_type": "code",
   "execution_count": 226,
   "outputs": [],
   "source": [
    "# E14. The given input string has fields separated by ':'. Each field contains\n",
    "# four uppercase alphabets followed optionally by two digits. Ignore the last\n",
    "# field, which is empty. See docs.python: Match.groups and use `re.finditer` to\n",
    "# get the output as shown below. If the optional digits aren't present, show\n",
    "# 'NA' instead of `None`.\n",
    "ip = 'TWXA42:JWPA:NTED01:'"
   ],
   "metadata": {
    "collapsed": false,
    "pycharm": {
     "name": "#%%\n"
    }
   }
  },
  {
   "cell_type": "code",
   "execution_count": 232,
   "outputs": [
    {
     "data": {
      "text/plain": "[('TWXA', '42'), ('JWPA', ''), ('NTED', '01')]"
     },
     "execution_count": 232,
     "metadata": {},
     "output_type": "execute_result"
    }
   ],
   "source": [
    "# A14\n",
    "# [('TWXA', '42'), ('JWPA', 'NA'), ('NTED', '01')]\n",
    "[item.groups() for item in re.finditer(r'(.{4})(.*?):', ip)]\n",
    "\n",
    "# Note that this is different from `re.findall` which will just give empty\n",
    "# string instead of `None` when a capture group doesn't participate."
   ],
   "metadata": {
    "collapsed": false,
    "pycharm": {
     "name": "#%%\n"
    }
   }
  },
  {
   "cell_type": "code",
   "execution_count": 209,
   "outputs": [],
   "source": [
    "# E15. Convert the comma separated strings to corresponding dict objects as\n",
    "# shown below.\n",
    "row1 = 'name:rohan,maths:75,phy:89,'\n",
    "row2 = 'name:rose,maths:88,phy:92,'"
   ],
   "metadata": {
    "collapsed": false,
    "pycharm": {
     "name": "#%%\n"
    }
   }
  },
  {
   "cell_type": "code",
   "execution_count": 224,
   "outputs": [
    {
     "name": "stdout",
     "output_type": "stream",
     "text": [
      "{'name': 'rohan', 'maths': '75', 'phy': '89'}\n",
      "{'name': 'rose', 'maths': '88', 'phy': '92'}\n"
     ]
    }
   ],
   "source": [
    "# A15\n",
    "pat = re.compile(r',?(.+?):(.+?)\\b')\n",
    "print(dict(pat.findall(row1)))  # for row1: {'name': 'rohan', 'maths': '75', 'phy': '89'}\n",
    "print(dict(pat.findall(row2)))  # for row1: {'name': 'rose', 'maths': '88', 'phy': '92'}"
   ],
   "metadata": {
    "collapsed": false,
    "pycharm": {
     "name": "#%%\n"
    }
   }
  }
 ],
 "metadata": {
  "kernelspec": {
   "display_name": "Python 3",
   "language": "python",
   "name": "python3"
  },
  "language_info": {
   "codemirror_mode": {
    "name": "ipython",
    "version": 2
   },
   "file_extension": ".py",
   "mimetype": "text/x-python",
   "name": "python",
   "nbconvert_exporter": "python",
   "pygments_lexer": "ipython2",
   "version": "2.7.6"
  }
 },
 "nbformat": 4,
 "nbformat_minor": 0
}